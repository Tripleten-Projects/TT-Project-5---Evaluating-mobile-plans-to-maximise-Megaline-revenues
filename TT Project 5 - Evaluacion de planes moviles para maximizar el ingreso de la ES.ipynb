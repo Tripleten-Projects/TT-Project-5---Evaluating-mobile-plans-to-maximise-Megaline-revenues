{
 "cells": [
  {
   "cell_type": "markdown",
   "metadata": {
    "id": "3rYiDeEH0q0f"
   },
   "source": [
    "# Evaluacion de planes moviles para maximizar el ingreso de la compania Megaline\n",
    "\n",
    "Trabajas como analista para el operador de telecomunicaciones Megaline. La empresa ofrece a sus clientes dos tarifas de prepago, Surf y Ultimate. El departamento comercial quiere saber cuál de las tarifas genera más ingresos para poder ajustar el presupuesto de publicidad.\n",
    "\n",
    "Vas a realizar un análisis preliminar de las tarifas basado en una selección de clientes relativamente pequeña. Tendrás los datos de 500 clientes de Megaline: quiénes son los clientes, de dónde son, qué tarifa usan, así como la cantidad de llamadas que hicieron y los mensajes de texto que enviaron en 2018. Tu trabajo es analizar el comportamiento de los clientes y determinar qué tarifa de prepago genera más ingresos."
   ]
  },
  {
   "cell_type": "markdown",
   "metadata": {
    "id": "MQi4IPy70q0y"
   },
   "source": [
    "# Inicialización"
   ]
  },
  {
   "cell_type": "code",
   "execution_count": 1,
   "metadata": {
    "id": "MtYIuBxu0q0z"
   },
   "outputs": [],
   "source": [
    "# Cargar todas las librerías\n",
    "from scipy import stats as st\n",
    "import numpy as np\n",
    "import pandas as pd\n",
    "from matplotlib import pyplot as plt"
   ]
  },
  {
   "cell_type": "markdown",
   "metadata": {
    "id": "4ysWWC5i0q00"
   },
   "source": [
    "# Cargar datos"
   ]
  },
  {
   "cell_type": "code",
   "execution_count": 2,
   "metadata": {
    "id": "CCqPW7rS0q01"
   },
   "outputs": [],
   "source": [
    "# Carga los archivos de datos en diferentes DataFrames\n",
    "users = pd.read_csv('/datasets/megaline_users.csv', sep = ',')\n",
    "plans = pd.read_csv('/datasets/megaline_plans.csv', sep = ',')\n",
    "messages = pd.read_csv('/datasets/megaline_messages.csv', sep = ',')\n",
    "internet = pd.read_csv('/datasets/megaline_internet.csv', sep = ',')\n",
    "calls = pd.read_csv('/datasets/megaline_calls.csv', sep = ',')"
   ]
  },
  {
   "cell_type": "markdown",
   "metadata": {
    "id": "69qqoJ3r0q01"
   },
   "source": [
    "# Preparar los datos"
   ]
  },
  {
   "cell_type": "markdown",
   "metadata": {
    "id": "vUuZw80S0q01"
   },
   "source": [
    "[Los datos para este proyecto se dividen en varias tablas. Explora cada una para tener una comprensión inicial de los datos. Si es necesario, haz las correcciones requeridas en cada tabla.]"
   ]
  },
  {
   "cell_type": "markdown",
   "metadata": {
    "id": "ohBhimvH0q01"
   },
   "source": [
    "## Tarifas"
   ]
  },
  {
   "cell_type": "code",
   "execution_count": 3,
   "metadata": {
    "id": "GptqP3Q40q02"
   },
   "outputs": [
    {
     "name": "stdout",
     "output_type": "stream",
     "text": [
      "<class 'pandas.core.frame.DataFrame'>\n",
      "RangeIndex: 2 entries, 0 to 1\n",
      "Data columns (total 8 columns):\n",
      " #   Column                 Non-Null Count  Dtype  \n",
      "---  ------                 --------------  -----  \n",
      " 0   messages_included      2 non-null      int64  \n",
      " 1   mb_per_month_included  2 non-null      int64  \n",
      " 2   minutes_included       2 non-null      int64  \n",
      " 3   usd_monthly_pay        2 non-null      int64  \n",
      " 4   usd_per_gb             2 non-null      int64  \n",
      " 5   usd_per_message        2 non-null      float64\n",
      " 6   usd_per_minute         2 non-null      float64\n",
      " 7   plan_name              2 non-null      object \n",
      "dtypes: float64(2), int64(5), object(1)\n",
      "memory usage: 256.0+ bytes\n"
     ]
    }
   ],
   "source": [
    "# Imprime la información general/resumida sobre el DataFrame de las tarifas\n",
    "plans.info()\n"
   ]
  },
  {
   "cell_type": "code",
   "execution_count": 4,
   "metadata": {
    "id": "64xzjwL70q02"
   },
   "outputs": [
    {
     "data": {
      "text/html": [
       "<div>\n",
       "<style scoped>\n",
       "    .dataframe tbody tr th:only-of-type {\n",
       "        vertical-align: middle;\n",
       "    }\n",
       "\n",
       "    .dataframe tbody tr th {\n",
       "        vertical-align: top;\n",
       "    }\n",
       "\n",
       "    .dataframe thead th {\n",
       "        text-align: right;\n",
       "    }\n",
       "</style>\n",
       "<table border=\"1\" class=\"dataframe\">\n",
       "  <thead>\n",
       "    <tr style=\"text-align: right;\">\n",
       "      <th></th>\n",
       "      <th>messages_included</th>\n",
       "      <th>mb_per_month_included</th>\n",
       "      <th>minutes_included</th>\n",
       "      <th>usd_monthly_pay</th>\n",
       "      <th>usd_per_gb</th>\n",
       "      <th>usd_per_message</th>\n",
       "      <th>usd_per_minute</th>\n",
       "      <th>plan_name</th>\n",
       "    </tr>\n",
       "  </thead>\n",
       "  <tbody>\n",
       "    <tr>\n",
       "      <th>0</th>\n",
       "      <td>50</td>\n",
       "      <td>15360</td>\n",
       "      <td>500</td>\n",
       "      <td>20</td>\n",
       "      <td>10</td>\n",
       "      <td>0.03</td>\n",
       "      <td>0.03</td>\n",
       "      <td>surf</td>\n",
       "    </tr>\n",
       "    <tr>\n",
       "      <th>1</th>\n",
       "      <td>1000</td>\n",
       "      <td>30720</td>\n",
       "      <td>3000</td>\n",
       "      <td>70</td>\n",
       "      <td>7</td>\n",
       "      <td>0.01</td>\n",
       "      <td>0.01</td>\n",
       "      <td>ultimate</td>\n",
       "    </tr>\n",
       "  </tbody>\n",
       "</table>\n",
       "</div>"
      ],
      "text/plain": [
       "   messages_included  mb_per_month_included  minutes_included  \\\n",
       "0                 50                  15360               500   \n",
       "1               1000                  30720              3000   \n",
       "\n",
       "   usd_monthly_pay  usd_per_gb  usd_per_message  usd_per_minute plan_name  \n",
       "0               20          10             0.03            0.03      surf  \n",
       "1               70           7             0.01            0.01  ultimate  "
      ]
     },
     "execution_count": 4,
     "metadata": {},
     "output_type": "execute_result"
    }
   ],
   "source": [
    "# Imprime una muestra de los datos para las tarifas\n",
    "plans\n"
   ]
  },
  {
   "cell_type": "markdown",
   "metadata": {
    "id": "R3C05i1l0q03"
   },
   "source": [
    "### Corregir datos"
   ]
  },
  {
   "cell_type": "markdown",
   "metadata": {
    "id": "bIi8StZI0q03"
   },
   "source": [
    "No hay datos por corregir"
   ]
  },
  {
   "cell_type": "markdown",
   "metadata": {
    "id": "LJir7bml0q03"
   },
   "source": [
    "### Enriquecer los datos"
   ]
  },
  {
   "cell_type": "markdown",
   "metadata": {
    "id": "eqADpCfg0q04"
   },
   "source": [
    "No hay datos por enriquecer"
   ]
  },
  {
   "cell_type": "markdown",
   "metadata": {
    "id": "gfcIEuXV0q04"
   },
   "source": [
    "<div class=\"alert alert-block alert-info\">\n",
    "<ol>\n",
    "    <li>Se aprecia que la dataframe muestra los precios y servicios incluidos en los planes Surf y Ultimate.</li>\n",
    "    <li><b>No se requiere corregir ni enriquecer los datos, tampoco se enconto datos ausentes en la dataframe \"plans\".</b></li></ol><a class=\"tocSkip\"></a>\n",
    "</div>"
   ]
  },
  {
   "cell_type": "markdown",
   "metadata": {
    "id": "1n2X6WXf0q04"
   },
   "source": [
    "## Usuarios/as"
   ]
  },
  {
   "cell_type": "code",
   "execution_count": 5,
   "metadata": {
    "id": "2NgjWFqx0q05"
   },
   "outputs": [
    {
     "name": "stdout",
     "output_type": "stream",
     "text": [
      "<class 'pandas.core.frame.DataFrame'>\n",
      "RangeIndex: 500 entries, 0 to 499\n",
      "Data columns (total 8 columns):\n",
      " #   Column      Non-Null Count  Dtype \n",
      "---  ------      --------------  ----- \n",
      " 0   user_id     500 non-null    int64 \n",
      " 1   first_name  500 non-null    object\n",
      " 2   last_name   500 non-null    object\n",
      " 3   age         500 non-null    int64 \n",
      " 4   city        500 non-null    object\n",
      " 5   reg_date    500 non-null    object\n",
      " 6   plan        500 non-null    object\n",
      " 7   churn_date  34 non-null     object\n",
      "dtypes: int64(2), object(6)\n",
      "memory usage: 31.4+ KB\n"
     ]
    }
   ],
   "source": [
    "# Imprime la información general/resumida sobre el DataFrame de usuarios\n",
    "users.info()"
   ]
  },
  {
   "cell_type": "code",
   "execution_count": 6,
   "metadata": {
    "id": "1IN1L9uh0q05"
   },
   "outputs": [
    {
     "data": {
      "text/html": [
       "<div>\n",
       "<style scoped>\n",
       "    .dataframe tbody tr th:only-of-type {\n",
       "        vertical-align: middle;\n",
       "    }\n",
       "\n",
       "    .dataframe tbody tr th {\n",
       "        vertical-align: top;\n",
       "    }\n",
       "\n",
       "    .dataframe thead th {\n",
       "        text-align: right;\n",
       "    }\n",
       "</style>\n",
       "<table border=\"1\" class=\"dataframe\">\n",
       "  <thead>\n",
       "    <tr style=\"text-align: right;\">\n",
       "      <th></th>\n",
       "      <th>user_id</th>\n",
       "      <th>first_name</th>\n",
       "      <th>last_name</th>\n",
       "      <th>age</th>\n",
       "      <th>city</th>\n",
       "      <th>reg_date</th>\n",
       "      <th>plan</th>\n",
       "      <th>churn_date</th>\n",
       "    </tr>\n",
       "  </thead>\n",
       "  <tbody>\n",
       "    <tr>\n",
       "      <th>427</th>\n",
       "      <td>1427</td>\n",
       "      <td>Zofia</td>\n",
       "      <td>Brock</td>\n",
       "      <td>64</td>\n",
       "      <td>Washington-Arlington-Alexandria, DC-VA-MD-WV MSA</td>\n",
       "      <td>2018-01-26</td>\n",
       "      <td>ultimate</td>\n",
       "      <td>NaN</td>\n",
       "    </tr>\n",
       "    <tr>\n",
       "      <th>313</th>\n",
       "      <td>1313</td>\n",
       "      <td>Antoine</td>\n",
       "      <td>Baker</td>\n",
       "      <td>49</td>\n",
       "      <td>San Francisco-Oakland-Berkeley, CA MSA</td>\n",
       "      <td>2018-05-24</td>\n",
       "      <td>surf</td>\n",
       "      <td>NaN</td>\n",
       "    </tr>\n",
       "    <tr>\n",
       "      <th>380</th>\n",
       "      <td>1380</td>\n",
       "      <td>Lajuana</td>\n",
       "      <td>Kelley</td>\n",
       "      <td>35</td>\n",
       "      <td>San Jose-Sunnyvale-Santa Clara, CA MSA</td>\n",
       "      <td>2018-09-04</td>\n",
       "      <td>ultimate</td>\n",
       "      <td>NaN</td>\n",
       "    </tr>\n",
       "    <tr>\n",
       "      <th>166</th>\n",
       "      <td>1166</td>\n",
       "      <td>Kaycee</td>\n",
       "      <td>Bryant</td>\n",
       "      <td>26</td>\n",
       "      <td>Baltimore-Columbia-Towson, MD MSA</td>\n",
       "      <td>2018-05-07</td>\n",
       "      <td>surf</td>\n",
       "      <td>NaN</td>\n",
       "    </tr>\n",
       "    <tr>\n",
       "      <th>297</th>\n",
       "      <td>1297</td>\n",
       "      <td>Nicky</td>\n",
       "      <td>Tucker</td>\n",
       "      <td>51</td>\n",
       "      <td>Los Angeles-Long Beach-Anaheim, CA MSA</td>\n",
       "      <td>2018-08-25</td>\n",
       "      <td>surf</td>\n",
       "      <td>NaN</td>\n",
       "    </tr>\n",
       "    <tr>\n",
       "      <th>415</th>\n",
       "      <td>1415</td>\n",
       "      <td>Rosette</td>\n",
       "      <td>Mendez</td>\n",
       "      <td>56</td>\n",
       "      <td>Boston-Cambridge-Newton, MA-NH MSA</td>\n",
       "      <td>2018-02-27</td>\n",
       "      <td>surf</td>\n",
       "      <td>NaN</td>\n",
       "    </tr>\n",
       "    <tr>\n",
       "      <th>25</th>\n",
       "      <td>1025</td>\n",
       "      <td>Jess</td>\n",
       "      <td>Wilkinson</td>\n",
       "      <td>64</td>\n",
       "      <td>Atlanta-Sandy Springs-Roswell, GA MSA</td>\n",
       "      <td>2018-10-28</td>\n",
       "      <td>ultimate</td>\n",
       "      <td>NaN</td>\n",
       "    </tr>\n",
       "    <tr>\n",
       "      <th>253</th>\n",
       "      <td>1253</td>\n",
       "      <td>Sumiko</td>\n",
       "      <td>Dudley</td>\n",
       "      <td>28</td>\n",
       "      <td>Cleveland-Elyria, OH MSA</td>\n",
       "      <td>2018-08-18</td>\n",
       "      <td>ultimate</td>\n",
       "      <td>NaN</td>\n",
       "    </tr>\n",
       "    <tr>\n",
       "      <th>363</th>\n",
       "      <td>1363</td>\n",
       "      <td>Sandee</td>\n",
       "      <td>Lott</td>\n",
       "      <td>33</td>\n",
       "      <td>Seattle-Tacoma-Bellevue, WA MSA</td>\n",
       "      <td>2018-01-05</td>\n",
       "      <td>ultimate</td>\n",
       "      <td>2018-08-16</td>\n",
       "    </tr>\n",
       "    <tr>\n",
       "      <th>107</th>\n",
       "      <td>1107</td>\n",
       "      <td>Lane</td>\n",
       "      <td>Cash</td>\n",
       "      <td>61</td>\n",
       "      <td>New York-Newark-Jersey City, NY-NJ-PA MSA</td>\n",
       "      <td>2018-11-15</td>\n",
       "      <td>ultimate</td>\n",
       "      <td>NaN</td>\n",
       "    </tr>\n",
       "  </tbody>\n",
       "</table>\n",
       "</div>"
      ],
      "text/plain": [
       "     user_id first_name  last_name  age  \\\n",
       "427     1427      Zofia      Brock   64   \n",
       "313     1313    Antoine      Baker   49   \n",
       "380     1380    Lajuana     Kelley   35   \n",
       "166     1166     Kaycee     Bryant   26   \n",
       "297     1297      Nicky     Tucker   51   \n",
       "415     1415    Rosette     Mendez   56   \n",
       "25      1025       Jess  Wilkinson   64   \n",
       "253     1253     Sumiko     Dudley   28   \n",
       "363     1363     Sandee       Lott   33   \n",
       "107     1107       Lane       Cash   61   \n",
       "\n",
       "                                                 city    reg_date      plan  \\\n",
       "427  Washington-Arlington-Alexandria, DC-VA-MD-WV MSA  2018-01-26  ultimate   \n",
       "313            San Francisco-Oakland-Berkeley, CA MSA  2018-05-24      surf   \n",
       "380            San Jose-Sunnyvale-Santa Clara, CA MSA  2018-09-04  ultimate   \n",
       "166                 Baltimore-Columbia-Towson, MD MSA  2018-05-07      surf   \n",
       "297            Los Angeles-Long Beach-Anaheim, CA MSA  2018-08-25      surf   \n",
       "415                Boston-Cambridge-Newton, MA-NH MSA  2018-02-27      surf   \n",
       "25              Atlanta-Sandy Springs-Roswell, GA MSA  2018-10-28  ultimate   \n",
       "253                          Cleveland-Elyria, OH MSA  2018-08-18  ultimate   \n",
       "363                   Seattle-Tacoma-Bellevue, WA MSA  2018-01-05  ultimate   \n",
       "107         New York-Newark-Jersey City, NY-NJ-PA MSA  2018-11-15  ultimate   \n",
       "\n",
       "     churn_date  \n",
       "427         NaN  \n",
       "313         NaN  \n",
       "380         NaN  \n",
       "166         NaN  \n",
       "297         NaN  \n",
       "415         NaN  \n",
       "25          NaN  \n",
       "253         NaN  \n",
       "363  2018-08-16  \n",
       "107         NaN  "
      ]
     },
     "execution_count": 6,
     "metadata": {},
     "output_type": "execute_result"
    }
   ],
   "source": [
    "# Imprime una muestra de datos para usuarios\n",
    "users.sample(10)\n"
   ]
  },
  {
   "cell_type": "markdown",
   "metadata": {},
   "source": [
    "Existen datos ausentes NaN en la columna \"churn_date\", lo que sisgnifica que la tarifa aun esta vigente para el user_id. Lo que haremos sera reemplazar el valor NaN por el valor numerico 0."
   ]
  },
  {
   "cell_type": "markdown",
   "metadata": {
    "id": "BX5FQh_I0q06"
   },
   "source": [
    "### Corregir los datos"
   ]
  },
  {
   "cell_type": "code",
   "execution_count": 7,
   "metadata": {
    "id": "yUqX-K0C0q07"
   },
   "outputs": [
    {
     "name": "stdout",
     "output_type": "stream",
     "text": [
      "<class 'pandas.core.frame.DataFrame'>\n",
      "RangeIndex: 500 entries, 0 to 499\n",
      "Data columns (total 8 columns):\n",
      " #   Column      Non-Null Count  Dtype \n",
      "---  ------      --------------  ----- \n",
      " 0   user_id     500 non-null    int64 \n",
      " 1   first_name  500 non-null    object\n",
      " 2   last_name   500 non-null    object\n",
      " 3   age         500 non-null    int64 \n",
      " 4   city        500 non-null    object\n",
      " 5   reg_date    500 non-null    object\n",
      " 6   plan        500 non-null    object\n",
      " 7   churn_date  500 non-null    object\n",
      "dtypes: int64(2), object(6)\n",
      "memory usage: 31.4+ KB\n"
     ]
    }
   ],
   "source": [
    "#Filtramos los filas con valores NaN en la colummna \"churn_date\"\n",
    "\n",
    "users[users['churn_date'].isna()]\n",
    "\n",
    "users['churn_date'].fillna(value = 0, inplace = True)\n",
    "users.info()"
   ]
  },
  {
   "cell_type": "markdown",
   "metadata": {
    "id": "ycwuARJp0q07"
   },
   "source": [
    "### Enriquecer los datos"
   ]
  },
  {
   "cell_type": "markdown",
   "metadata": {},
   "source": [
    "Creamos una dataframe llamda \"user_plan\" que almacena las columas 'user_id' y 'plan'"
   ]
  },
  {
   "cell_type": "markdown",
   "metadata": {},
   "source": [
    "Separamos la columna \"city\" para obtener el valor del estado donde viver el user, para una posterior evaluacion en el proyecto."
   ]
  },
  {
   "cell_type": "code",
   "execution_count": 8,
   "metadata": {},
   "outputs": [
    {
     "data": {
      "text/html": [
       "<div>\n",
       "<style scoped>\n",
       "    .dataframe tbody tr th:only-of-type {\n",
       "        vertical-align: middle;\n",
       "    }\n",
       "\n",
       "    .dataframe tbody tr th {\n",
       "        vertical-align: top;\n",
       "    }\n",
       "\n",
       "    .dataframe thead th {\n",
       "        text-align: right;\n",
       "    }\n",
       "</style>\n",
       "<table border=\"1\" class=\"dataframe\">\n",
       "  <thead>\n",
       "    <tr style=\"text-align: right;\">\n",
       "      <th></th>\n",
       "      <th>user_id</th>\n",
       "      <th>first_name</th>\n",
       "      <th>last_name</th>\n",
       "      <th>age</th>\n",
       "      <th>reg_date</th>\n",
       "      <th>plan</th>\n",
       "      <th>churn_date</th>\n",
       "      <th>Ciudad</th>\n",
       "      <th>Estado</th>\n",
       "    </tr>\n",
       "  </thead>\n",
       "  <tbody>\n",
       "    <tr>\n",
       "      <th>0</th>\n",
       "      <td>1000</td>\n",
       "      <td>Anamaria</td>\n",
       "      <td>Bauer</td>\n",
       "      <td>45</td>\n",
       "      <td>2018-12-24</td>\n",
       "      <td>ultimate</td>\n",
       "      <td>0</td>\n",
       "      <td>Atlanta-Sandy Springs-Roswell</td>\n",
       "      <td>GA MSA</td>\n",
       "    </tr>\n",
       "    <tr>\n",
       "      <th>1</th>\n",
       "      <td>1001</td>\n",
       "      <td>Mickey</td>\n",
       "      <td>Wilkerson</td>\n",
       "      <td>28</td>\n",
       "      <td>2018-08-13</td>\n",
       "      <td>surf</td>\n",
       "      <td>0</td>\n",
       "      <td>Seattle-Tacoma-Bellevue</td>\n",
       "      <td>WA MSA</td>\n",
       "    </tr>\n",
       "    <tr>\n",
       "      <th>2</th>\n",
       "      <td>1002</td>\n",
       "      <td>Carlee</td>\n",
       "      <td>Hoffman</td>\n",
       "      <td>36</td>\n",
       "      <td>2018-10-21</td>\n",
       "      <td>surf</td>\n",
       "      <td>0</td>\n",
       "      <td>Las Vegas-Henderson-Paradise</td>\n",
       "      <td>NV MSA</td>\n",
       "    </tr>\n",
       "    <tr>\n",
       "      <th>3</th>\n",
       "      <td>1003</td>\n",
       "      <td>Reynaldo</td>\n",
       "      <td>Jenkins</td>\n",
       "      <td>52</td>\n",
       "      <td>2018-01-28</td>\n",
       "      <td>surf</td>\n",
       "      <td>0</td>\n",
       "      <td>Tulsa</td>\n",
       "      <td>OK MSA</td>\n",
       "    </tr>\n",
       "    <tr>\n",
       "      <th>4</th>\n",
       "      <td>1004</td>\n",
       "      <td>Leonila</td>\n",
       "      <td>Thompson</td>\n",
       "      <td>40</td>\n",
       "      <td>2018-05-23</td>\n",
       "      <td>surf</td>\n",
       "      <td>0</td>\n",
       "      <td>Seattle-Tacoma-Bellevue</td>\n",
       "      <td>WA MSA</td>\n",
       "    </tr>\n",
       "    <tr>\n",
       "      <th>...</th>\n",
       "      <td>...</td>\n",
       "      <td>...</td>\n",
       "      <td>...</td>\n",
       "      <td>...</td>\n",
       "      <td>...</td>\n",
       "      <td>...</td>\n",
       "      <td>...</td>\n",
       "      <td>...</td>\n",
       "      <td>...</td>\n",
       "    </tr>\n",
       "    <tr>\n",
       "      <th>495</th>\n",
       "      <td>1495</td>\n",
       "      <td>Fidel</td>\n",
       "      <td>Sharpe</td>\n",
       "      <td>67</td>\n",
       "      <td>2018-09-04</td>\n",
       "      <td>surf</td>\n",
       "      <td>0</td>\n",
       "      <td>New York-Newark-Jersey City</td>\n",
       "      <td>NY-NJ-PA MSA</td>\n",
       "    </tr>\n",
       "    <tr>\n",
       "      <th>496</th>\n",
       "      <td>1496</td>\n",
       "      <td>Ariel</td>\n",
       "      <td>Shepherd</td>\n",
       "      <td>49</td>\n",
       "      <td>2018-02-20</td>\n",
       "      <td>surf</td>\n",
       "      <td>0</td>\n",
       "      <td>New Orleans-Metairie</td>\n",
       "      <td>LA MSA</td>\n",
       "    </tr>\n",
       "    <tr>\n",
       "      <th>497</th>\n",
       "      <td>1497</td>\n",
       "      <td>Donte</td>\n",
       "      <td>Barrera</td>\n",
       "      <td>49</td>\n",
       "      <td>2018-12-10</td>\n",
       "      <td>ultimate</td>\n",
       "      <td>0</td>\n",
       "      <td>Los Angeles-Long Beach-Anaheim</td>\n",
       "      <td>CA MSA</td>\n",
       "    </tr>\n",
       "    <tr>\n",
       "      <th>498</th>\n",
       "      <td>1498</td>\n",
       "      <td>Scot</td>\n",
       "      <td>Williamson</td>\n",
       "      <td>51</td>\n",
       "      <td>2018-02-04</td>\n",
       "      <td>surf</td>\n",
       "      <td>0</td>\n",
       "      <td>New York-Newark-Jersey City</td>\n",
       "      <td>NY-NJ-PA MSA</td>\n",
       "    </tr>\n",
       "    <tr>\n",
       "      <th>499</th>\n",
       "      <td>1499</td>\n",
       "      <td>Shena</td>\n",
       "      <td>Dickson</td>\n",
       "      <td>37</td>\n",
       "      <td>2018-05-06</td>\n",
       "      <td>surf</td>\n",
       "      <td>0</td>\n",
       "      <td>Orlando-Kissimmee-Sanford</td>\n",
       "      <td>FL MSA</td>\n",
       "    </tr>\n",
       "  </tbody>\n",
       "</table>\n",
       "<p>500 rows × 9 columns</p>\n",
       "</div>"
      ],
      "text/plain": [
       "     user_id first_name   last_name  age    reg_date      plan churn_date  \\\n",
       "0       1000   Anamaria       Bauer   45  2018-12-24  ultimate          0   \n",
       "1       1001     Mickey   Wilkerson   28  2018-08-13      surf          0   \n",
       "2       1002     Carlee     Hoffman   36  2018-10-21      surf          0   \n",
       "3       1003   Reynaldo     Jenkins   52  2018-01-28      surf          0   \n",
       "4       1004    Leonila    Thompson   40  2018-05-23      surf          0   \n",
       "..       ...        ...         ...  ...         ...       ...        ...   \n",
       "495     1495      Fidel      Sharpe   67  2018-09-04      surf          0   \n",
       "496     1496      Ariel    Shepherd   49  2018-02-20      surf          0   \n",
       "497     1497      Donte     Barrera   49  2018-12-10  ultimate          0   \n",
       "498     1498       Scot  Williamson   51  2018-02-04      surf          0   \n",
       "499     1499      Shena     Dickson   37  2018-05-06      surf          0   \n",
       "\n",
       "                             Ciudad         Estado  \n",
       "0     Atlanta-Sandy Springs-Roswell         GA MSA  \n",
       "1           Seattle-Tacoma-Bellevue         WA MSA  \n",
       "2      Las Vegas-Henderson-Paradise         NV MSA  \n",
       "3                             Tulsa         OK MSA  \n",
       "4           Seattle-Tacoma-Bellevue         WA MSA  \n",
       "..                              ...            ...  \n",
       "495     New York-Newark-Jersey City   NY-NJ-PA MSA  \n",
       "496            New Orleans-Metairie         LA MSA  \n",
       "497  Los Angeles-Long Beach-Anaheim         CA MSA  \n",
       "498     New York-Newark-Jersey City   NY-NJ-PA MSA  \n",
       "499       Orlando-Kissimmee-Sanford         FL MSA  \n",
       "\n",
       "[500 rows x 9 columns]"
      ]
     },
     "execution_count": 8,
     "metadata": {},
     "output_type": "execute_result"
    }
   ],
   "source": [
    "# Separar la columna 'info' en múltiples columnas usando ',' como delimitador\n",
    "users[['Ciudad', 'Estado']] = users['city'].str.split(',', expand=True)\n",
    "users = users.drop(columns=['city'])\n",
    "users"
   ]
  },
  {
   "cell_type": "code",
   "execution_count": 9,
   "metadata": {},
   "outputs": [
    {
     "data": {
      "text/html": [
       "<div>\n",
       "<style scoped>\n",
       "    .dataframe tbody tr th:only-of-type {\n",
       "        vertical-align: middle;\n",
       "    }\n",
       "\n",
       "    .dataframe tbody tr th {\n",
       "        vertical-align: top;\n",
       "    }\n",
       "\n",
       "    .dataframe thead th {\n",
       "        text-align: right;\n",
       "    }\n",
       "</style>\n",
       "<table border=\"1\" class=\"dataframe\">\n",
       "  <thead>\n",
       "    <tr style=\"text-align: right;\">\n",
       "      <th></th>\n",
       "      <th>user_id</th>\n",
       "      <th>plan_name</th>\n",
       "      <th>Estado</th>\n",
       "    </tr>\n",
       "  </thead>\n",
       "  <tbody>\n",
       "    <tr>\n",
       "      <th>0</th>\n",
       "      <td>1000</td>\n",
       "      <td>ultimate</td>\n",
       "      <td>GA MSA</td>\n",
       "    </tr>\n",
       "    <tr>\n",
       "      <th>1</th>\n",
       "      <td>1001</td>\n",
       "      <td>surf</td>\n",
       "      <td>WA MSA</td>\n",
       "    </tr>\n",
       "    <tr>\n",
       "      <th>2</th>\n",
       "      <td>1002</td>\n",
       "      <td>surf</td>\n",
       "      <td>NV MSA</td>\n",
       "    </tr>\n",
       "    <tr>\n",
       "      <th>3</th>\n",
       "      <td>1003</td>\n",
       "      <td>surf</td>\n",
       "      <td>OK MSA</td>\n",
       "    </tr>\n",
       "    <tr>\n",
       "      <th>4</th>\n",
       "      <td>1004</td>\n",
       "      <td>surf</td>\n",
       "      <td>WA MSA</td>\n",
       "    </tr>\n",
       "    <tr>\n",
       "      <th>...</th>\n",
       "      <td>...</td>\n",
       "      <td>...</td>\n",
       "      <td>...</td>\n",
       "    </tr>\n",
       "    <tr>\n",
       "      <th>495</th>\n",
       "      <td>1495</td>\n",
       "      <td>surf</td>\n",
       "      <td>NY-NJ-PA MSA</td>\n",
       "    </tr>\n",
       "    <tr>\n",
       "      <th>496</th>\n",
       "      <td>1496</td>\n",
       "      <td>surf</td>\n",
       "      <td>LA MSA</td>\n",
       "    </tr>\n",
       "    <tr>\n",
       "      <th>497</th>\n",
       "      <td>1497</td>\n",
       "      <td>ultimate</td>\n",
       "      <td>CA MSA</td>\n",
       "    </tr>\n",
       "    <tr>\n",
       "      <th>498</th>\n",
       "      <td>1498</td>\n",
       "      <td>surf</td>\n",
       "      <td>NY-NJ-PA MSA</td>\n",
       "    </tr>\n",
       "    <tr>\n",
       "      <th>499</th>\n",
       "      <td>1499</td>\n",
       "      <td>surf</td>\n",
       "      <td>FL MSA</td>\n",
       "    </tr>\n",
       "  </tbody>\n",
       "</table>\n",
       "<p>500 rows × 3 columns</p>\n",
       "</div>"
      ],
      "text/plain": [
       "     user_id plan_name         Estado\n",
       "0       1000  ultimate         GA MSA\n",
       "1       1001      surf         WA MSA\n",
       "2       1002      surf         NV MSA\n",
       "3       1003      surf         OK MSA\n",
       "4       1004      surf         WA MSA\n",
       "..       ...       ...            ...\n",
       "495     1495      surf   NY-NJ-PA MSA\n",
       "496     1496      surf         LA MSA\n",
       "497     1497  ultimate         CA MSA\n",
       "498     1498      surf   NY-NJ-PA MSA\n",
       "499     1499      surf         FL MSA\n",
       "\n",
       "[500 rows x 3 columns]"
      ]
     },
     "execution_count": 9,
     "metadata": {},
     "output_type": "execute_result"
    }
   ],
   "source": [
    "user_plan = users[['user_id', 'plan','Estado']]\n",
    "user_plan.columns = ['user_id','plan_name','Estado']\n",
    "user_plan"
   ]
  },
  {
   "cell_type": "markdown",
   "metadata": {},
   "source": [
    "<div class=\"alert alert-block alert-info\">\n",
    "<ol>\n",
    "<li>Se aprecia que la dataframe muestra los detalles del usuario, nombre y apellido, edad, lugar de procedencia y fecha de registro y baja del servicio.</li>\n",
    "<li><b>Se reemplazaron los datos ausentes en la columna \"churn_date\" de la dataframe \"users\" por el valor cero \"0\", lo que significa que el servicio aun esta vigente para el cliente.</b></li>\n",
    "<li><b>Se creo una dataframe llamada 'user_plan' para almacenar los tipos de planes de los clientes.</b></li>\n",
    "<li><b>Se separo la columna 'city', para obtener 'Ciudad', 'Estado'.</b></li></ol><a class=\"tocSkip\"></a>\n",
    "</div>"
   ]
  },
  {
   "cell_type": "markdown",
   "metadata": {
    "id": "o7MeKCid0q08"
   },
   "source": [
    "## Llamadas"
   ]
  },
  {
   "cell_type": "code",
   "execution_count": 10,
   "metadata": {
    "id": "6dDlnoDm0q08"
   },
   "outputs": [
    {
     "name": "stdout",
     "output_type": "stream",
     "text": [
      "<class 'pandas.core.frame.DataFrame'>\n",
      "RangeIndex: 137735 entries, 0 to 137734\n",
      "Data columns (total 4 columns):\n",
      " #   Column     Non-Null Count   Dtype  \n",
      "---  ------     --------------   -----  \n",
      " 0   id         137735 non-null  object \n",
      " 1   user_id    137735 non-null  int64  \n",
      " 2   call_date  137735 non-null  object \n",
      " 3   duration   137735 non-null  float64\n",
      "dtypes: float64(1), int64(1), object(2)\n",
      "memory usage: 4.2+ MB\n"
     ]
    }
   ],
   "source": [
    "# Imprime la información general/resumida sobre el DataFrame de las llamadas\n",
    "calls.info()"
   ]
  },
  {
   "cell_type": "code",
   "execution_count": 11,
   "metadata": {
    "id": "kuh1vlNB0q09"
   },
   "outputs": [
    {
     "data": {
      "text/html": [
       "<div>\n",
       "<style scoped>\n",
       "    .dataframe tbody tr th:only-of-type {\n",
       "        vertical-align: middle;\n",
       "    }\n",
       "\n",
       "    .dataframe tbody tr th {\n",
       "        vertical-align: top;\n",
       "    }\n",
       "\n",
       "    .dataframe thead th {\n",
       "        text-align: right;\n",
       "    }\n",
       "</style>\n",
       "<table border=\"1\" class=\"dataframe\">\n",
       "  <thead>\n",
       "    <tr style=\"text-align: right;\">\n",
       "      <th></th>\n",
       "      <th>id</th>\n",
       "      <th>user_id</th>\n",
       "      <th>call_date</th>\n",
       "      <th>duration</th>\n",
       "    </tr>\n",
       "  </thead>\n",
       "  <tbody>\n",
       "    <tr>\n",
       "      <th>77878</th>\n",
       "      <td>1279_6</td>\n",
       "      <td>1279</td>\n",
       "      <td>2018-10-10</td>\n",
       "      <td>14.30</td>\n",
       "    </tr>\n",
       "    <tr>\n",
       "      <th>73541</th>\n",
       "      <td>1261_299</td>\n",
       "      <td>1261</td>\n",
       "      <td>2018-09-17</td>\n",
       "      <td>5.84</td>\n",
       "    </tr>\n",
       "    <tr>\n",
       "      <th>75715</th>\n",
       "      <td>1268_219</td>\n",
       "      <td>1268</td>\n",
       "      <td>2018-09-23</td>\n",
       "      <td>4.74</td>\n",
       "    </tr>\n",
       "    <tr>\n",
       "      <th>38479</th>\n",
       "      <td>1144_386</td>\n",
       "      <td>1144</td>\n",
       "      <td>2018-05-11</td>\n",
       "      <td>0.00</td>\n",
       "    </tr>\n",
       "    <tr>\n",
       "      <th>47287</th>\n",
       "      <td>1171_318</td>\n",
       "      <td>1171</td>\n",
       "      <td>2018-04-07</td>\n",
       "      <td>10.30</td>\n",
       "    </tr>\n",
       "    <tr>\n",
       "      <th>58782</th>\n",
       "      <td>1212_287</td>\n",
       "      <td>1212</td>\n",
       "      <td>2018-10-10</td>\n",
       "      <td>6.23</td>\n",
       "    </tr>\n",
       "    <tr>\n",
       "      <th>125796</th>\n",
       "      <td>1445_211</td>\n",
       "      <td>1445</td>\n",
       "      <td>2018-09-05</td>\n",
       "      <td>22.00</td>\n",
       "    </tr>\n",
       "    <tr>\n",
       "      <th>104928</th>\n",
       "      <td>1369_13</td>\n",
       "      <td>1369</td>\n",
       "      <td>2018-12-24</td>\n",
       "      <td>13.58</td>\n",
       "    </tr>\n",
       "    <tr>\n",
       "      <th>65131</th>\n",
       "      <td>1236_419</td>\n",
       "      <td>1236</td>\n",
       "      <td>2018-07-20</td>\n",
       "      <td>16.02</td>\n",
       "    </tr>\n",
       "    <tr>\n",
       "      <th>110038</th>\n",
       "      <td>1389_47</td>\n",
       "      <td>1389</td>\n",
       "      <td>2018-07-05</td>\n",
       "      <td>7.22</td>\n",
       "    </tr>\n",
       "  </tbody>\n",
       "</table>\n",
       "</div>"
      ],
      "text/plain": [
       "              id  user_id   call_date  duration\n",
       "77878     1279_6     1279  2018-10-10     14.30\n",
       "73541   1261_299     1261  2018-09-17      5.84\n",
       "75715   1268_219     1268  2018-09-23      4.74\n",
       "38479   1144_386     1144  2018-05-11      0.00\n",
       "47287   1171_318     1171  2018-04-07     10.30\n",
       "58782   1212_287     1212  2018-10-10      6.23\n",
       "125796  1445_211     1445  2018-09-05     22.00\n",
       "104928   1369_13     1369  2018-12-24     13.58\n",
       "65131   1236_419     1236  2018-07-20     16.02\n",
       "110038   1389_47     1389  2018-07-05      7.22"
      ]
     },
     "execution_count": 11,
     "metadata": {},
     "output_type": "execute_result"
    }
   ],
   "source": [
    "# Imprime una muestra de datos para las llamadas\n",
    "\n",
    "calls.sample(10)"
   ]
  },
  {
   "cell_type": "markdown",
   "metadata": {
    "id": "S7hzxmbX0q0-"
   },
   "source": [
    "### Corregir los datos"
   ]
  },
  {
   "cell_type": "markdown",
   "metadata": {
    "id": "YxWyAjD20q0-"
   },
   "source": [
    "No hay datos por corregir"
   ]
  },
  {
   "cell_type": "markdown",
   "metadata": {
    "id": "KrMgTrlG0q0_"
   },
   "source": [
    "### Enriquecer los datos"
   ]
  },
  {
   "cell_type": "markdown",
   "metadata": {
    "id": "a9MbmEvE0q0_"
   },
   "source": [
    "La data de la columna \"duration' se encuentra en minutos, para lo cual crearemos una nueva columna \"rounded duration\" que redondee las llamadas al siguiente minuto, debido a que el cobro de la tarifa se realiza siempre que la llamda dure 1 segundo a mas.\n",
    "Para lo cual la data de la columna \"duracion\" es de tipo float, lo redondearemos con la funcion numpy \"np.ceil()\" y luego transformaremos la data a int con las funcion \".astype('int)\""
   ]
  },
  {
   "cell_type": "code",
   "execution_count": 12,
   "metadata": {},
   "outputs": [
    {
     "data": {
      "text/html": [
       "<div>\n",
       "<style scoped>\n",
       "    .dataframe tbody tr th:only-of-type {\n",
       "        vertical-align: middle;\n",
       "    }\n",
       "\n",
       "    .dataframe tbody tr th {\n",
       "        vertical-align: top;\n",
       "    }\n",
       "\n",
       "    .dataframe thead th {\n",
       "        text-align: right;\n",
       "    }\n",
       "</style>\n",
       "<table border=\"1\" class=\"dataframe\">\n",
       "  <thead>\n",
       "    <tr style=\"text-align: right;\">\n",
       "      <th></th>\n",
       "      <th>id</th>\n",
       "      <th>user_id</th>\n",
       "      <th>call_date</th>\n",
       "      <th>duration</th>\n",
       "      <th>rounded duration</th>\n",
       "    </tr>\n",
       "  </thead>\n",
       "  <tbody>\n",
       "    <tr>\n",
       "      <th>92059</th>\n",
       "      <td>1330_229</td>\n",
       "      <td>1330</td>\n",
       "      <td>2018-12-27</td>\n",
       "      <td>2.91</td>\n",
       "      <td>3</td>\n",
       "    </tr>\n",
       "    <tr>\n",
       "      <th>4366</th>\n",
       "      <td>1018_178</td>\n",
       "      <td>1018</td>\n",
       "      <td>2018-11-07</td>\n",
       "      <td>23.23</td>\n",
       "      <td>24</td>\n",
       "    </tr>\n",
       "    <tr>\n",
       "      <th>66513</th>\n",
       "      <td>1240_371</td>\n",
       "      <td>1240</td>\n",
       "      <td>2018-09-17</td>\n",
       "      <td>16.60</td>\n",
       "      <td>17</td>\n",
       "    </tr>\n",
       "    <tr>\n",
       "      <th>85452</th>\n",
       "      <td>1313_432</td>\n",
       "      <td>1313</td>\n",
       "      <td>2018-12-03</td>\n",
       "      <td>7.12</td>\n",
       "      <td>8</td>\n",
       "    </tr>\n",
       "    <tr>\n",
       "      <th>30988</th>\n",
       "      <td>1116_158</td>\n",
       "      <td>1116</td>\n",
       "      <td>2018-08-16</td>\n",
       "      <td>6.33</td>\n",
       "      <td>7</td>\n",
       "    </tr>\n",
       "    <tr>\n",
       "      <th>102315</th>\n",
       "      <td>1362_1091</td>\n",
       "      <td>1362</td>\n",
       "      <td>2018-09-08</td>\n",
       "      <td>4.81</td>\n",
       "      <td>5</td>\n",
       "    </tr>\n",
       "    <tr>\n",
       "      <th>41307</th>\n",
       "      <td>1152_255</td>\n",
       "      <td>1152</td>\n",
       "      <td>2018-12-01</td>\n",
       "      <td>17.57</td>\n",
       "      <td>18</td>\n",
       "    </tr>\n",
       "    <tr>\n",
       "      <th>23213</th>\n",
       "      <td>1085_5</td>\n",
       "      <td>1085</td>\n",
       "      <td>2018-09-30</td>\n",
       "      <td>0.00</td>\n",
       "      <td>0</td>\n",
       "    </tr>\n",
       "    <tr>\n",
       "      <th>118368</th>\n",
       "      <td>1412_652</td>\n",
       "      <td>1412</td>\n",
       "      <td>2018-12-14</td>\n",
       "      <td>0.00</td>\n",
       "      <td>0</td>\n",
       "    </tr>\n",
       "    <tr>\n",
       "      <th>117396</th>\n",
       "      <td>1410_420</td>\n",
       "      <td>1410</td>\n",
       "      <td>2018-10-28</td>\n",
       "      <td>0.00</td>\n",
       "      <td>0</td>\n",
       "    </tr>\n",
       "  </tbody>\n",
       "</table>\n",
       "</div>"
      ],
      "text/plain": [
       "               id  user_id   call_date  duration  rounded duration\n",
       "92059    1330_229     1330  2018-12-27      2.91                 3\n",
       "4366     1018_178     1018  2018-11-07     23.23                24\n",
       "66513    1240_371     1240  2018-09-17     16.60                17\n",
       "85452    1313_432     1313  2018-12-03      7.12                 8\n",
       "30988    1116_158     1116  2018-08-16      6.33                 7\n",
       "102315  1362_1091     1362  2018-09-08      4.81                 5\n",
       "41307    1152_255     1152  2018-12-01     17.57                18\n",
       "23213      1085_5     1085  2018-09-30      0.00                 0\n",
       "118368   1412_652     1412  2018-12-14      0.00                 0\n",
       "117396   1410_420     1410  2018-10-28      0.00                 0"
      ]
     },
     "execution_count": 12,
     "metadata": {},
     "output_type": "execute_result"
    }
   ],
   "source": [
    "calls['rounded duration'] = np.ceil(calls['duration'])\n",
    "calls['rounded duration'] = calls['rounded duration'].astype('int')\n",
    "calls.sample(10)"
   ]
  },
  {
   "cell_type": "code",
   "execution_count": 13,
   "metadata": {},
   "outputs": [
    {
     "name": "stdout",
     "output_type": "stream",
     "text": [
      "int64\n"
     ]
    }
   ],
   "source": [
    "print(calls['rounded duration'].dtype)"
   ]
  },
  {
   "cell_type": "markdown",
   "metadata": {},
   "source": [
    "Crearemos una columna lladamada \"month\" que almacene la data del mes en la que se ejecuto la llamada.\n",
    "Para ello usaremos el metodo de pandas \"to_datetime\" para transformar la data de la columna \"call_date\" y usaremos el metodo \".dt.month\" para extraer solo la data del mes."
   ]
  },
  {
   "cell_type": "code",
   "execution_count": 14,
   "metadata": {},
   "outputs": [
    {
     "data": {
      "text/html": [
       "<div>\n",
       "<style scoped>\n",
       "    .dataframe tbody tr th:only-of-type {\n",
       "        vertical-align: middle;\n",
       "    }\n",
       "\n",
       "    .dataframe tbody tr th {\n",
       "        vertical-align: top;\n",
       "    }\n",
       "\n",
       "    .dataframe thead th {\n",
       "        text-align: right;\n",
       "    }\n",
       "</style>\n",
       "<table border=\"1\" class=\"dataframe\">\n",
       "  <thead>\n",
       "    <tr style=\"text-align: right;\">\n",
       "      <th></th>\n",
       "      <th>id</th>\n",
       "      <th>user_id</th>\n",
       "      <th>call_date</th>\n",
       "      <th>duration</th>\n",
       "      <th>rounded duration</th>\n",
       "      <th>month</th>\n",
       "    </tr>\n",
       "  </thead>\n",
       "  <tbody>\n",
       "    <tr>\n",
       "      <th>0</th>\n",
       "      <td>1000_93</td>\n",
       "      <td>1000</td>\n",
       "      <td>2018-12-27</td>\n",
       "      <td>8.52</td>\n",
       "      <td>9</td>\n",
       "      <td>12</td>\n",
       "    </tr>\n",
       "    <tr>\n",
       "      <th>1</th>\n",
       "      <td>1000_145</td>\n",
       "      <td>1000</td>\n",
       "      <td>2018-12-27</td>\n",
       "      <td>13.66</td>\n",
       "      <td>14</td>\n",
       "      <td>12</td>\n",
       "    </tr>\n",
       "    <tr>\n",
       "      <th>2</th>\n",
       "      <td>1000_247</td>\n",
       "      <td>1000</td>\n",
       "      <td>2018-12-27</td>\n",
       "      <td>14.48</td>\n",
       "      <td>15</td>\n",
       "      <td>12</td>\n",
       "    </tr>\n",
       "    <tr>\n",
       "      <th>3</th>\n",
       "      <td>1000_309</td>\n",
       "      <td>1000</td>\n",
       "      <td>2018-12-28</td>\n",
       "      <td>5.76</td>\n",
       "      <td>6</td>\n",
       "      <td>12</td>\n",
       "    </tr>\n",
       "    <tr>\n",
       "      <th>4</th>\n",
       "      <td>1000_380</td>\n",
       "      <td>1000</td>\n",
       "      <td>2018-12-30</td>\n",
       "      <td>4.22</td>\n",
       "      <td>5</td>\n",
       "      <td>12</td>\n",
       "    </tr>\n",
       "    <tr>\n",
       "      <th>...</th>\n",
       "      <td>...</td>\n",
       "      <td>...</td>\n",
       "      <td>...</td>\n",
       "      <td>...</td>\n",
       "      <td>...</td>\n",
       "      <td>...</td>\n",
       "    </tr>\n",
       "    <tr>\n",
       "      <th>137730</th>\n",
       "      <td>1499_199</td>\n",
       "      <td>1499</td>\n",
       "      <td>2018-11-21</td>\n",
       "      <td>8.72</td>\n",
       "      <td>9</td>\n",
       "      <td>11</td>\n",
       "    </tr>\n",
       "    <tr>\n",
       "      <th>137731</th>\n",
       "      <td>1499_200</td>\n",
       "      <td>1499</td>\n",
       "      <td>2018-10-20</td>\n",
       "      <td>10.89</td>\n",
       "      <td>11</td>\n",
       "      <td>10</td>\n",
       "    </tr>\n",
       "    <tr>\n",
       "      <th>137732</th>\n",
       "      <td>1499_201</td>\n",
       "      <td>1499</td>\n",
       "      <td>2018-09-21</td>\n",
       "      <td>8.12</td>\n",
       "      <td>9</td>\n",
       "      <td>9</td>\n",
       "    </tr>\n",
       "    <tr>\n",
       "      <th>137733</th>\n",
       "      <td>1499_202</td>\n",
       "      <td>1499</td>\n",
       "      <td>2018-10-10</td>\n",
       "      <td>0.37</td>\n",
       "      <td>1</td>\n",
       "      <td>10</td>\n",
       "    </tr>\n",
       "    <tr>\n",
       "      <th>137734</th>\n",
       "      <td>1499_203</td>\n",
       "      <td>1499</td>\n",
       "      <td>2018-12-29</td>\n",
       "      <td>13.86</td>\n",
       "      <td>14</td>\n",
       "      <td>12</td>\n",
       "    </tr>\n",
       "  </tbody>\n",
       "</table>\n",
       "<p>137735 rows × 6 columns</p>\n",
       "</div>"
      ],
      "text/plain": [
       "              id  user_id   call_date  duration  rounded duration  month\n",
       "0        1000_93     1000  2018-12-27      8.52                 9     12\n",
       "1       1000_145     1000  2018-12-27     13.66                14     12\n",
       "2       1000_247     1000  2018-12-27     14.48                15     12\n",
       "3       1000_309     1000  2018-12-28      5.76                 6     12\n",
       "4       1000_380     1000  2018-12-30      4.22                 5     12\n",
       "...          ...      ...         ...       ...               ...    ...\n",
       "137730  1499_199     1499  2018-11-21      8.72                 9     11\n",
       "137731  1499_200     1499  2018-10-20     10.89                11     10\n",
       "137732  1499_201     1499  2018-09-21      8.12                 9      9\n",
       "137733  1499_202     1499  2018-10-10      0.37                 1     10\n",
       "137734  1499_203     1499  2018-12-29     13.86                14     12\n",
       "\n",
       "[137735 rows x 6 columns]"
      ]
     },
     "execution_count": 14,
     "metadata": {},
     "output_type": "execute_result"
    }
   ],
   "source": [
    "calls['month'] = pd.to_datetime(calls['call_date']).dt.month\n",
    "calls"
   ]
  },
  {
   "cell_type": "markdown",
   "metadata": {},
   "source": [
    "<div class=\"alert alert-block alert-info\">\n",
    "<ol>\n",
    "<li>Se aprecia que la dataframe \"calls\" muestra los detalles de las llamadas de los usuarios fecha y duracion de la misma.</li>\n",
    "<li><b>Se creo una nueva columna llamada 'rounded duration' en la cual usamos la data de la columna 'duration' redondeada al siguiente minuto y la convertimos a data 'int'.</b></li>\n",
    "<li><b>Se creo una nueva columna llamada 'month' en la cual se almacena la data del mes de la llamada.</b></li> <a class=\"tocSkip\"></a>\n",
    "</div>"
   ]
  },
  {
   "cell_type": "markdown",
   "metadata": {
    "id": "mOUZSi180q0_"
   },
   "source": [
    "## Mensajes"
   ]
  },
  {
   "cell_type": "code",
   "execution_count": 15,
   "metadata": {
    "id": "R-bYJpdV0q1A"
   },
   "outputs": [
    {
     "name": "stdout",
     "output_type": "stream",
     "text": [
      "<class 'pandas.core.frame.DataFrame'>\n",
      "RangeIndex: 76051 entries, 0 to 76050\n",
      "Data columns (total 3 columns):\n",
      " #   Column        Non-Null Count  Dtype \n",
      "---  ------        --------------  ----- \n",
      " 0   id            76051 non-null  object\n",
      " 1   user_id       76051 non-null  int64 \n",
      " 2   message_date  76051 non-null  object\n",
      "dtypes: int64(1), object(2)\n",
      "memory usage: 1.7+ MB\n"
     ]
    }
   ],
   "source": [
    "# Imprime la información general/resumida sobre el DataFrame de los mensajes\n",
    "messages.info()\n"
   ]
  },
  {
   "cell_type": "code",
   "execution_count": 16,
   "metadata": {
    "id": "mCEl2iGE0q1A"
   },
   "outputs": [
    {
     "data": {
      "text/html": [
       "<div>\n",
       "<style scoped>\n",
       "    .dataframe tbody tr th:only-of-type {\n",
       "        vertical-align: middle;\n",
       "    }\n",
       "\n",
       "    .dataframe tbody tr th {\n",
       "        vertical-align: top;\n",
       "    }\n",
       "\n",
       "    .dataframe thead th {\n",
       "        text-align: right;\n",
       "    }\n",
       "</style>\n",
       "<table border=\"1\" class=\"dataframe\">\n",
       "  <thead>\n",
       "    <tr style=\"text-align: right;\">\n",
       "      <th></th>\n",
       "      <th>id</th>\n",
       "      <th>user_id</th>\n",
       "      <th>message_date</th>\n",
       "    </tr>\n",
       "  </thead>\n",
       "  <tbody>\n",
       "    <tr>\n",
       "      <th>45322</th>\n",
       "      <td>1304_403</td>\n",
       "      <td>1304</td>\n",
       "      <td>2018-11-07</td>\n",
       "    </tr>\n",
       "    <tr>\n",
       "      <th>24149</th>\n",
       "      <td>1145_4</td>\n",
       "      <td>1145</td>\n",
       "      <td>2018-09-28</td>\n",
       "    </tr>\n",
       "    <tr>\n",
       "      <th>7187</th>\n",
       "      <td>1059_57</td>\n",
       "      <td>1059</td>\n",
       "      <td>2018-06-27</td>\n",
       "    </tr>\n",
       "    <tr>\n",
       "      <th>64357</th>\n",
       "      <td>1409_108</td>\n",
       "      <td>1409</td>\n",
       "      <td>2018-12-29</td>\n",
       "    </tr>\n",
       "    <tr>\n",
       "      <th>61773</th>\n",
       "      <td>1385_237</td>\n",
       "      <td>1385</td>\n",
       "      <td>2018-10-29</td>\n",
       "    </tr>\n",
       "    <tr>\n",
       "      <th>33480</th>\n",
       "      <td>1211_156</td>\n",
       "      <td>1211</td>\n",
       "      <td>2018-07-29</td>\n",
       "    </tr>\n",
       "    <tr>\n",
       "      <th>71933</th>\n",
       "      <td>1467_265</td>\n",
       "      <td>1467</td>\n",
       "      <td>2018-10-03</td>\n",
       "    </tr>\n",
       "    <tr>\n",
       "      <th>51848</th>\n",
       "      <td>1335_439</td>\n",
       "      <td>1335</td>\n",
       "      <td>2018-09-11</td>\n",
       "    </tr>\n",
       "    <tr>\n",
       "      <th>68047</th>\n",
       "      <td>1439_441</td>\n",
       "      <td>1439</td>\n",
       "      <td>2018-06-13</td>\n",
       "    </tr>\n",
       "    <tr>\n",
       "      <th>45424</th>\n",
       "      <td>1308_62</td>\n",
       "      <td>1308</td>\n",
       "      <td>2018-12-07</td>\n",
       "    </tr>\n",
       "  </tbody>\n",
       "</table>\n",
       "</div>"
      ],
      "text/plain": [
       "             id  user_id message_date\n",
       "45322  1304_403     1304   2018-11-07\n",
       "24149    1145_4     1145   2018-09-28\n",
       "7187    1059_57     1059   2018-06-27\n",
       "64357  1409_108     1409   2018-12-29\n",
       "61773  1385_237     1385   2018-10-29\n",
       "33480  1211_156     1211   2018-07-29\n",
       "71933  1467_265     1467   2018-10-03\n",
       "51848  1335_439     1335   2018-09-11\n",
       "68047  1439_441     1439   2018-06-13\n",
       "45424   1308_62     1308   2018-12-07"
      ]
     },
     "execution_count": 16,
     "metadata": {},
     "output_type": "execute_result"
    }
   ],
   "source": [
    "# Imprime una muestra de datos para los mensajes\n",
    "\n",
    "messages.sample(10)"
   ]
  },
  {
   "cell_type": "markdown",
   "metadata": {
    "id": "Sprfak900q1B"
   },
   "source": [
    "### Corregir los datos"
   ]
  },
  {
   "cell_type": "markdown",
   "metadata": {
    "id": "eGw7d9j10q1B"
   },
   "source": [
    "No hay datos por corregir"
   ]
  },
  {
   "cell_type": "markdown",
   "metadata": {
    "id": "HvLid7iD0q1B"
   },
   "source": [
    "### Enriquecer los datos"
   ]
  },
  {
   "cell_type": "markdown",
   "metadata": {
    "id": "8nhPFKIe0q1C"
   },
   "source": [
    "Crearemos una columna lladamada \"month\" que almacene la data del mes en la que se envio el mensaje. Para ello usaremos el metodo de pandas \"to_datetime\" para transformar la data de la columna \"message_date\" y usaremos el metodo \".dt.month\" para extraer solo la data del mes."
   ]
  },
  {
   "cell_type": "code",
   "execution_count": 17,
   "metadata": {},
   "outputs": [
    {
     "data": {
      "text/html": [
       "<div>\n",
       "<style scoped>\n",
       "    .dataframe tbody tr th:only-of-type {\n",
       "        vertical-align: middle;\n",
       "    }\n",
       "\n",
       "    .dataframe tbody tr th {\n",
       "        vertical-align: top;\n",
       "    }\n",
       "\n",
       "    .dataframe thead th {\n",
       "        text-align: right;\n",
       "    }\n",
       "</style>\n",
       "<table border=\"1\" class=\"dataframe\">\n",
       "  <thead>\n",
       "    <tr style=\"text-align: right;\">\n",
       "      <th></th>\n",
       "      <th>id</th>\n",
       "      <th>user_id</th>\n",
       "      <th>message_date</th>\n",
       "      <th>month</th>\n",
       "    </tr>\n",
       "  </thead>\n",
       "  <tbody>\n",
       "    <tr>\n",
       "      <th>0</th>\n",
       "      <td>1000_125</td>\n",
       "      <td>1000</td>\n",
       "      <td>2018-12-27</td>\n",
       "      <td>12</td>\n",
       "    </tr>\n",
       "    <tr>\n",
       "      <th>1</th>\n",
       "      <td>1000_160</td>\n",
       "      <td>1000</td>\n",
       "      <td>2018-12-31</td>\n",
       "      <td>12</td>\n",
       "    </tr>\n",
       "    <tr>\n",
       "      <th>2</th>\n",
       "      <td>1000_223</td>\n",
       "      <td>1000</td>\n",
       "      <td>2018-12-31</td>\n",
       "      <td>12</td>\n",
       "    </tr>\n",
       "    <tr>\n",
       "      <th>3</th>\n",
       "      <td>1000_251</td>\n",
       "      <td>1000</td>\n",
       "      <td>2018-12-27</td>\n",
       "      <td>12</td>\n",
       "    </tr>\n",
       "    <tr>\n",
       "      <th>4</th>\n",
       "      <td>1000_255</td>\n",
       "      <td>1000</td>\n",
       "      <td>2018-12-26</td>\n",
       "      <td>12</td>\n",
       "    </tr>\n",
       "    <tr>\n",
       "      <th>...</th>\n",
       "      <td>...</td>\n",
       "      <td>...</td>\n",
       "      <td>...</td>\n",
       "      <td>...</td>\n",
       "    </tr>\n",
       "    <tr>\n",
       "      <th>76046</th>\n",
       "      <td>1497_526</td>\n",
       "      <td>1497</td>\n",
       "      <td>2018-12-24</td>\n",
       "      <td>12</td>\n",
       "    </tr>\n",
       "    <tr>\n",
       "      <th>76047</th>\n",
       "      <td>1497_536</td>\n",
       "      <td>1497</td>\n",
       "      <td>2018-12-24</td>\n",
       "      <td>12</td>\n",
       "    </tr>\n",
       "    <tr>\n",
       "      <th>76048</th>\n",
       "      <td>1497_547</td>\n",
       "      <td>1497</td>\n",
       "      <td>2018-12-31</td>\n",
       "      <td>12</td>\n",
       "    </tr>\n",
       "    <tr>\n",
       "      <th>76049</th>\n",
       "      <td>1497_558</td>\n",
       "      <td>1497</td>\n",
       "      <td>2018-12-24</td>\n",
       "      <td>12</td>\n",
       "    </tr>\n",
       "    <tr>\n",
       "      <th>76050</th>\n",
       "      <td>1497_613</td>\n",
       "      <td>1497</td>\n",
       "      <td>2018-12-23</td>\n",
       "      <td>12</td>\n",
       "    </tr>\n",
       "  </tbody>\n",
       "</table>\n",
       "<p>76051 rows × 4 columns</p>\n",
       "</div>"
      ],
      "text/plain": [
       "             id  user_id message_date  month\n",
       "0      1000_125     1000   2018-12-27     12\n",
       "1      1000_160     1000   2018-12-31     12\n",
       "2      1000_223     1000   2018-12-31     12\n",
       "3      1000_251     1000   2018-12-27     12\n",
       "4      1000_255     1000   2018-12-26     12\n",
       "...         ...      ...          ...    ...\n",
       "76046  1497_526     1497   2018-12-24     12\n",
       "76047  1497_536     1497   2018-12-24     12\n",
       "76048  1497_547     1497   2018-12-31     12\n",
       "76049  1497_558     1497   2018-12-24     12\n",
       "76050  1497_613     1497   2018-12-23     12\n",
       "\n",
       "[76051 rows x 4 columns]"
      ]
     },
     "execution_count": 17,
     "metadata": {},
     "output_type": "execute_result"
    }
   ],
   "source": [
    "messages['month'] = pd.to_datetime(messages['message_date']).dt.month\n",
    "messages"
   ]
  },
  {
   "cell_type": "markdown",
   "metadata": {},
   "source": [
    "<div class=\"alert alert-block alert-info\">\n",
    "<ol>\n",
    "<li>Se aprecia que la dataframe \"message\" muestra los detalles de los mensajes enviados por los usuarios.</li>\n",
    "<li><b>Se creo una nueva columna llamada 'month'que almacena el mes en el que se envio el mensaje.</b></li> <a class=\"tocSkip\"></a>\n",
    "</div>"
   ]
  },
  {
   "cell_type": "markdown",
   "metadata": {
    "id": "bStkaxn40q1C"
   },
   "source": [
    "## Internet"
   ]
  },
  {
   "cell_type": "code",
   "execution_count": 18,
   "metadata": {
    "id": "e-Uz5qyn0q1C"
   },
   "outputs": [
    {
     "name": "stdout",
     "output_type": "stream",
     "text": [
      "<class 'pandas.core.frame.DataFrame'>\n",
      "RangeIndex: 104825 entries, 0 to 104824\n",
      "Data columns (total 4 columns):\n",
      " #   Column        Non-Null Count   Dtype  \n",
      "---  ------        --------------   -----  \n",
      " 0   id            104825 non-null  object \n",
      " 1   user_id       104825 non-null  int64  \n",
      " 2   session_date  104825 non-null  object \n",
      " 3   mb_used       104825 non-null  float64\n",
      "dtypes: float64(1), int64(1), object(2)\n",
      "memory usage: 3.2+ MB\n"
     ]
    }
   ],
   "source": [
    "# Imprime la información general/resumida sobre el DataFrame de internet\n",
    "\n",
    "internet.info()"
   ]
  },
  {
   "cell_type": "code",
   "execution_count": 19,
   "metadata": {
    "id": "9r3x_XLw0q1C"
   },
   "outputs": [
    {
     "data": {
      "text/html": [
       "<div>\n",
       "<style scoped>\n",
       "    .dataframe tbody tr th:only-of-type {\n",
       "        vertical-align: middle;\n",
       "    }\n",
       "\n",
       "    .dataframe tbody tr th {\n",
       "        vertical-align: top;\n",
       "    }\n",
       "\n",
       "    .dataframe thead th {\n",
       "        text-align: right;\n",
       "    }\n",
       "</style>\n",
       "<table border=\"1\" class=\"dataframe\">\n",
       "  <thead>\n",
       "    <tr style=\"text-align: right;\">\n",
       "      <th></th>\n",
       "      <th>id</th>\n",
       "      <th>user_id</th>\n",
       "      <th>session_date</th>\n",
       "      <th>mb_used</th>\n",
       "    </tr>\n",
       "  </thead>\n",
       "  <tbody>\n",
       "    <tr>\n",
       "      <th>7993</th>\n",
       "      <td>1043_24</td>\n",
       "      <td>1043</td>\n",
       "      <td>2018-11-01</td>\n",
       "      <td>974.32</td>\n",
       "    </tr>\n",
       "    <tr>\n",
       "      <th>78949</th>\n",
       "      <td>1368_117</td>\n",
       "      <td>1368</td>\n",
       "      <td>2018-10-11</td>\n",
       "      <td>74.76</td>\n",
       "    </tr>\n",
       "    <tr>\n",
       "      <th>100495</th>\n",
       "      <td>1475_288</td>\n",
       "      <td>1475</td>\n",
       "      <td>2018-12-09</td>\n",
       "      <td>138.22</td>\n",
       "    </tr>\n",
       "    <tr>\n",
       "      <th>85863</th>\n",
       "      <td>1399_476</td>\n",
       "      <td>1399</td>\n",
       "      <td>2018-10-01</td>\n",
       "      <td>140.25</td>\n",
       "    </tr>\n",
       "    <tr>\n",
       "      <th>25543</th>\n",
       "      <td>1120_23</td>\n",
       "      <td>1120</td>\n",
       "      <td>2018-05-01</td>\n",
       "      <td>230.32</td>\n",
       "    </tr>\n",
       "    <tr>\n",
       "      <th>58127</th>\n",
       "      <td>1261_606</td>\n",
       "      <td>1261</td>\n",
       "      <td>2018-12-28</td>\n",
       "      <td>0.00</td>\n",
       "    </tr>\n",
       "    <tr>\n",
       "      <th>25264</th>\n",
       "      <td>1117_197</td>\n",
       "      <td>1117</td>\n",
       "      <td>2018-10-04</td>\n",
       "      <td>308.43</td>\n",
       "    </tr>\n",
       "    <tr>\n",
       "      <th>52458</th>\n",
       "      <td>1236_321</td>\n",
       "      <td>1236</td>\n",
       "      <td>2018-06-19</td>\n",
       "      <td>561.61</td>\n",
       "    </tr>\n",
       "    <tr>\n",
       "      <th>55570</th>\n",
       "      <td>1251_381</td>\n",
       "      <td>1251</td>\n",
       "      <td>2018-10-25</td>\n",
       "      <td>76.69</td>\n",
       "    </tr>\n",
       "    <tr>\n",
       "      <th>31022</th>\n",
       "      <td>1141_416</td>\n",
       "      <td>1141</td>\n",
       "      <td>2018-08-29</td>\n",
       "      <td>0.00</td>\n",
       "    </tr>\n",
       "  </tbody>\n",
       "</table>\n",
       "</div>"
      ],
      "text/plain": [
       "              id  user_id session_date  mb_used\n",
       "7993     1043_24     1043   2018-11-01   974.32\n",
       "78949   1368_117     1368   2018-10-11    74.76\n",
       "100495  1475_288     1475   2018-12-09   138.22\n",
       "85863   1399_476     1399   2018-10-01   140.25\n",
       "25543    1120_23     1120   2018-05-01   230.32\n",
       "58127   1261_606     1261   2018-12-28     0.00\n",
       "25264   1117_197     1117   2018-10-04   308.43\n",
       "52458   1236_321     1236   2018-06-19   561.61\n",
       "55570   1251_381     1251   2018-10-25    76.69\n",
       "31022   1141_416     1141   2018-08-29     0.00"
      ]
     },
     "execution_count": 19,
     "metadata": {},
     "output_type": "execute_result"
    }
   ],
   "source": [
    "# Imprime una muestra de datos para el tráfico de internet\n",
    "\n",
    "internet.sample(10)"
   ]
  },
  {
   "cell_type": "markdown",
   "metadata": {
    "id": "yA0tkPFg0q1D"
   },
   "source": [
    "### Corregir los datos"
   ]
  },
  {
   "cell_type": "markdown",
   "metadata": {
    "id": "zlZMuIEK0q1D"
   },
   "source": [
    "No hay datos por corregir"
   ]
  },
  {
   "cell_type": "markdown",
   "metadata": {
    "id": "e8_mLF4a0q1E"
   },
   "source": [
    "### Enriquecer los datos"
   ]
  },
  {
   "cell_type": "markdown",
   "metadata": {
    "id": "xhNdn2tE0q1E"
   },
   "source": [
    "La data de la columna \"mb_used' se encuentra en mega bytes, para lo cual crearemos una nueva columna \"gb_used\" en el cual almacenaremos la cantidad de giga bytes usados en el mes (1 gb = 1025 mb) redondeados hacia arriba, debido a que el cobro de la tarifa se realiza siempre que el consumo supere 1 mb mas. Para lo cual la data de la columna \"mb_used\" es de tipo float, lo redondearemos con la funcion numpy \"np.ceil()\" y luego transformaremos la data a int con las funcion \".astype('int)\""
   ]
  },
  {
   "cell_type": "code",
   "execution_count": 20,
   "metadata": {
    "id": "ESiYPIEK0q1E"
   },
   "outputs": [
    {
     "data": {
      "text/html": [
       "<div>\n",
       "<style scoped>\n",
       "    .dataframe tbody tr th:only-of-type {\n",
       "        vertical-align: middle;\n",
       "    }\n",
       "\n",
       "    .dataframe tbody tr th {\n",
       "        vertical-align: top;\n",
       "    }\n",
       "\n",
       "    .dataframe thead th {\n",
       "        text-align: right;\n",
       "    }\n",
       "</style>\n",
       "<table border=\"1\" class=\"dataframe\">\n",
       "  <thead>\n",
       "    <tr style=\"text-align: right;\">\n",
       "      <th></th>\n",
       "      <th>id</th>\n",
       "      <th>user_id</th>\n",
       "      <th>session_date</th>\n",
       "      <th>mb_used</th>\n",
       "      <th>gb_used</th>\n",
       "    </tr>\n",
       "  </thead>\n",
       "  <tbody>\n",
       "    <tr>\n",
       "      <th>968</th>\n",
       "      <td>1006_108</td>\n",
       "      <td>1006</td>\n",
       "      <td>2018-12-18</td>\n",
       "      <td>389.67</td>\n",
       "      <td>1</td>\n",
       "    </tr>\n",
       "    <tr>\n",
       "      <th>37853</th>\n",
       "      <td>1171_224</td>\n",
       "      <td>1171</td>\n",
       "      <td>2018-06-03</td>\n",
       "      <td>76.47</td>\n",
       "      <td>1</td>\n",
       "    </tr>\n",
       "    <tr>\n",
       "      <th>14597</th>\n",
       "      <td>1066_492</td>\n",
       "      <td>1066</td>\n",
       "      <td>2018-03-10</td>\n",
       "      <td>938.04</td>\n",
       "      <td>1</td>\n",
       "    </tr>\n",
       "    <tr>\n",
       "      <th>69205</th>\n",
       "      <td>1322_118</td>\n",
       "      <td>1322</td>\n",
       "      <td>2018-08-27</td>\n",
       "      <td>613.93</td>\n",
       "      <td>1</td>\n",
       "    </tr>\n",
       "    <tr>\n",
       "      <th>36593</th>\n",
       "      <td>1164_276</td>\n",
       "      <td>1164</td>\n",
       "      <td>2018-04-26</td>\n",
       "      <td>300.75</td>\n",
       "      <td>1</td>\n",
       "    </tr>\n",
       "    <tr>\n",
       "      <th>81399</th>\n",
       "      <td>1381_78</td>\n",
       "      <td>1381</td>\n",
       "      <td>2018-11-09</td>\n",
       "      <td>348.33</td>\n",
       "      <td>1</td>\n",
       "    </tr>\n",
       "    <tr>\n",
       "      <th>78538</th>\n",
       "      <td>1366_227</td>\n",
       "      <td>1366</td>\n",
       "      <td>2018-09-05</td>\n",
       "      <td>226.62</td>\n",
       "      <td>1</td>\n",
       "    </tr>\n",
       "    <tr>\n",
       "      <th>99485</th>\n",
       "      <td>1468_318</td>\n",
       "      <td>1468</td>\n",
       "      <td>2018-10-21</td>\n",
       "      <td>261.04</td>\n",
       "      <td>1</td>\n",
       "    </tr>\n",
       "    <tr>\n",
       "      <th>75754</th>\n",
       "      <td>1356_202</td>\n",
       "      <td>1356</td>\n",
       "      <td>2018-12-09</td>\n",
       "      <td>371.45</td>\n",
       "      <td>1</td>\n",
       "    </tr>\n",
       "    <tr>\n",
       "      <th>6553</th>\n",
       "      <td>1038_41</td>\n",
       "      <td>1038</td>\n",
       "      <td>2018-12-16</td>\n",
       "      <td>821.38</td>\n",
       "      <td>1</td>\n",
       "    </tr>\n",
       "  </tbody>\n",
       "</table>\n",
       "</div>"
      ],
      "text/plain": [
       "             id  user_id session_date  mb_used  gb_used\n",
       "968    1006_108     1006   2018-12-18   389.67        1\n",
       "37853  1171_224     1171   2018-06-03    76.47        1\n",
       "14597  1066_492     1066   2018-03-10   938.04        1\n",
       "69205  1322_118     1322   2018-08-27   613.93        1\n",
       "36593  1164_276     1164   2018-04-26   300.75        1\n",
       "81399   1381_78     1381   2018-11-09   348.33        1\n",
       "78538  1366_227     1366   2018-09-05   226.62        1\n",
       "99485  1468_318     1468   2018-10-21   261.04        1\n",
       "75754  1356_202     1356   2018-12-09   371.45        1\n",
       "6553    1038_41     1038   2018-12-16   821.38        1"
      ]
     },
     "execution_count": 20,
     "metadata": {},
     "output_type": "execute_result"
    }
   ],
   "source": [
    "internet['gb_used'] = internet['mb_used'] / 1024\n",
    "internet['gb_used'] = np.ceil(internet['gb_used'])\n",
    "internet['gb_used'] = internet['gb_used'].astype('int')\n",
    "internet.sample(10)"
   ]
  },
  {
   "cell_type": "markdown",
   "metadata": {},
   "source": [
    "Crearemos una columna lladamada \"month\" que almacene la data del mes en la que se ejecuto la sesion de consumo de datos. Para ello usaremos el metodo de pandas \"to_datetime\" para transformar la data de la columna \"session_date\" y usaremos el metodo \".dt.month\" para extraer solo la data del mes."
   ]
  },
  {
   "cell_type": "code",
   "execution_count": 21,
   "metadata": {},
   "outputs": [
    {
     "data": {
      "text/html": [
       "<div>\n",
       "<style scoped>\n",
       "    .dataframe tbody tr th:only-of-type {\n",
       "        vertical-align: middle;\n",
       "    }\n",
       "\n",
       "    .dataframe tbody tr th {\n",
       "        vertical-align: top;\n",
       "    }\n",
       "\n",
       "    .dataframe thead th {\n",
       "        text-align: right;\n",
       "    }\n",
       "</style>\n",
       "<table border=\"1\" class=\"dataframe\">\n",
       "  <thead>\n",
       "    <tr style=\"text-align: right;\">\n",
       "      <th></th>\n",
       "      <th>id</th>\n",
       "      <th>user_id</th>\n",
       "      <th>session_date</th>\n",
       "      <th>mb_used</th>\n",
       "      <th>gb_used</th>\n",
       "      <th>month</th>\n",
       "    </tr>\n",
       "  </thead>\n",
       "  <tbody>\n",
       "    <tr>\n",
       "      <th>0</th>\n",
       "      <td>1000_13</td>\n",
       "      <td>1000</td>\n",
       "      <td>2018-12-29</td>\n",
       "      <td>89.86</td>\n",
       "      <td>1</td>\n",
       "      <td>12</td>\n",
       "    </tr>\n",
       "    <tr>\n",
       "      <th>1</th>\n",
       "      <td>1000_204</td>\n",
       "      <td>1000</td>\n",
       "      <td>2018-12-31</td>\n",
       "      <td>0.00</td>\n",
       "      <td>0</td>\n",
       "      <td>12</td>\n",
       "    </tr>\n",
       "    <tr>\n",
       "      <th>2</th>\n",
       "      <td>1000_379</td>\n",
       "      <td>1000</td>\n",
       "      <td>2018-12-28</td>\n",
       "      <td>660.40</td>\n",
       "      <td>1</td>\n",
       "      <td>12</td>\n",
       "    </tr>\n",
       "    <tr>\n",
       "      <th>3</th>\n",
       "      <td>1000_413</td>\n",
       "      <td>1000</td>\n",
       "      <td>2018-12-26</td>\n",
       "      <td>270.99</td>\n",
       "      <td>1</td>\n",
       "      <td>12</td>\n",
       "    </tr>\n",
       "    <tr>\n",
       "      <th>4</th>\n",
       "      <td>1000_442</td>\n",
       "      <td>1000</td>\n",
       "      <td>2018-12-27</td>\n",
       "      <td>880.22</td>\n",
       "      <td>1</td>\n",
       "      <td>12</td>\n",
       "    </tr>\n",
       "    <tr>\n",
       "      <th>...</th>\n",
       "      <td>...</td>\n",
       "      <td>...</td>\n",
       "      <td>...</td>\n",
       "      <td>...</td>\n",
       "      <td>...</td>\n",
       "      <td>...</td>\n",
       "    </tr>\n",
       "    <tr>\n",
       "      <th>104820</th>\n",
       "      <td>1499_215</td>\n",
       "      <td>1499</td>\n",
       "      <td>2018-10-20</td>\n",
       "      <td>218.06</td>\n",
       "      <td>1</td>\n",
       "      <td>10</td>\n",
       "    </tr>\n",
       "    <tr>\n",
       "      <th>104821</th>\n",
       "      <td>1499_216</td>\n",
       "      <td>1499</td>\n",
       "      <td>2018-12-30</td>\n",
       "      <td>304.72</td>\n",
       "      <td>1</td>\n",
       "      <td>12</td>\n",
       "    </tr>\n",
       "    <tr>\n",
       "      <th>104822</th>\n",
       "      <td>1499_217</td>\n",
       "      <td>1499</td>\n",
       "      <td>2018-09-22</td>\n",
       "      <td>292.75</td>\n",
       "      <td>1</td>\n",
       "      <td>9</td>\n",
       "    </tr>\n",
       "    <tr>\n",
       "      <th>104823</th>\n",
       "      <td>1499_218</td>\n",
       "      <td>1499</td>\n",
       "      <td>2018-12-07</td>\n",
       "      <td>0.00</td>\n",
       "      <td>0</td>\n",
       "      <td>12</td>\n",
       "    </tr>\n",
       "    <tr>\n",
       "      <th>104824</th>\n",
       "      <td>1499_219</td>\n",
       "      <td>1499</td>\n",
       "      <td>2018-12-24</td>\n",
       "      <td>758.31</td>\n",
       "      <td>1</td>\n",
       "      <td>12</td>\n",
       "    </tr>\n",
       "  </tbody>\n",
       "</table>\n",
       "<p>104825 rows × 6 columns</p>\n",
       "</div>"
      ],
      "text/plain": [
       "              id  user_id session_date  mb_used  gb_used  month\n",
       "0        1000_13     1000   2018-12-29    89.86        1     12\n",
       "1       1000_204     1000   2018-12-31     0.00        0     12\n",
       "2       1000_379     1000   2018-12-28   660.40        1     12\n",
       "3       1000_413     1000   2018-12-26   270.99        1     12\n",
       "4       1000_442     1000   2018-12-27   880.22        1     12\n",
       "...          ...      ...          ...      ...      ...    ...\n",
       "104820  1499_215     1499   2018-10-20   218.06        1     10\n",
       "104821  1499_216     1499   2018-12-30   304.72        1     12\n",
       "104822  1499_217     1499   2018-09-22   292.75        1      9\n",
       "104823  1499_218     1499   2018-12-07     0.00        0     12\n",
       "104824  1499_219     1499   2018-12-24   758.31        1     12\n",
       "\n",
       "[104825 rows x 6 columns]"
      ]
     },
     "execution_count": 21,
     "metadata": {},
     "output_type": "execute_result"
    }
   ],
   "source": [
    "internet['month'] = pd.to_datetime(internet['session_date']).dt.month\n",
    "internet"
   ]
  },
  {
   "cell_type": "markdown",
   "metadata": {},
   "source": [
    "<div class=\"alert alert-block alert-info\">\n",
    "<ol>\n",
    "<li>Se aprecia que la dataframe \"internet\" muestra los detalles del consumo de los mega bytes del plan.</li>\n",
    "<li><b>Se creo una nueva columna llamada 'gb_used' en la cual usamos la data de la columna 'mb_used' transformada a gygabytes y redondeada al siguiente GB y la convertimos a data 'int'.</b></li> \n",
    "<li><b>Se creo una nueva columna llamada 'month'que almacena el mes en el que se dio la sesion de consumo de datos.</b></li><a class=\"tocSkip\"></a>\n",
    "</div>"
   ]
  },
  {
   "cell_type": "markdown",
   "metadata": {
    "id": "3UA2cqIW0q1E"
   },
   "source": [
    "## Estudiar las condiciones de las tarifas"
   ]
  },
  {
   "cell_type": "markdown",
   "metadata": {
    "id": "T86Sqltq0q1F"
   },
   "source": [
    "[Es sumamente importante entender cómo funcionan las tarifas, cómo se les cobra a los usuarios en función de su plan de suscripción. Así que te sugerimos imprimir la información de la tarifa para ver una vez más sus condiciones.]"
   ]
  },
  {
   "cell_type": "code",
   "execution_count": 22,
   "metadata": {
    "id": "i409op8p0q1F"
   },
   "outputs": [
    {
     "data": {
      "text/html": [
       "<div>\n",
       "<style scoped>\n",
       "    .dataframe tbody tr th:only-of-type {\n",
       "        vertical-align: middle;\n",
       "    }\n",
       "\n",
       "    .dataframe tbody tr th {\n",
       "        vertical-align: top;\n",
       "    }\n",
       "\n",
       "    .dataframe thead th {\n",
       "        text-align: right;\n",
       "    }\n",
       "</style>\n",
       "<table border=\"1\" class=\"dataframe\">\n",
       "  <thead>\n",
       "    <tr style=\"text-align: right;\">\n",
       "      <th></th>\n",
       "      <th>messages_included</th>\n",
       "      <th>mb_per_month_included</th>\n",
       "      <th>minutes_included</th>\n",
       "      <th>usd_monthly_pay</th>\n",
       "      <th>usd_per_gb</th>\n",
       "      <th>usd_per_message</th>\n",
       "      <th>usd_per_minute</th>\n",
       "      <th>plan_name</th>\n",
       "    </tr>\n",
       "  </thead>\n",
       "  <tbody>\n",
       "    <tr>\n",
       "      <th>0</th>\n",
       "      <td>50</td>\n",
       "      <td>15360</td>\n",
       "      <td>500</td>\n",
       "      <td>20</td>\n",
       "      <td>10</td>\n",
       "      <td>0.03</td>\n",
       "      <td>0.03</td>\n",
       "      <td>surf</td>\n",
       "    </tr>\n",
       "    <tr>\n",
       "      <th>1</th>\n",
       "      <td>1000</td>\n",
       "      <td>30720</td>\n",
       "      <td>3000</td>\n",
       "      <td>70</td>\n",
       "      <td>7</td>\n",
       "      <td>0.01</td>\n",
       "      <td>0.01</td>\n",
       "      <td>ultimate</td>\n",
       "    </tr>\n",
       "  </tbody>\n",
       "</table>\n",
       "</div>"
      ],
      "text/plain": [
       "   messages_included  mb_per_month_included  minutes_included  \\\n",
       "0                 50                  15360               500   \n",
       "1               1000                  30720              3000   \n",
       "\n",
       "   usd_monthly_pay  usd_per_gb  usd_per_message  usd_per_minute plan_name  \n",
       "0               20          10             0.03            0.03      surf  \n",
       "1               70           7             0.01            0.01  ultimate  "
      ]
     },
     "execution_count": 22,
     "metadata": {},
     "output_type": "execute_result"
    }
   ],
   "source": [
    "# Imprime las condiciones de la tarifa y asegúrate de que te quedan claras\n",
    "\n",
    "plans"
   ]
  },
  {
   "cell_type": "markdown",
   "metadata": {},
   "source": [
    "<div class=\"alert alert-block alert-info\">\n",
    "<ol>\n",
    "<li><b>PLAN SURF:</b> Costo mensual 20 USD, costo por consumo adicional 10 USD/GB, 0.03 USD/message y 0.03 USD/minute</li>\n",
    "<li><b>PLAN ULTIMATE:</b> Costo mensual 70 USD, costo por consumo adicional 7 USD/GB, 0.01 USD/message y 0.01 USD/minute</li> <a class=\"tocSkip\"></a>\n",
    "</div>"
   ]
  },
  {
   "cell_type": "markdown",
   "metadata": {
    "id": "hMR1tP5d0q1F"
   },
   "source": [
    "## Agregar datos por usuario\n",
    "\n",
    "[Ahora que los datos están limpios, agrega los datos por usuario y por periodo para que solo haya un registro por usuario y por periodo. Esto facilitará mucho el análisis posterior.]"
   ]
  },
  {
   "cell_type": "code",
   "execution_count": 23,
   "metadata": {
    "id": "A332cedB0q1G"
   },
   "outputs": [
    {
     "data": {
      "text/html": [
       "<div>\n",
       "<style scoped>\n",
       "    .dataframe tbody tr th:only-of-type {\n",
       "        vertical-align: middle;\n",
       "    }\n",
       "\n",
       "    .dataframe tbody tr th {\n",
       "        vertical-align: top;\n",
       "    }\n",
       "\n",
       "    .dataframe thead th {\n",
       "        text-align: right;\n",
       "    }\n",
       "</style>\n",
       "<table border=\"1\" class=\"dataframe\">\n",
       "  <thead>\n",
       "    <tr style=\"text-align: right;\">\n",
       "      <th></th>\n",
       "      <th>user_id</th>\n",
       "      <th>month</th>\n",
       "      <th>Numero de llamadas</th>\n",
       "    </tr>\n",
       "  </thead>\n",
       "  <tbody>\n",
       "    <tr>\n",
       "      <th>0</th>\n",
       "      <td>1000</td>\n",
       "      <td>12</td>\n",
       "      <td>16</td>\n",
       "    </tr>\n",
       "    <tr>\n",
       "      <th>1</th>\n",
       "      <td>1001</td>\n",
       "      <td>8</td>\n",
       "      <td>27</td>\n",
       "    </tr>\n",
       "    <tr>\n",
       "      <th>2</th>\n",
       "      <td>1001</td>\n",
       "      <td>9</td>\n",
       "      <td>49</td>\n",
       "    </tr>\n",
       "    <tr>\n",
       "      <th>3</th>\n",
       "      <td>1001</td>\n",
       "      <td>10</td>\n",
       "      <td>65</td>\n",
       "    </tr>\n",
       "    <tr>\n",
       "      <th>4</th>\n",
       "      <td>1001</td>\n",
       "      <td>11</td>\n",
       "      <td>64</td>\n",
       "    </tr>\n",
       "    <tr>\n",
       "      <th>...</th>\n",
       "      <td>...</td>\n",
       "      <td>...</td>\n",
       "      <td>...</td>\n",
       "    </tr>\n",
       "    <tr>\n",
       "      <th>2253</th>\n",
       "      <td>1498</td>\n",
       "      <td>12</td>\n",
       "      <td>39</td>\n",
       "    </tr>\n",
       "    <tr>\n",
       "      <th>2254</th>\n",
       "      <td>1499</td>\n",
       "      <td>9</td>\n",
       "      <td>41</td>\n",
       "    </tr>\n",
       "    <tr>\n",
       "      <th>2255</th>\n",
       "      <td>1499</td>\n",
       "      <td>10</td>\n",
       "      <td>53</td>\n",
       "    </tr>\n",
       "    <tr>\n",
       "      <th>2256</th>\n",
       "      <td>1499</td>\n",
       "      <td>11</td>\n",
       "      <td>45</td>\n",
       "    </tr>\n",
       "    <tr>\n",
       "      <th>2257</th>\n",
       "      <td>1499</td>\n",
       "      <td>12</td>\n",
       "      <td>65</td>\n",
       "    </tr>\n",
       "  </tbody>\n",
       "</table>\n",
       "<p>2258 rows × 3 columns</p>\n",
       "</div>"
      ],
      "text/plain": [
       "      user_id  month  Numero de llamadas\n",
       "0        1000     12                  16\n",
       "1        1001      8                  27\n",
       "2        1001      9                  49\n",
       "3        1001     10                  65\n",
       "4        1001     11                  64\n",
       "...       ...    ...                 ...\n",
       "2253     1498     12                  39\n",
       "2254     1499      9                  41\n",
       "2255     1499     10                  53\n",
       "2256     1499     11                  45\n",
       "2257     1499     12                  65\n",
       "\n",
       "[2258 rows x 3 columns]"
      ]
     },
     "execution_count": 23,
     "metadata": {},
     "output_type": "execute_result"
    }
   ],
   "source": [
    "# Calcula el número de llamadas hechas por cada usuario al mes. Guarda el resultado.\n",
    "\n",
    "llamada_user = calls.groupby(['user_id', 'month'])['id'].count().reset_index()\n",
    "llamada_user.columns = ['user_id','month','Numero de llamadas']\n",
    "llamada_user"
   ]
  },
  {
   "cell_type": "code",
   "execution_count": 24,
   "metadata": {
    "id": "aw2cmuql0q1G"
   },
   "outputs": [
    {
     "data": {
      "text/html": [
       "<div>\n",
       "<style scoped>\n",
       "    .dataframe tbody tr th:only-of-type {\n",
       "        vertical-align: middle;\n",
       "    }\n",
       "\n",
       "    .dataframe tbody tr th {\n",
       "        vertical-align: top;\n",
       "    }\n",
       "\n",
       "    .dataframe thead th {\n",
       "        text-align: right;\n",
       "    }\n",
       "</style>\n",
       "<table border=\"1\" class=\"dataframe\">\n",
       "  <thead>\n",
       "    <tr style=\"text-align: right;\">\n",
       "      <th></th>\n",
       "      <th>user_id</th>\n",
       "      <th>month</th>\n",
       "      <th>Duracion total llamada</th>\n",
       "    </tr>\n",
       "  </thead>\n",
       "  <tbody>\n",
       "    <tr>\n",
       "      <th>0</th>\n",
       "      <td>1000</td>\n",
       "      <td>12</td>\n",
       "      <td>124</td>\n",
       "    </tr>\n",
       "    <tr>\n",
       "      <th>1</th>\n",
       "      <td>1001</td>\n",
       "      <td>8</td>\n",
       "      <td>182</td>\n",
       "    </tr>\n",
       "    <tr>\n",
       "      <th>2</th>\n",
       "      <td>1001</td>\n",
       "      <td>9</td>\n",
       "      <td>315</td>\n",
       "    </tr>\n",
       "    <tr>\n",
       "      <th>3</th>\n",
       "      <td>1001</td>\n",
       "      <td>10</td>\n",
       "      <td>393</td>\n",
       "    </tr>\n",
       "    <tr>\n",
       "      <th>4</th>\n",
       "      <td>1001</td>\n",
       "      <td>11</td>\n",
       "      <td>426</td>\n",
       "    </tr>\n",
       "    <tr>\n",
       "      <th>...</th>\n",
       "      <td>...</td>\n",
       "      <td>...</td>\n",
       "      <td>...</td>\n",
       "    </tr>\n",
       "    <tr>\n",
       "      <th>2253</th>\n",
       "      <td>1498</td>\n",
       "      <td>12</td>\n",
       "      <td>339</td>\n",
       "    </tr>\n",
       "    <tr>\n",
       "      <th>2254</th>\n",
       "      <td>1499</td>\n",
       "      <td>9</td>\n",
       "      <td>346</td>\n",
       "    </tr>\n",
       "    <tr>\n",
       "      <th>2255</th>\n",
       "      <td>1499</td>\n",
       "      <td>10</td>\n",
       "      <td>385</td>\n",
       "    </tr>\n",
       "    <tr>\n",
       "      <th>2256</th>\n",
       "      <td>1499</td>\n",
       "      <td>11</td>\n",
       "      <td>308</td>\n",
       "    </tr>\n",
       "    <tr>\n",
       "      <th>2257</th>\n",
       "      <td>1499</td>\n",
       "      <td>12</td>\n",
       "      <td>496</td>\n",
       "    </tr>\n",
       "  </tbody>\n",
       "</table>\n",
       "<p>2258 rows × 3 columns</p>\n",
       "</div>"
      ],
      "text/plain": [
       "      user_id  month  Duracion total llamada\n",
       "0        1000     12                     124\n",
       "1        1001      8                     182\n",
       "2        1001      9                     315\n",
       "3        1001     10                     393\n",
       "4        1001     11                     426\n",
       "...       ...    ...                     ...\n",
       "2253     1498     12                     339\n",
       "2254     1499      9                     346\n",
       "2255     1499     10                     385\n",
       "2256     1499     11                     308\n",
       "2257     1499     12                     496\n",
       "\n",
       "[2258 rows x 3 columns]"
      ]
     },
     "execution_count": 24,
     "metadata": {},
     "output_type": "execute_result"
    }
   ],
   "source": [
    "# Calcula la cantidad de minutos usados por cada usuario al mes. Guarda el resultado.\n",
    "llamada_user_min = calls.groupby(['user_id', 'month'])['rounded duration'].sum().reset_index()\n",
    "llamada_user_min.columns = ['user_id','month','Duracion total llamada']\n",
    "llamada_user_min\n"
   ]
  },
  {
   "cell_type": "code",
   "execution_count": 25,
   "metadata": {
    "id": "CcQvNHn60q1G"
   },
   "outputs": [
    {
     "data": {
      "text/html": [
       "<div>\n",
       "<style scoped>\n",
       "    .dataframe tbody tr th:only-of-type {\n",
       "        vertical-align: middle;\n",
       "    }\n",
       "\n",
       "    .dataframe tbody tr th {\n",
       "        vertical-align: top;\n",
       "    }\n",
       "\n",
       "    .dataframe thead th {\n",
       "        text-align: right;\n",
       "    }\n",
       "</style>\n",
       "<table border=\"1\" class=\"dataframe\">\n",
       "  <thead>\n",
       "    <tr style=\"text-align: right;\">\n",
       "      <th></th>\n",
       "      <th>user_id</th>\n",
       "      <th>month</th>\n",
       "      <th>Cantidad de mensajes</th>\n",
       "    </tr>\n",
       "  </thead>\n",
       "  <tbody>\n",
       "    <tr>\n",
       "      <th>0</th>\n",
       "      <td>1000</td>\n",
       "      <td>12</td>\n",
       "      <td>11</td>\n",
       "    </tr>\n",
       "    <tr>\n",
       "      <th>1</th>\n",
       "      <td>1001</td>\n",
       "      <td>8</td>\n",
       "      <td>30</td>\n",
       "    </tr>\n",
       "    <tr>\n",
       "      <th>2</th>\n",
       "      <td>1001</td>\n",
       "      <td>9</td>\n",
       "      <td>44</td>\n",
       "    </tr>\n",
       "    <tr>\n",
       "      <th>3</th>\n",
       "      <td>1001</td>\n",
       "      <td>10</td>\n",
       "      <td>53</td>\n",
       "    </tr>\n",
       "    <tr>\n",
       "      <th>4</th>\n",
       "      <td>1001</td>\n",
       "      <td>11</td>\n",
       "      <td>36</td>\n",
       "    </tr>\n",
       "    <tr>\n",
       "      <th>...</th>\n",
       "      <td>...</td>\n",
       "      <td>...</td>\n",
       "      <td>...</td>\n",
       "    </tr>\n",
       "    <tr>\n",
       "      <th>1801</th>\n",
       "      <td>1496</td>\n",
       "      <td>9</td>\n",
       "      <td>21</td>\n",
       "    </tr>\n",
       "    <tr>\n",
       "      <th>1802</th>\n",
       "      <td>1496</td>\n",
       "      <td>10</td>\n",
       "      <td>18</td>\n",
       "    </tr>\n",
       "    <tr>\n",
       "      <th>1803</th>\n",
       "      <td>1496</td>\n",
       "      <td>11</td>\n",
       "      <td>13</td>\n",
       "    </tr>\n",
       "    <tr>\n",
       "      <th>1804</th>\n",
       "      <td>1496</td>\n",
       "      <td>12</td>\n",
       "      <td>11</td>\n",
       "    </tr>\n",
       "    <tr>\n",
       "      <th>1805</th>\n",
       "      <td>1497</td>\n",
       "      <td>12</td>\n",
       "      <td>50</td>\n",
       "    </tr>\n",
       "  </tbody>\n",
       "</table>\n",
       "<p>1806 rows × 3 columns</p>\n",
       "</div>"
      ],
      "text/plain": [
       "      user_id  month  Cantidad de mensajes\n",
       "0        1000     12                    11\n",
       "1        1001      8                    30\n",
       "2        1001      9                    44\n",
       "3        1001     10                    53\n",
       "4        1001     11                    36\n",
       "...       ...    ...                   ...\n",
       "1801     1496      9                    21\n",
       "1802     1496     10                    18\n",
       "1803     1496     11                    13\n",
       "1804     1496     12                    11\n",
       "1805     1497     12                    50\n",
       "\n",
       "[1806 rows x 3 columns]"
      ]
     },
     "execution_count": 25,
     "metadata": {},
     "output_type": "execute_result"
    }
   ],
   "source": [
    "# Calcula el número de mensajes enviados por cada usuario al mes. Guarda el resultado.\n",
    "\n",
    "mensajes_user = messages.groupby(['user_id', 'month'])['id'].count().reset_index()\n",
    "mensajes_user.columns = ['user_id','month','Cantidad de mensajes']\n",
    "mensajes_user"
   ]
  },
  {
   "cell_type": "code",
   "execution_count": 26,
   "metadata": {
    "id": "H1AqN2eG0q1H"
   },
   "outputs": [
    {
     "data": {
      "text/html": [
       "<div>\n",
       "<style scoped>\n",
       "    .dataframe tbody tr th:only-of-type {\n",
       "        vertical-align: middle;\n",
       "    }\n",
       "\n",
       "    .dataframe tbody tr th {\n",
       "        vertical-align: top;\n",
       "    }\n",
       "\n",
       "    .dataframe thead th {\n",
       "        text-align: right;\n",
       "    }\n",
       "</style>\n",
       "<table border=\"1\" class=\"dataframe\">\n",
       "  <thead>\n",
       "    <tr style=\"text-align: right;\">\n",
       "      <th></th>\n",
       "      <th>user_id</th>\n",
       "      <th>month</th>\n",
       "      <th>gb_used</th>\n",
       "    </tr>\n",
       "  </thead>\n",
       "  <tbody>\n",
       "    <tr>\n",
       "      <th>0</th>\n",
       "      <td>1000</td>\n",
       "      <td>12</td>\n",
       "      <td>4</td>\n",
       "    </tr>\n",
       "    <tr>\n",
       "      <th>1</th>\n",
       "      <td>1001</td>\n",
       "      <td>8</td>\n",
       "      <td>21</td>\n",
       "    </tr>\n",
       "    <tr>\n",
       "      <th>2</th>\n",
       "      <td>1001</td>\n",
       "      <td>9</td>\n",
       "      <td>41</td>\n",
       "    </tr>\n",
       "    <tr>\n",
       "      <th>3</th>\n",
       "      <td>1001</td>\n",
       "      <td>10</td>\n",
       "      <td>50</td>\n",
       "    </tr>\n",
       "    <tr>\n",
       "      <th>4</th>\n",
       "      <td>1001</td>\n",
       "      <td>11</td>\n",
       "      <td>49</td>\n",
       "    </tr>\n",
       "    <tr>\n",
       "      <th>...</th>\n",
       "      <td>...</td>\n",
       "      <td>...</td>\n",
       "      <td>...</td>\n",
       "    </tr>\n",
       "    <tr>\n",
       "      <th>2272</th>\n",
       "      <td>1498</td>\n",
       "      <td>12</td>\n",
       "      <td>56</td>\n",
       "    </tr>\n",
       "    <tr>\n",
       "      <th>2273</th>\n",
       "      <td>1499</td>\n",
       "      <td>9</td>\n",
       "      <td>37</td>\n",
       "    </tr>\n",
       "    <tr>\n",
       "      <th>2274</th>\n",
       "      <td>1499</td>\n",
       "      <td>10</td>\n",
       "      <td>52</td>\n",
       "    </tr>\n",
       "    <tr>\n",
       "      <th>2275</th>\n",
       "      <td>1499</td>\n",
       "      <td>11</td>\n",
       "      <td>43</td>\n",
       "    </tr>\n",
       "    <tr>\n",
       "      <th>2276</th>\n",
       "      <td>1499</td>\n",
       "      <td>12</td>\n",
       "      <td>58</td>\n",
       "    </tr>\n",
       "  </tbody>\n",
       "</table>\n",
       "<p>2277 rows × 3 columns</p>\n",
       "</div>"
      ],
      "text/plain": [
       "      user_id  month  gb_used\n",
       "0        1000     12        4\n",
       "1        1001      8       21\n",
       "2        1001      9       41\n",
       "3        1001     10       50\n",
       "4        1001     11       49\n",
       "...       ...    ...      ...\n",
       "2272     1498     12       56\n",
       "2273     1499      9       37\n",
       "2274     1499     10       52\n",
       "2275     1499     11       43\n",
       "2276     1499     12       58\n",
       "\n",
       "[2277 rows x 3 columns]"
      ]
     },
     "execution_count": 26,
     "metadata": {},
     "output_type": "execute_result"
    }
   ],
   "source": [
    "# Calcula el volumen del tráfico de Internet usado por cada usuario al mes. Guarda el resultado.\n",
    "\n",
    "internet_user = internet.groupby(['user_id', 'month'])['gb_used'].sum().reset_index()\n",
    "internet_user.columns = ['user_id','month','gb_used']\n",
    "internet_user"
   ]
  },
  {
   "cell_type": "markdown",
   "metadata": {},
   "source": [
    "<div class=\"alert alert-block alert-info\">\n",
    "<b>Usamos el metodo \".merge()\" con el metodo \"how = 'outer'\" para unir las bases de datos \"internet_user, mensajes_user, llamada_user_min, llamada_user\" a traves de las 'user_id','month'columnas' en una sola dataframe llamada \"data_merged\"</b><a class=\"tocSkip\"></a>\n",
    "</div>"
   ]
  },
  {
   "cell_type": "code",
   "execution_count": 27,
   "metadata": {
    "id": "FW99ykyf0q1H"
   },
   "outputs": [
    {
     "data": {
      "text/html": [
       "<div>\n",
       "<style scoped>\n",
       "    .dataframe tbody tr th:only-of-type {\n",
       "        vertical-align: middle;\n",
       "    }\n",
       "\n",
       "    .dataframe tbody tr th {\n",
       "        vertical-align: top;\n",
       "    }\n",
       "\n",
       "    .dataframe thead th {\n",
       "        text-align: right;\n",
       "    }\n",
       "</style>\n",
       "<table border=\"1\" class=\"dataframe\">\n",
       "  <thead>\n",
       "    <tr style=\"text-align: right;\">\n",
       "      <th></th>\n",
       "      <th>user_id</th>\n",
       "      <th>month</th>\n",
       "      <th>gb_used</th>\n",
       "      <th>Cantidad de mensajes</th>\n",
       "      <th>Duracion total llamada</th>\n",
       "      <th>Numero de llamadas</th>\n",
       "      <th>plan_name</th>\n",
       "      <th>Estado</th>\n",
       "    </tr>\n",
       "  </thead>\n",
       "  <tbody>\n",
       "    <tr>\n",
       "      <th>0</th>\n",
       "      <td>1000</td>\n",
       "      <td>12.0</td>\n",
       "      <td>4.0</td>\n",
       "      <td>11.0</td>\n",
       "      <td>124.0</td>\n",
       "      <td>16.0</td>\n",
       "      <td>ultimate</td>\n",
       "      <td>GA MSA</td>\n",
       "    </tr>\n",
       "    <tr>\n",
       "      <th>1</th>\n",
       "      <td>1001</td>\n",
       "      <td>8.0</td>\n",
       "      <td>21.0</td>\n",
       "      <td>30.0</td>\n",
       "      <td>182.0</td>\n",
       "      <td>27.0</td>\n",
       "      <td>surf</td>\n",
       "      <td>WA MSA</td>\n",
       "    </tr>\n",
       "    <tr>\n",
       "      <th>2</th>\n",
       "      <td>1001</td>\n",
       "      <td>9.0</td>\n",
       "      <td>41.0</td>\n",
       "      <td>44.0</td>\n",
       "      <td>315.0</td>\n",
       "      <td>49.0</td>\n",
       "      <td>surf</td>\n",
       "      <td>WA MSA</td>\n",
       "    </tr>\n",
       "    <tr>\n",
       "      <th>3</th>\n",
       "      <td>1001</td>\n",
       "      <td>10.0</td>\n",
       "      <td>50.0</td>\n",
       "      <td>53.0</td>\n",
       "      <td>393.0</td>\n",
       "      <td>65.0</td>\n",
       "      <td>surf</td>\n",
       "      <td>WA MSA</td>\n",
       "    </tr>\n",
       "    <tr>\n",
       "      <th>4</th>\n",
       "      <td>1001</td>\n",
       "      <td>11.0</td>\n",
       "      <td>49.0</td>\n",
       "      <td>36.0</td>\n",
       "      <td>426.0</td>\n",
       "      <td>64.0</td>\n",
       "      <td>surf</td>\n",
       "      <td>WA MSA</td>\n",
       "    </tr>\n",
       "    <tr>\n",
       "      <th>...</th>\n",
       "      <td>...</td>\n",
       "      <td>...</td>\n",
       "      <td>...</td>\n",
       "      <td>...</td>\n",
       "      <td>...</td>\n",
       "      <td>...</td>\n",
       "      <td>...</td>\n",
       "      <td>...</td>\n",
       "    </tr>\n",
       "    <tr>\n",
       "      <th>2280</th>\n",
       "      <td>1498</td>\n",
       "      <td>12.0</td>\n",
       "      <td>56.0</td>\n",
       "      <td>NaN</td>\n",
       "      <td>339.0</td>\n",
       "      <td>39.0</td>\n",
       "      <td>surf</td>\n",
       "      <td>NY-NJ-PA MSA</td>\n",
       "    </tr>\n",
       "    <tr>\n",
       "      <th>2281</th>\n",
       "      <td>1499</td>\n",
       "      <td>9.0</td>\n",
       "      <td>37.0</td>\n",
       "      <td>NaN</td>\n",
       "      <td>346.0</td>\n",
       "      <td>41.0</td>\n",
       "      <td>surf</td>\n",
       "      <td>FL MSA</td>\n",
       "    </tr>\n",
       "    <tr>\n",
       "      <th>2282</th>\n",
       "      <td>1499</td>\n",
       "      <td>10.0</td>\n",
       "      <td>52.0</td>\n",
       "      <td>NaN</td>\n",
       "      <td>385.0</td>\n",
       "      <td>53.0</td>\n",
       "      <td>surf</td>\n",
       "      <td>FL MSA</td>\n",
       "    </tr>\n",
       "    <tr>\n",
       "      <th>2283</th>\n",
       "      <td>1499</td>\n",
       "      <td>11.0</td>\n",
       "      <td>43.0</td>\n",
       "      <td>NaN</td>\n",
       "      <td>308.0</td>\n",
       "      <td>45.0</td>\n",
       "      <td>surf</td>\n",
       "      <td>FL MSA</td>\n",
       "    </tr>\n",
       "    <tr>\n",
       "      <th>2284</th>\n",
       "      <td>1499</td>\n",
       "      <td>12.0</td>\n",
       "      <td>58.0</td>\n",
       "      <td>NaN</td>\n",
       "      <td>496.0</td>\n",
       "      <td>65.0</td>\n",
       "      <td>surf</td>\n",
       "      <td>FL MSA</td>\n",
       "    </tr>\n",
       "  </tbody>\n",
       "</table>\n",
       "<p>2303 rows × 8 columns</p>\n",
       "</div>"
      ],
      "text/plain": [
       "      user_id  month  gb_used  Cantidad de mensajes  Duracion total llamada  \\\n",
       "0        1000   12.0      4.0                  11.0                   124.0   \n",
       "1        1001    8.0     21.0                  30.0                   182.0   \n",
       "2        1001    9.0     41.0                  44.0                   315.0   \n",
       "3        1001   10.0     50.0                  53.0                   393.0   \n",
       "4        1001   11.0     49.0                  36.0                   426.0   \n",
       "...       ...    ...      ...                   ...                     ...   \n",
       "2280     1498   12.0     56.0                   NaN                   339.0   \n",
       "2281     1499    9.0     37.0                   NaN                   346.0   \n",
       "2282     1499   10.0     52.0                   NaN                   385.0   \n",
       "2283     1499   11.0     43.0                   NaN                   308.0   \n",
       "2284     1499   12.0     58.0                   NaN                   496.0   \n",
       "\n",
       "      Numero de llamadas plan_name         Estado  \n",
       "0                   16.0  ultimate         GA MSA  \n",
       "1                   27.0      surf         WA MSA  \n",
       "2                   49.0      surf         WA MSA  \n",
       "3                   65.0      surf         WA MSA  \n",
       "4                   64.0      surf         WA MSA  \n",
       "...                  ...       ...            ...  \n",
       "2280                39.0      surf   NY-NJ-PA MSA  \n",
       "2281                41.0      surf         FL MSA  \n",
       "2282                53.0      surf         FL MSA  \n",
       "2283                45.0      surf         FL MSA  \n",
       "2284                65.0      surf         FL MSA  \n",
       "\n",
       "[2303 rows x 8 columns]"
      ]
     },
     "execution_count": 27,
     "metadata": {},
     "output_type": "execute_result"
    }
   ],
   "source": [
    "# Fusiona los datos de llamadas, minutos, mensajes e Internet con base en user_id y month\n",
    "\n",
    "data_merged = pd.merge(internet_user, mensajes_user, on=['user_id','month'],how='outer')\n",
    "data_merged = pd.merge(data_merged, llamada_user_min, on=['user_id','month'],how='outer')\n",
    "data_merged = pd.merge(data_merged, llamada_user, on=['user_id','month'],how='outer')\n",
    "data_merged = pd.merge(data_merged, user_plan, on='user_id',how='outer')\n",
    "data_merged = data_merged.sort_values(['user_id', 'month'], ascending = True)\n",
    "data_merged"
   ]
  },
  {
   "cell_type": "markdown",
   "metadata": {},
   "source": [
    "<div class=\"alert alert-block alert-info\">\n",
    "<b>Se encontraron valores NaN para algunos user_id, para lo cual vamos a reemplazarlo por 0, para cada consumo de servicio en NaN que tengan para no afectar nuestros calculos futuros.</b><br>'month'<a class=\"tocSkip\"></a>\n",
    "</div>"
   ]
  },
  {
   "cell_type": "code",
   "execution_count": 28,
   "metadata": {},
   "outputs": [
    {
     "data": {
      "text/html": [
       "<div>\n",
       "<style scoped>\n",
       "    .dataframe tbody tr th:only-of-type {\n",
       "        vertical-align: middle;\n",
       "    }\n",
       "\n",
       "    .dataframe tbody tr th {\n",
       "        vertical-align: top;\n",
       "    }\n",
       "\n",
       "    .dataframe thead th {\n",
       "        text-align: right;\n",
       "    }\n",
       "</style>\n",
       "<table border=\"1\" class=\"dataframe\">\n",
       "  <thead>\n",
       "    <tr style=\"text-align: right;\">\n",
       "      <th></th>\n",
       "      <th>user_id</th>\n",
       "      <th>month</th>\n",
       "      <th>gb_used</th>\n",
       "      <th>Cantidad de mensajes</th>\n",
       "      <th>Duracion total llamada</th>\n",
       "      <th>Numero de llamadas</th>\n",
       "      <th>plan_name</th>\n",
       "      <th>Estado</th>\n",
       "    </tr>\n",
       "  </thead>\n",
       "  <tbody>\n",
       "    <tr>\n",
       "      <th>2268</th>\n",
       "      <td>1496</td>\n",
       "      <td>12.0</td>\n",
       "      <td>41.0</td>\n",
       "      <td>11.0</td>\n",
       "      <td>294.0</td>\n",
       "      <td>40.0</td>\n",
       "      <td>surf</td>\n",
       "      <td>LA MSA</td>\n",
       "    </tr>\n",
       "    <tr>\n",
       "      <th>2131</th>\n",
       "      <td>1464</td>\n",
       "      <td>11.0</td>\n",
       "      <td>26.0</td>\n",
       "      <td>31.0</td>\n",
       "      <td>531.0</td>\n",
       "      <td>68.0</td>\n",
       "      <td>surf</td>\n",
       "      <td>RI-MA MSA</td>\n",
       "    </tr>\n",
       "    <tr>\n",
       "      <th>263</th>\n",
       "      <td>1060</td>\n",
       "      <td>9.0</td>\n",
       "      <td>51.0</td>\n",
       "      <td>66.0</td>\n",
       "      <td>658.0</td>\n",
       "      <td>92.0</td>\n",
       "      <td>surf</td>\n",
       "      <td>GA MSA</td>\n",
       "    </tr>\n",
       "    <tr>\n",
       "      <th>1589</th>\n",
       "      <td>1345</td>\n",
       "      <td>11.0</td>\n",
       "      <td>25.0</td>\n",
       "      <td>13.0</td>\n",
       "      <td>483.0</td>\n",
       "      <td>81.0</td>\n",
       "      <td>surf</td>\n",
       "      <td>CA MSA</td>\n",
       "    </tr>\n",
       "    <tr>\n",
       "      <th>124</th>\n",
       "      <td>1033</td>\n",
       "      <td>12.0</td>\n",
       "      <td>55.0</td>\n",
       "      <td>32.0</td>\n",
       "      <td>596.0</td>\n",
       "      <td>98.0</td>\n",
       "      <td>ultimate</td>\n",
       "      <td>OK MSA</td>\n",
       "    </tr>\n",
       "    <tr>\n",
       "      <th>423</th>\n",
       "      <td>1088</td>\n",
       "      <td>10.0</td>\n",
       "      <td>37.0</td>\n",
       "      <td>53.0</td>\n",
       "      <td>191.0</td>\n",
       "      <td>27.0</td>\n",
       "      <td>ultimate</td>\n",
       "      <td>AZ MSA</td>\n",
       "    </tr>\n",
       "    <tr>\n",
       "      <th>481</th>\n",
       "      <td>1101</td>\n",
       "      <td>7.0</td>\n",
       "      <td>33.0</td>\n",
       "      <td>66.0</td>\n",
       "      <td>302.0</td>\n",
       "      <td>47.0</td>\n",
       "      <td>surf</td>\n",
       "      <td>DC-VA-MD-WV MSA</td>\n",
       "    </tr>\n",
       "    <tr>\n",
       "      <th>1694</th>\n",
       "      <td>1364</td>\n",
       "      <td>10.0</td>\n",
       "      <td>43.0</td>\n",
       "      <td>14.0</td>\n",
       "      <td>332.0</td>\n",
       "      <td>46.0</td>\n",
       "      <td>surf</td>\n",
       "      <td>CA MSA</td>\n",
       "    </tr>\n",
       "    <tr>\n",
       "      <th>850</th>\n",
       "      <td>1177</td>\n",
       "      <td>12.0</td>\n",
       "      <td>63.0</td>\n",
       "      <td>26.0</td>\n",
       "      <td>431.0</td>\n",
       "      <td>68.0</td>\n",
       "      <td>surf</td>\n",
       "      <td>WA MSA</td>\n",
       "    </tr>\n",
       "    <tr>\n",
       "      <th>790</th>\n",
       "      <td>1164</td>\n",
       "      <td>9.0</td>\n",
       "      <td>34.0</td>\n",
       "      <td>29.0</td>\n",
       "      <td>450.0</td>\n",
       "      <td>62.0</td>\n",
       "      <td>ultimate</td>\n",
       "      <td>IL-IN-WI MSA</td>\n",
       "    </tr>\n",
       "  </tbody>\n",
       "</table>\n",
       "</div>"
      ],
      "text/plain": [
       "      user_id  month  gb_used  Cantidad de mensajes  Duracion total llamada  \\\n",
       "2268     1496   12.0     41.0                  11.0                   294.0   \n",
       "2131     1464   11.0     26.0                  31.0                   531.0   \n",
       "263      1060    9.0     51.0                  66.0                   658.0   \n",
       "1589     1345   11.0     25.0                  13.0                   483.0   \n",
       "124      1033   12.0     55.0                  32.0                   596.0   \n",
       "423      1088   10.0     37.0                  53.0                   191.0   \n",
       "481      1101    7.0     33.0                  66.0                   302.0   \n",
       "1694     1364   10.0     43.0                  14.0                   332.0   \n",
       "850      1177   12.0     63.0                  26.0                   431.0   \n",
       "790      1164    9.0     34.0                  29.0                   450.0   \n",
       "\n",
       "      Numero de llamadas plan_name            Estado  \n",
       "2268                40.0      surf            LA MSA  \n",
       "2131                68.0      surf         RI-MA MSA  \n",
       "263                 92.0      surf            GA MSA  \n",
       "1589                81.0      surf            CA MSA  \n",
       "124                 98.0  ultimate            OK MSA  \n",
       "423                 27.0  ultimate            AZ MSA  \n",
       "481                 47.0      surf   DC-VA-MD-WV MSA  \n",
       "1694                46.0      surf            CA MSA  \n",
       "850                 68.0      surf            WA MSA  \n",
       "790                 62.0  ultimate      IL-IN-WI MSA  "
      ]
     },
     "execution_count": 28,
     "metadata": {},
     "output_type": "execute_result"
    }
   ],
   "source": [
    "data_merged = data_merged.dropna()\n",
    "data_merged.sample(10)"
   ]
  },
  {
   "cell_type": "code",
   "execution_count": 29,
   "metadata": {
    "id": "0dNOXHag0q1H"
   },
   "outputs": [
    {
     "data": {
      "text/html": [
       "<div>\n",
       "<style scoped>\n",
       "    .dataframe tbody tr th:only-of-type {\n",
       "        vertical-align: middle;\n",
       "    }\n",
       "\n",
       "    .dataframe tbody tr th {\n",
       "        vertical-align: top;\n",
       "    }\n",
       "\n",
       "    .dataframe thead th {\n",
       "        text-align: right;\n",
       "    }\n",
       "</style>\n",
       "<table border=\"1\" class=\"dataframe\">\n",
       "  <thead>\n",
       "    <tr style=\"text-align: right;\">\n",
       "      <th></th>\n",
       "      <th>messages_included</th>\n",
       "      <th>gb_per_month_included</th>\n",
       "      <th>minutes_included</th>\n",
       "      <th>usd_monthly_pay</th>\n",
       "      <th>usd_per_gb</th>\n",
       "      <th>usd_per_message</th>\n",
       "      <th>usd_per_minute</th>\n",
       "      <th>plan_name</th>\n",
       "    </tr>\n",
       "  </thead>\n",
       "  <tbody>\n",
       "    <tr>\n",
       "      <th>0</th>\n",
       "      <td>50</td>\n",
       "      <td>15.0</td>\n",
       "      <td>500</td>\n",
       "      <td>20</td>\n",
       "      <td>10</td>\n",
       "      <td>0.03</td>\n",
       "      <td>0.03</td>\n",
       "      <td>surf</td>\n",
       "    </tr>\n",
       "    <tr>\n",
       "      <th>1</th>\n",
       "      <td>1000</td>\n",
       "      <td>30.0</td>\n",
       "      <td>3000</td>\n",
       "      <td>70</td>\n",
       "      <td>7</td>\n",
       "      <td>0.01</td>\n",
       "      <td>0.01</td>\n",
       "      <td>ultimate</td>\n",
       "    </tr>\n",
       "  </tbody>\n",
       "</table>\n",
       "</div>"
      ],
      "text/plain": [
       "   messages_included  gb_per_month_included  minutes_included  \\\n",
       "0                 50                   15.0               500   \n",
       "1               1000                   30.0              3000   \n",
       "\n",
       "   usd_monthly_pay  usd_per_gb  usd_per_message  usd_per_minute plan_name  \n",
       "0               20          10             0.03            0.03      surf  \n",
       "1               70           7             0.01            0.01  ultimate  "
      ]
     },
     "execution_count": 29,
     "metadata": {},
     "output_type": "execute_result"
    }
   ],
   "source": [
    "# Añade la información de la tarifa\n",
    "#Convertimos la data de la columna 'mb_per_month_included' a Gigabytes dividiendo cada fila entre 1024 y le cambiamos el nombre\n",
    "plans['mb_per_month_included'] = plans['mb_per_month_included']/1024\n",
    "plans.rename(columns={'mb_per_month_included': 'gb_per_month_included'}, inplace=True)\n",
    "plans"
   ]
  },
  {
   "cell_type": "markdown",
   "metadata": {},
   "source": [
    "<div class=\"alert alert-block alert-info\">\n",
    "<b>Usamos el metodo \".merge()\" con el metodo \"how = 'left' para unir la base de datos de planes \"plans\" a la dataframe \"data_merged\" que contiene todos los consumos de los usurarios, esto con el fin de poder procesar los consumos adicionales y posteriormente el pago mensual</b><a class=\"tocSkip\"></a>\n",
    "</div>"
   ]
  },
  {
   "cell_type": "code",
   "execution_count": 30,
   "metadata": {
    "scrolled": true
   },
   "outputs": [
    {
     "data": {
      "text/html": [
       "<div>\n",
       "<style scoped>\n",
       "    .dataframe tbody tr th:only-of-type {\n",
       "        vertical-align: middle;\n",
       "    }\n",
       "\n",
       "    .dataframe tbody tr th {\n",
       "        vertical-align: top;\n",
       "    }\n",
       "\n",
       "    .dataframe thead th {\n",
       "        text-align: right;\n",
       "    }\n",
       "</style>\n",
       "<table border=\"1\" class=\"dataframe\">\n",
       "  <thead>\n",
       "    <tr style=\"text-align: right;\">\n",
       "      <th></th>\n",
       "      <th>user_id</th>\n",
       "      <th>month</th>\n",
       "      <th>gb_used</th>\n",
       "      <th>Cantidad de mensajes</th>\n",
       "      <th>Duracion total llamada</th>\n",
       "      <th>Numero de llamadas</th>\n",
       "      <th>plan_name</th>\n",
       "      <th>Estado</th>\n",
       "      <th>messages_included</th>\n",
       "      <th>gb_per_month_included</th>\n",
       "      <th>minutes_included</th>\n",
       "      <th>usd_monthly_pay</th>\n",
       "      <th>usd_per_gb</th>\n",
       "      <th>usd_per_message</th>\n",
       "      <th>usd_per_minute</th>\n",
       "    </tr>\n",
       "  </thead>\n",
       "  <tbody>\n",
       "    <tr>\n",
       "      <th>0</th>\n",
       "      <td>1000</td>\n",
       "      <td>12.0</td>\n",
       "      <td>4.0</td>\n",
       "      <td>11.0</td>\n",
       "      <td>124.0</td>\n",
       "      <td>16.0</td>\n",
       "      <td>ultimate</td>\n",
       "      <td>GA MSA</td>\n",
       "      <td>1000</td>\n",
       "      <td>30.0</td>\n",
       "      <td>3000</td>\n",
       "      <td>70</td>\n",
       "      <td>7</td>\n",
       "      <td>0.01</td>\n",
       "      <td>0.01</td>\n",
       "    </tr>\n",
       "    <tr>\n",
       "      <th>1</th>\n",
       "      <td>1001</td>\n",
       "      <td>8.0</td>\n",
       "      <td>21.0</td>\n",
       "      <td>30.0</td>\n",
       "      <td>182.0</td>\n",
       "      <td>27.0</td>\n",
       "      <td>surf</td>\n",
       "      <td>WA MSA</td>\n",
       "      <td>50</td>\n",
       "      <td>15.0</td>\n",
       "      <td>500</td>\n",
       "      <td>20</td>\n",
       "      <td>10</td>\n",
       "      <td>0.03</td>\n",
       "      <td>0.03</td>\n",
       "    </tr>\n",
       "    <tr>\n",
       "      <th>2</th>\n",
       "      <td>1001</td>\n",
       "      <td>9.0</td>\n",
       "      <td>41.0</td>\n",
       "      <td>44.0</td>\n",
       "      <td>315.0</td>\n",
       "      <td>49.0</td>\n",
       "      <td>surf</td>\n",
       "      <td>WA MSA</td>\n",
       "      <td>50</td>\n",
       "      <td>15.0</td>\n",
       "      <td>500</td>\n",
       "      <td>20</td>\n",
       "      <td>10</td>\n",
       "      <td>0.03</td>\n",
       "      <td>0.03</td>\n",
       "    </tr>\n",
       "    <tr>\n",
       "      <th>3</th>\n",
       "      <td>1001</td>\n",
       "      <td>10.0</td>\n",
       "      <td>50.0</td>\n",
       "      <td>53.0</td>\n",
       "      <td>393.0</td>\n",
       "      <td>65.0</td>\n",
       "      <td>surf</td>\n",
       "      <td>WA MSA</td>\n",
       "      <td>50</td>\n",
       "      <td>15.0</td>\n",
       "      <td>500</td>\n",
       "      <td>20</td>\n",
       "      <td>10</td>\n",
       "      <td>0.03</td>\n",
       "      <td>0.03</td>\n",
       "    </tr>\n",
       "    <tr>\n",
       "      <th>4</th>\n",
       "      <td>1001</td>\n",
       "      <td>11.0</td>\n",
       "      <td>49.0</td>\n",
       "      <td>36.0</td>\n",
       "      <td>426.0</td>\n",
       "      <td>64.0</td>\n",
       "      <td>surf</td>\n",
       "      <td>WA MSA</td>\n",
       "      <td>50</td>\n",
       "      <td>15.0</td>\n",
       "      <td>500</td>\n",
       "      <td>20</td>\n",
       "      <td>10</td>\n",
       "      <td>0.03</td>\n",
       "      <td>0.03</td>\n",
       "    </tr>\n",
       "    <tr>\n",
       "      <th>...</th>\n",
       "      <td>...</td>\n",
       "      <td>...</td>\n",
       "      <td>...</td>\n",
       "      <td>...</td>\n",
       "      <td>...</td>\n",
       "      <td>...</td>\n",
       "      <td>...</td>\n",
       "      <td>...</td>\n",
       "      <td>...</td>\n",
       "      <td>...</td>\n",
       "      <td>...</td>\n",
       "      <td>...</td>\n",
       "      <td>...</td>\n",
       "      <td>...</td>\n",
       "      <td>...</td>\n",
       "    </tr>\n",
       "    <tr>\n",
       "      <th>1754</th>\n",
       "      <td>1496</td>\n",
       "      <td>9.0</td>\n",
       "      <td>42.0</td>\n",
       "      <td>21.0</td>\n",
       "      <td>414.0</td>\n",
       "      <td>52.0</td>\n",
       "      <td>surf</td>\n",
       "      <td>LA MSA</td>\n",
       "      <td>50</td>\n",
       "      <td>15.0</td>\n",
       "      <td>500</td>\n",
       "      <td>20</td>\n",
       "      <td>10</td>\n",
       "      <td>0.03</td>\n",
       "      <td>0.03</td>\n",
       "    </tr>\n",
       "    <tr>\n",
       "      <th>1755</th>\n",
       "      <td>1496</td>\n",
       "      <td>10.0</td>\n",
       "      <td>41.0</td>\n",
       "      <td>18.0</td>\n",
       "      <td>317.0</td>\n",
       "      <td>46.0</td>\n",
       "      <td>surf</td>\n",
       "      <td>LA MSA</td>\n",
       "      <td>50</td>\n",
       "      <td>15.0</td>\n",
       "      <td>500</td>\n",
       "      <td>20</td>\n",
       "      <td>10</td>\n",
       "      <td>0.03</td>\n",
       "      <td>0.03</td>\n",
       "    </tr>\n",
       "    <tr>\n",
       "      <th>1756</th>\n",
       "      <td>1496</td>\n",
       "      <td>11.0</td>\n",
       "      <td>27.0</td>\n",
       "      <td>13.0</td>\n",
       "      <td>308.0</td>\n",
       "      <td>39.0</td>\n",
       "      <td>surf</td>\n",
       "      <td>LA MSA</td>\n",
       "      <td>50</td>\n",
       "      <td>15.0</td>\n",
       "      <td>500</td>\n",
       "      <td>20</td>\n",
       "      <td>10</td>\n",
       "      <td>0.03</td>\n",
       "      <td>0.03</td>\n",
       "    </tr>\n",
       "    <tr>\n",
       "      <th>1757</th>\n",
       "      <td>1496</td>\n",
       "      <td>12.0</td>\n",
       "      <td>41.0</td>\n",
       "      <td>11.0</td>\n",
       "      <td>294.0</td>\n",
       "      <td>40.0</td>\n",
       "      <td>surf</td>\n",
       "      <td>LA MSA</td>\n",
       "      <td>50</td>\n",
       "      <td>15.0</td>\n",
       "      <td>500</td>\n",
       "      <td>20</td>\n",
       "      <td>10</td>\n",
       "      <td>0.03</td>\n",
       "      <td>0.03</td>\n",
       "    </tr>\n",
       "    <tr>\n",
       "      <th>1758</th>\n",
       "      <td>1497</td>\n",
       "      <td>12.0</td>\n",
       "      <td>28.0</td>\n",
       "      <td>50.0</td>\n",
       "      <td>300.0</td>\n",
       "      <td>54.0</td>\n",
       "      <td>ultimate</td>\n",
       "      <td>CA MSA</td>\n",
       "      <td>1000</td>\n",
       "      <td>30.0</td>\n",
       "      <td>3000</td>\n",
       "      <td>70</td>\n",
       "      <td>7</td>\n",
       "      <td>0.01</td>\n",
       "      <td>0.01</td>\n",
       "    </tr>\n",
       "  </tbody>\n",
       "</table>\n",
       "<p>1759 rows × 15 columns</p>\n",
       "</div>"
      ],
      "text/plain": [
       "      user_id  month  gb_used  Cantidad de mensajes  Duracion total llamada  \\\n",
       "0        1000   12.0      4.0                  11.0                   124.0   \n",
       "1        1001    8.0     21.0                  30.0                   182.0   \n",
       "2        1001    9.0     41.0                  44.0                   315.0   \n",
       "3        1001   10.0     50.0                  53.0                   393.0   \n",
       "4        1001   11.0     49.0                  36.0                   426.0   \n",
       "...       ...    ...      ...                   ...                     ...   \n",
       "1754     1496    9.0     42.0                  21.0                   414.0   \n",
       "1755     1496   10.0     41.0                  18.0                   317.0   \n",
       "1756     1496   11.0     27.0                  13.0                   308.0   \n",
       "1757     1496   12.0     41.0                  11.0                   294.0   \n",
       "1758     1497   12.0     28.0                  50.0                   300.0   \n",
       "\n",
       "      Numero de llamadas plan_name   Estado  messages_included  \\\n",
       "0                   16.0  ultimate   GA MSA               1000   \n",
       "1                   27.0      surf   WA MSA                 50   \n",
       "2                   49.0      surf   WA MSA                 50   \n",
       "3                   65.0      surf   WA MSA                 50   \n",
       "4                   64.0      surf   WA MSA                 50   \n",
       "...                  ...       ...      ...                ...   \n",
       "1754                52.0      surf   LA MSA                 50   \n",
       "1755                46.0      surf   LA MSA                 50   \n",
       "1756                39.0      surf   LA MSA                 50   \n",
       "1757                40.0      surf   LA MSA                 50   \n",
       "1758                54.0  ultimate   CA MSA               1000   \n",
       "\n",
       "      gb_per_month_included  minutes_included  usd_monthly_pay  usd_per_gb  \\\n",
       "0                      30.0              3000               70           7   \n",
       "1                      15.0               500               20          10   \n",
       "2                      15.0               500               20          10   \n",
       "3                      15.0               500               20          10   \n",
       "4                      15.0               500               20          10   \n",
       "...                     ...               ...              ...         ...   \n",
       "1754                   15.0               500               20          10   \n",
       "1755                   15.0               500               20          10   \n",
       "1756                   15.0               500               20          10   \n",
       "1757                   15.0               500               20          10   \n",
       "1758                   30.0              3000               70           7   \n",
       "\n",
       "      usd_per_message  usd_per_minute  \n",
       "0                0.01            0.01  \n",
       "1                0.03            0.03  \n",
       "2                0.03            0.03  \n",
       "3                0.03            0.03  \n",
       "4                0.03            0.03  \n",
       "...               ...             ...  \n",
       "1754             0.03            0.03  \n",
       "1755             0.03            0.03  \n",
       "1756             0.03            0.03  \n",
       "1757             0.03            0.03  \n",
       "1758             0.01            0.01  \n",
       "\n",
       "[1759 rows x 15 columns]"
      ]
     },
     "execution_count": 30,
     "metadata": {},
     "output_type": "execute_result"
    }
   ],
   "source": [
    "data_merged = pd.merge(data_merged, plans, on='plan_name',how='left')\n",
    "data_merged = data_merged.sort_values(['user_id', 'month'], ascending = True)\n",
    "data_merged"
   ]
  },
  {
   "cell_type": "markdown",
   "metadata": {
    "id": "1IwGo4wg0q1I"
   },
   "source": [
    "[Calcula los ingresos mensuales por usuario (resta el límite del paquete gratuito del número total de llamadas, mensajes de texto y datos; multiplica el resultado por el valor del plan de llamadas; añade la tarifa mensual en función del plan de llamadas). Nota: Dadas las condiciones del plan, ¡esto podría no ser tan trivial como un par de líneas! Así que no pasa nada si dedicas algo de tiempo a ello.]"
   ]
  },
  {
   "cell_type": "markdown",
   "metadata": {},
   "source": [
    "<div class=\"alert alert-block alert-info\">\n",
    "<b>Creamos 3 columnas para calcular el consumo adicional de Gigas, Mensajes y Minutos de llamada usando el metodo \"np.where()\", a traves de la condicion de que si la diferencia es positiva entre los servicios incluidos en el plan menos los consumidos, el consumo adicional sera 0, pero si es negativo sera la diferencia multiplicada por *(-1)</b>\n",
    "    <br>\n",
    "<br><b>Luego calcularemos el pago mensual del usuario sumando el pago mensual fijo masa los consumos adicionales por su tarifa adicional, esta informacion sera guardada en la nueva columna \"Pago Mensual\"</b><a class=\"tocSkip\"></a>\n",
    "</div>"
   ]
  },
  {
   "cell_type": "code",
   "execution_count": 31,
   "metadata": {
    "id": "5FGCf_c60q1I"
   },
   "outputs": [
    {
     "data": {
      "text/html": [
       "<div>\n",
       "<style scoped>\n",
       "    .dataframe tbody tr th:only-of-type {\n",
       "        vertical-align: middle;\n",
       "    }\n",
       "\n",
       "    .dataframe tbody tr th {\n",
       "        vertical-align: top;\n",
       "    }\n",
       "\n",
       "    .dataframe thead th {\n",
       "        text-align: right;\n",
       "    }\n",
       "</style>\n",
       "<table border=\"1\" class=\"dataframe\">\n",
       "  <thead>\n",
       "    <tr style=\"text-align: right;\">\n",
       "      <th></th>\n",
       "      <th>user_id</th>\n",
       "      <th>month</th>\n",
       "      <th>gb_used</th>\n",
       "      <th>Cantidad de mensajes</th>\n",
       "      <th>Duracion total llamada</th>\n",
       "      <th>Numero de llamadas</th>\n",
       "      <th>plan_name</th>\n",
       "      <th>Estado</th>\n",
       "      <th>messages_included</th>\n",
       "      <th>gb_per_month_included</th>\n",
       "      <th>minutes_included</th>\n",
       "      <th>usd_monthly_pay</th>\n",
       "      <th>usd_per_gb</th>\n",
       "      <th>usd_per_message</th>\n",
       "      <th>usd_per_minute</th>\n",
       "      <th>consumo_adicional_gb</th>\n",
       "      <th>consumo_adicional_mensajes</th>\n",
       "      <th>consumo_adicional_llamadas</th>\n",
       "      <th>Pago Mensual</th>\n",
       "    </tr>\n",
       "  </thead>\n",
       "  <tbody>\n",
       "    <tr>\n",
       "      <th>0</th>\n",
       "      <td>1000</td>\n",
       "      <td>12.0</td>\n",
       "      <td>4.0</td>\n",
       "      <td>11.0</td>\n",
       "      <td>124.0</td>\n",
       "      <td>16.0</td>\n",
       "      <td>ultimate</td>\n",
       "      <td>GA MSA</td>\n",
       "      <td>1000</td>\n",
       "      <td>30.0</td>\n",
       "      <td>3000</td>\n",
       "      <td>70</td>\n",
       "      <td>7</td>\n",
       "      <td>0.01</td>\n",
       "      <td>0.01</td>\n",
       "      <td>0.0</td>\n",
       "      <td>0.0</td>\n",
       "      <td>0.0</td>\n",
       "      <td>70.00</td>\n",
       "    </tr>\n",
       "    <tr>\n",
       "      <th>1</th>\n",
       "      <td>1001</td>\n",
       "      <td>8.0</td>\n",
       "      <td>21.0</td>\n",
       "      <td>30.0</td>\n",
       "      <td>182.0</td>\n",
       "      <td>27.0</td>\n",
       "      <td>surf</td>\n",
       "      <td>WA MSA</td>\n",
       "      <td>50</td>\n",
       "      <td>15.0</td>\n",
       "      <td>500</td>\n",
       "      <td>20</td>\n",
       "      <td>10</td>\n",
       "      <td>0.03</td>\n",
       "      <td>0.03</td>\n",
       "      <td>6.0</td>\n",
       "      <td>0.0</td>\n",
       "      <td>0.0</td>\n",
       "      <td>80.00</td>\n",
       "    </tr>\n",
       "    <tr>\n",
       "      <th>2</th>\n",
       "      <td>1001</td>\n",
       "      <td>9.0</td>\n",
       "      <td>41.0</td>\n",
       "      <td>44.0</td>\n",
       "      <td>315.0</td>\n",
       "      <td>49.0</td>\n",
       "      <td>surf</td>\n",
       "      <td>WA MSA</td>\n",
       "      <td>50</td>\n",
       "      <td>15.0</td>\n",
       "      <td>500</td>\n",
       "      <td>20</td>\n",
       "      <td>10</td>\n",
       "      <td>0.03</td>\n",
       "      <td>0.03</td>\n",
       "      <td>26.0</td>\n",
       "      <td>0.0</td>\n",
       "      <td>0.0</td>\n",
       "      <td>280.00</td>\n",
       "    </tr>\n",
       "    <tr>\n",
       "      <th>3</th>\n",
       "      <td>1001</td>\n",
       "      <td>10.0</td>\n",
       "      <td>50.0</td>\n",
       "      <td>53.0</td>\n",
       "      <td>393.0</td>\n",
       "      <td>65.0</td>\n",
       "      <td>surf</td>\n",
       "      <td>WA MSA</td>\n",
       "      <td>50</td>\n",
       "      <td>15.0</td>\n",
       "      <td>500</td>\n",
       "      <td>20</td>\n",
       "      <td>10</td>\n",
       "      <td>0.03</td>\n",
       "      <td>0.03</td>\n",
       "      <td>35.0</td>\n",
       "      <td>3.0</td>\n",
       "      <td>0.0</td>\n",
       "      <td>370.09</td>\n",
       "    </tr>\n",
       "    <tr>\n",
       "      <th>4</th>\n",
       "      <td>1001</td>\n",
       "      <td>11.0</td>\n",
       "      <td>49.0</td>\n",
       "      <td>36.0</td>\n",
       "      <td>426.0</td>\n",
       "      <td>64.0</td>\n",
       "      <td>surf</td>\n",
       "      <td>WA MSA</td>\n",
       "      <td>50</td>\n",
       "      <td>15.0</td>\n",
       "      <td>500</td>\n",
       "      <td>20</td>\n",
       "      <td>10</td>\n",
       "      <td>0.03</td>\n",
       "      <td>0.03</td>\n",
       "      <td>34.0</td>\n",
       "      <td>0.0</td>\n",
       "      <td>0.0</td>\n",
       "      <td>360.00</td>\n",
       "    </tr>\n",
       "    <tr>\n",
       "      <th>...</th>\n",
       "      <td>...</td>\n",
       "      <td>...</td>\n",
       "      <td>...</td>\n",
       "      <td>...</td>\n",
       "      <td>...</td>\n",
       "      <td>...</td>\n",
       "      <td>...</td>\n",
       "      <td>...</td>\n",
       "      <td>...</td>\n",
       "      <td>...</td>\n",
       "      <td>...</td>\n",
       "      <td>...</td>\n",
       "      <td>...</td>\n",
       "      <td>...</td>\n",
       "      <td>...</td>\n",
       "      <td>...</td>\n",
       "      <td>...</td>\n",
       "      <td>...</td>\n",
       "      <td>...</td>\n",
       "    </tr>\n",
       "    <tr>\n",
       "      <th>1754</th>\n",
       "      <td>1496</td>\n",
       "      <td>9.0</td>\n",
       "      <td>42.0</td>\n",
       "      <td>21.0</td>\n",
       "      <td>414.0</td>\n",
       "      <td>52.0</td>\n",
       "      <td>surf</td>\n",
       "      <td>LA MSA</td>\n",
       "      <td>50</td>\n",
       "      <td>15.0</td>\n",
       "      <td>500</td>\n",
       "      <td>20</td>\n",
       "      <td>10</td>\n",
       "      <td>0.03</td>\n",
       "      <td>0.03</td>\n",
       "      <td>27.0</td>\n",
       "      <td>0.0</td>\n",
       "      <td>0.0</td>\n",
       "      <td>290.00</td>\n",
       "    </tr>\n",
       "    <tr>\n",
       "      <th>1755</th>\n",
       "      <td>1496</td>\n",
       "      <td>10.0</td>\n",
       "      <td>41.0</td>\n",
       "      <td>18.0</td>\n",
       "      <td>317.0</td>\n",
       "      <td>46.0</td>\n",
       "      <td>surf</td>\n",
       "      <td>LA MSA</td>\n",
       "      <td>50</td>\n",
       "      <td>15.0</td>\n",
       "      <td>500</td>\n",
       "      <td>20</td>\n",
       "      <td>10</td>\n",
       "      <td>0.03</td>\n",
       "      <td>0.03</td>\n",
       "      <td>26.0</td>\n",
       "      <td>0.0</td>\n",
       "      <td>0.0</td>\n",
       "      <td>280.00</td>\n",
       "    </tr>\n",
       "    <tr>\n",
       "      <th>1756</th>\n",
       "      <td>1496</td>\n",
       "      <td>11.0</td>\n",
       "      <td>27.0</td>\n",
       "      <td>13.0</td>\n",
       "      <td>308.0</td>\n",
       "      <td>39.0</td>\n",
       "      <td>surf</td>\n",
       "      <td>LA MSA</td>\n",
       "      <td>50</td>\n",
       "      <td>15.0</td>\n",
       "      <td>500</td>\n",
       "      <td>20</td>\n",
       "      <td>10</td>\n",
       "      <td>0.03</td>\n",
       "      <td>0.03</td>\n",
       "      <td>12.0</td>\n",
       "      <td>0.0</td>\n",
       "      <td>0.0</td>\n",
       "      <td>140.00</td>\n",
       "    </tr>\n",
       "    <tr>\n",
       "      <th>1757</th>\n",
       "      <td>1496</td>\n",
       "      <td>12.0</td>\n",
       "      <td>41.0</td>\n",
       "      <td>11.0</td>\n",
       "      <td>294.0</td>\n",
       "      <td>40.0</td>\n",
       "      <td>surf</td>\n",
       "      <td>LA MSA</td>\n",
       "      <td>50</td>\n",
       "      <td>15.0</td>\n",
       "      <td>500</td>\n",
       "      <td>20</td>\n",
       "      <td>10</td>\n",
       "      <td>0.03</td>\n",
       "      <td>0.03</td>\n",
       "      <td>26.0</td>\n",
       "      <td>0.0</td>\n",
       "      <td>0.0</td>\n",
       "      <td>280.00</td>\n",
       "    </tr>\n",
       "    <tr>\n",
       "      <th>1758</th>\n",
       "      <td>1497</td>\n",
       "      <td>12.0</td>\n",
       "      <td>28.0</td>\n",
       "      <td>50.0</td>\n",
       "      <td>300.0</td>\n",
       "      <td>54.0</td>\n",
       "      <td>ultimate</td>\n",
       "      <td>CA MSA</td>\n",
       "      <td>1000</td>\n",
       "      <td>30.0</td>\n",
       "      <td>3000</td>\n",
       "      <td>70</td>\n",
       "      <td>7</td>\n",
       "      <td>0.01</td>\n",
       "      <td>0.01</td>\n",
       "      <td>0.0</td>\n",
       "      <td>0.0</td>\n",
       "      <td>0.0</td>\n",
       "      <td>70.00</td>\n",
       "    </tr>\n",
       "  </tbody>\n",
       "</table>\n",
       "<p>1759 rows × 19 columns</p>\n",
       "</div>"
      ],
      "text/plain": [
       "      user_id  month  gb_used  Cantidad de mensajes  Duracion total llamada  \\\n",
       "0        1000   12.0      4.0                  11.0                   124.0   \n",
       "1        1001    8.0     21.0                  30.0                   182.0   \n",
       "2        1001    9.0     41.0                  44.0                   315.0   \n",
       "3        1001   10.0     50.0                  53.0                   393.0   \n",
       "4        1001   11.0     49.0                  36.0                   426.0   \n",
       "...       ...    ...      ...                   ...                     ...   \n",
       "1754     1496    9.0     42.0                  21.0                   414.0   \n",
       "1755     1496   10.0     41.0                  18.0                   317.0   \n",
       "1756     1496   11.0     27.0                  13.0                   308.0   \n",
       "1757     1496   12.0     41.0                  11.0                   294.0   \n",
       "1758     1497   12.0     28.0                  50.0                   300.0   \n",
       "\n",
       "      Numero de llamadas plan_name   Estado  messages_included  \\\n",
       "0                   16.0  ultimate   GA MSA               1000   \n",
       "1                   27.0      surf   WA MSA                 50   \n",
       "2                   49.0      surf   WA MSA                 50   \n",
       "3                   65.0      surf   WA MSA                 50   \n",
       "4                   64.0      surf   WA MSA                 50   \n",
       "...                  ...       ...      ...                ...   \n",
       "1754                52.0      surf   LA MSA                 50   \n",
       "1755                46.0      surf   LA MSA                 50   \n",
       "1756                39.0      surf   LA MSA                 50   \n",
       "1757                40.0      surf   LA MSA                 50   \n",
       "1758                54.0  ultimate   CA MSA               1000   \n",
       "\n",
       "      gb_per_month_included  minutes_included  usd_monthly_pay  usd_per_gb  \\\n",
       "0                      30.0              3000               70           7   \n",
       "1                      15.0               500               20          10   \n",
       "2                      15.0               500               20          10   \n",
       "3                      15.0               500               20          10   \n",
       "4                      15.0               500               20          10   \n",
       "...                     ...               ...              ...         ...   \n",
       "1754                   15.0               500               20          10   \n",
       "1755                   15.0               500               20          10   \n",
       "1756                   15.0               500               20          10   \n",
       "1757                   15.0               500               20          10   \n",
       "1758                   30.0              3000               70           7   \n",
       "\n",
       "      usd_per_message  usd_per_minute  consumo_adicional_gb  \\\n",
       "0                0.01            0.01                   0.0   \n",
       "1                0.03            0.03                   6.0   \n",
       "2                0.03            0.03                  26.0   \n",
       "3                0.03            0.03                  35.0   \n",
       "4                0.03            0.03                  34.0   \n",
       "...               ...             ...                   ...   \n",
       "1754             0.03            0.03                  27.0   \n",
       "1755             0.03            0.03                  26.0   \n",
       "1756             0.03            0.03                  12.0   \n",
       "1757             0.03            0.03                  26.0   \n",
       "1758             0.01            0.01                   0.0   \n",
       "\n",
       "      consumo_adicional_mensajes  consumo_adicional_llamadas  Pago Mensual  \n",
       "0                            0.0                         0.0         70.00  \n",
       "1                            0.0                         0.0         80.00  \n",
       "2                            0.0                         0.0        280.00  \n",
       "3                            3.0                         0.0        370.09  \n",
       "4                            0.0                         0.0        360.00  \n",
       "...                          ...                         ...           ...  \n",
       "1754                         0.0                         0.0        290.00  \n",
       "1755                         0.0                         0.0        280.00  \n",
       "1756                         0.0                         0.0        140.00  \n",
       "1757                         0.0                         0.0        280.00  \n",
       "1758                         0.0                         0.0         70.00  \n",
       "\n",
       "[1759 rows x 19 columns]"
      ]
     },
     "execution_count": 31,
     "metadata": {},
     "output_type": "execute_result"
    }
   ],
   "source": [
    "# Calcula el ingreso mensual para cada usuario\n",
    "\n",
    "data_merged['consumo_adicional_gb'] = np.where(data_merged['gb_per_month_included'] - data_merged['gb_used'] > 0 , 0, (data_merged['gb_per_month_included'] - data_merged['gb_used'])*(-1))\n",
    "data_merged['consumo_adicional_mensajes'] = np.where(data_merged['messages_included'] - data_merged['Cantidad de mensajes'] > 0 , 0, (data_merged['messages_included'] - data_merged['Cantidad de mensajes'])*(-1))\n",
    "data_merged['consumo_adicional_llamadas'] = np.where(data_merged['minutes_included'] - data_merged['Duracion total llamada'] > 0 , 0, (data_merged['minutes_included'] - data_merged['Duracion total llamada'])*(-1))\n",
    "data_merged['Pago Mensual'] = data_merged['usd_monthly_pay'] + data_merged['consumo_adicional_gb']*data_merged['usd_per_gb'] + data_merged['consumo_adicional_mensajes']*data_merged['usd_per_minute'] + data_merged['consumo_adicional_llamadas']*data_merged['usd_per_minute']\n",
    "\n",
    "data_merged"
   ]
  },
  {
   "cell_type": "markdown",
   "metadata": {
    "id": "-jtyHzJb0q1I"
   },
   "source": [
    "## Estudia el comportamiento de usuario"
   ]
  },
  {
   "cell_type": "markdown",
   "metadata": {
    "id": "AxU3Y0N70q1J"
   },
   "source": [
    "[Calcula algunas estadísticas descriptivas para los datos agregados y fusionados que nos sean útiles y que muestren un panorama general captado por los datos. Dibuja gráficos útiles para facilitar la comprensión. Dado que la tarea principal es comparar las tarifas y decidir cuál es más rentable, las estadísticas y gráficas deben calcularse por tarifa.]\n",
    "\n",
    "[En los comentarios hallarás pistas relevantes para las llamadas, pero no las hay para los mensajes e Internet. Sin embargo, el principio del estudio estadístico que se aplica para ellos es el mismo que para las llamadas.]"
   ]
  },
  {
   "cell_type": "markdown",
   "metadata": {
    "id": "vtW4CJEe0q1J"
   },
   "source": [
    "### Llamadas"
   ]
  },
  {
   "cell_type": "code",
   "execution_count": 32,
   "metadata": {
    "id": "Jf5v5--k0q1J"
   },
   "outputs": [
    {
     "data": {
      "image/png": "[encoded data removed]",
      "text/plain": [
       "<Figure size 1000x400 with 2 Axes>"
      ]
     },
     "metadata": {},
     "output_type": "display_data"
    }
   ],
   "source": [
    "# Compara la duración promedio de llamadas por cada plan y por cada mes. Traza un gráfico de barras para visualizarla.\n",
    "\n",
    "ave_llamada_plan = data_merged.groupby('plan_name')['Duracion total llamada'].mean().reset_index()\n",
    "ave_llamada_mes = data_merged.groupby('month')['Duracion total llamada'].mean().reset_index()\n",
    "\n",
    "fig, (ax1, ax2) = plt.subplots(1, 2, figsize=(10, 4),sharey=True)\n",
    "ax1.bar(ave_llamada_plan['plan_name'], ave_llamada_plan['Duracion total llamada'], color='b', alpha=0.7)\n",
    "ax1.set_title('Promedio de duracion de llamada por PLAN - 2018')\n",
    "ax1.set_xlabel('Planes')\n",
    "ax1.set_ylabel('Duracion Promedio de las llamadas')\n",
    "ax1.grid(True)\n",
    "#ax1.legend()\n",
    "\n",
    "ax2.bar(ave_llamada_mes['month'], ave_llamada_mes['Duracion total llamada'], color='r', alpha=0.7)\n",
    "ax2.set_title('Promedio de duracion de llamada por MES - 2018')\n",
    "ax2.set_xlabel('Meses')\n",
    "ax2.grid(True)\n",
    "\n",
    "plt.tight_layout()\n",
    "plt.show()"
   ]
  },
  {
   "cell_type": "markdown",
   "metadata": {},
   "source": [
    "<div class=\"alert alert-block alert-info\">\n",
    "<b>Se observa que el promedio de duracion de llamadas por plan son muy similares 450 min en promedio </b>\n",
    "    <br>\n",
    "<br><b>Mientras que el analizis mensual, se aprecia que en promedio en el mes 12 (diciembre) es donde se realizan las llamadas con mayor duracion</b><a class=\"tocSkip\"></a>\n",
    "</div>"
   ]
  },
  {
   "cell_type": "code",
   "execution_count": 33,
   "metadata": {
    "id": "QoLqW1S_0q1J"
   },
   "outputs": [
    {
     "data": {
      "image/png": "[encoded data removed]",
      "text/plain": [
       "<Figure size 800x400 with 1 Axes>"
      ]
     },
     "metadata": {},
     "output_type": "display_data"
    }
   ],
   "source": [
    "# Compara el número de minutos mensuales que necesitan los usuarios de cada plan. Traza un histograma.\n",
    "\n",
    "# Agrupar por plan y sumar los minutos\n",
    "llamada_total_plan = data_merged[['plan_name','Duracion total llamada']]\n",
    "llamada_total_plan_surf = llamada_total_plan[llamada_total_plan['plan_name'] == 'surf']\n",
    "llamada_total_plan_ultimate = llamada_total_plan[llamada_total_plan['plan_name'] == 'ultimate']\n",
    "\n",
    "# Crear un histograma\n",
    "plt.figure(figsize=(8, 4))\n",
    "\n",
    "# Dibujar el histograma del primer DataFrame\n",
    "plt.hist(llamada_total_plan_surf['Duracion total llamada'], alpha=0.5, label='Plan Surf', color='red')\n",
    "\n",
    "# Dibujar el histograma del segundo DataFrame\n",
    "plt.hist(llamada_total_plan_ultimate['Duracion total llamada'], alpha=0.5, label='Plan Ultimate', color='blue')\n",
    "\n",
    "# Añadir etiquetas y título\n",
    "plt.xlabel('Duracion de llamadas')\n",
    "plt.ylabel('Frecuencia')\n",
    "plt.title('Comparación de Distribuciones de llamadas de lo Planes')\n",
    "plt.grid()\n",
    "plt.legend()\n",
    "\n",
    "# Mostrar el histograma\n",
    "plt.show()\n"
   ]
  },
  {
   "cell_type": "markdown",
   "metadata": {},
   "source": [
    "<div class=\"alert alert-block alert-info\">\n",
    "<b>Se observa en el histograma que el plan Surf tiene una frecuencia en llamadas mayor que el plan Ultimate. Se aprecia que en el plan Surf las llamadas de 350 a 400 min son mas frecuentes al mes, mienstras que en el plan ultimate las llamadas en el rango de 400 a 500 min de duracion son mas frecuentes. Se puede inferir que en el plan Surf se muchas llamadas de corta duracion mientras que en el plan Ultimate se realizan pocas llamadas pero de mayor duracion</b><a class=\"tocSkip\"></a>\n",
    "</div>"
   ]
  },
  {
   "cell_type": "markdown",
   "metadata": {
    "id": "bLS9T8OH0q1K"
   },
   "source": [
    "[Calcula la media y la varianza de la duración de las llamadas para averiguar si los usuarios de los distintos planes se comportan de forma diferente al realizar sus llamadas.]"
   ]
  },
  {
   "cell_type": "code",
   "execution_count": 34,
   "metadata": {
    "id": "oSndbAnt0q1K"
   },
   "outputs": [
    {
     "data": {
      "text/html": [
       "<div>\n",
       "<style scoped>\n",
       "    .dataframe tbody tr th:only-of-type {\n",
       "        vertical-align: middle;\n",
       "    }\n",
       "\n",
       "    .dataframe tbody tr th {\n",
       "        vertical-align: top;\n",
       "    }\n",
       "\n",
       "    .dataframe thead th {\n",
       "        text-align: right;\n",
       "    }\n",
       "</style>\n",
       "<table border=\"1\" class=\"dataframe\">\n",
       "  <thead>\n",
       "    <tr style=\"text-align: right;\">\n",
       "      <th></th>\n",
       "      <th>plan_name</th>\n",
       "      <th>mean</th>\n",
       "    </tr>\n",
       "  </thead>\n",
       "  <tbody>\n",
       "    <tr>\n",
       "      <th>0</th>\n",
       "      <td>surf</td>\n",
       "      <td>445.775424</td>\n",
       "    </tr>\n",
       "    <tr>\n",
       "      <th>1</th>\n",
       "      <td>ultimate</td>\n",
       "      <td>442.512953</td>\n",
       "    </tr>\n",
       "  </tbody>\n",
       "</table>\n",
       "</div>"
      ],
      "text/plain": [
       "  plan_name        mean\n",
       "0      surf  445.775424\n",
       "1  ultimate  442.512953"
      ]
     },
     "execution_count": 34,
     "metadata": {},
     "output_type": "execute_result"
    }
   ],
   "source": [
    "# Calcula la media y la varianza de la duración mensual de llamadas.\n",
    "\n",
    "mean_plan = data_merged.groupby(['plan_name'])['Duracion total llamada'].mean().reset_index()\n",
    "mean_plan.columns = ['plan_name', 'mean']\n",
    "mean_plan"
   ]
  },
  {
   "cell_type": "code",
   "execution_count": 35,
   "metadata": {},
   "outputs": [
    {
     "data": {
      "text/html": [
       "<div>\n",
       "<style scoped>\n",
       "    .dataframe tbody tr th:only-of-type {\n",
       "        vertical-align: middle;\n",
       "    }\n",
       "\n",
       "    .dataframe tbody tr th {\n",
       "        vertical-align: top;\n",
       "    }\n",
       "\n",
       "    .dataframe thead th {\n",
       "        text-align: right;\n",
       "    }\n",
       "</style>\n",
       "<table border=\"1\" class=\"dataframe\">\n",
       "  <thead>\n",
       "    <tr style=\"text-align: right;\">\n",
       "      <th></th>\n",
       "      <th>plan_name</th>\n",
       "      <th>var</th>\n",
       "    </tr>\n",
       "  </thead>\n",
       "  <tbody>\n",
       "    <tr>\n",
       "      <th>0</th>\n",
       "      <td>surf</td>\n",
       "      <td>55321.412627</td>\n",
       "    </tr>\n",
       "    <tr>\n",
       "      <th>1</th>\n",
       "      <td>ultimate</td>\n",
       "      <td>62288.399053</td>\n",
       "    </tr>\n",
       "  </tbody>\n",
       "</table>\n",
       "</div>"
      ],
      "text/plain": [
       "  plan_name           var\n",
       "0      surf  55321.412627\n",
       "1  ultimate  62288.399053"
      ]
     },
     "execution_count": 35,
     "metadata": {},
     "output_type": "execute_result"
    }
   ],
   "source": [
    "var_plan = data_merged.groupby(['plan_name'])['Duracion total llamada'].var().reset_index()\n",
    "var_plan.columns = ['plan_name', 'var']\n",
    "var_plan"
   ]
  },
  {
   "cell_type": "code",
   "execution_count": 36,
   "metadata": {
    "id": "nZzoRUKc0q1K"
   },
   "outputs": [
    {
     "data": {
      "text/plain": [
       "<AxesSubplot:xlabel='plan_name', ylabel='Duracion total llamada'>"
      ]
     },
     "execution_count": 36,
     "metadata": {},
     "output_type": "execute_result"
    },
    {
     "data": {
      "image/png": "[encoded data removed]",
      "text/plain": [
       "<Figure size 640x480 with 1 Axes>"
      ]
     },
     "metadata": {},
     "output_type": "display_data"
    }
   ],
   "source": [
    "# Traza un diagrama de caja para visualizar la distribución de la duración mensual de llamadas\n",
    "import seaborn as sns\n",
    "\n",
    "sns.boxplot(data = llamada_total_plan,\n",
    "            x= 'plan_name',\n",
    "            y= 'Duracion total llamada',\n",
    "           flierprops={\"marker\": \"x\"})"
   ]
  },
  {
   "cell_type": "markdown",
   "metadata": {
    "id": "r627zBO50q1K"
   },
   "source": [
    "<div class=\"alert alert-block alert-info\">\n",
    "<b>Se observa en el diagrama de caja que la media y los cuartiles Q1 y Q3 son muy similares, lo que quiere decir que el comportamiendo de llamadas de los usuarios por plan es similar. Existe una diferencia en los outliners, debido a que en el plan Surf hay ciertos usuarios con llamadas de larga duracion pero con una frecuencia muy baja</b><a class=\"tocSkip\"></a>\n",
    "</div>"
   ]
  },
  {
   "cell_type": "markdown",
   "metadata": {
    "id": "8idKy8Wh0q1L"
   },
   "source": [
    "### Mensajes"
   ]
  },
  {
   "cell_type": "code",
   "execution_count": 37,
   "metadata": {
    "id": "NXLxiTit0q1L"
   },
   "outputs": [
    {
     "name": "stdout",
     "output_type": "stream",
     "text": [
      "Total de mensajes PLAN SURF:  46598.0\n",
      "Total de mensajes PLAN ULTIMATE:  26898.0\n"
     ]
    },
    {
     "data": {
      "image/png": "[encoded data removed]",
      "text/plain": [
       "<Figure size 1200x400 with 2 Axes>"
      ]
     },
     "metadata": {},
     "output_type": "display_data"
    }
   ],
   "source": [
    "# Comprara el número de mensajes que tienden a enviar cada mes los usuarios de cada plan\n",
    "\n",
    "# Agrupar por plan y sumar los mensajes\n",
    "mensajes_total_plan = data_merged[['plan_name','Cantidad de mensajes']]\n",
    "mensajes_total_plan_surf = mensajes_total_plan[mensajes_total_plan['plan_name'] == 'surf']\n",
    "mensajes_total_plan_ultimate = mensajes_total_plan[mensajes_total_plan['plan_name'] == 'ultimate']\n",
    "\n",
    "print('Total de mensajes PLAN SURF: ', mensajes_total_plan_surf['Cantidad de mensajes'].sum())\n",
    "print('Total de mensajes PLAN ULTIMATE: ', mensajes_total_plan_ultimate['Cantidad de mensajes'].sum())\n",
    "\n",
    "# Crear una figura con dos filas y una columna\n",
    "fig, axs = plt.subplots(1, 2, figsize=(12, 4))\n",
    "\n",
    "# Ajustar el espacio entre subplots\n",
    "fig.subplots_adjust(hspace=0.4)\n",
    "\n",
    "# Histograma\n",
    "\n",
    "axs[0].hist(mensajes_total_plan_surf['Cantidad de mensajes'], alpha=0.5, label='Plan Surf', color='red', orientation='horizontal')\n",
    "axs[0].hist(mensajes_total_plan_ultimate['Cantidad de mensajes'], alpha=0.5, label='Plan Ultimate', color='blue', orientation='horizontal')\n",
    "axs[0].set_title('Distribuciones de mensajes por Plan')\n",
    "axs[0].set_xlabel('Frecuencia')\n",
    "axs[0].set_ylabel('Cantidad de mensajes usados')\n",
    "axs[0].grid()\n",
    "axs[0].legend()\n",
    "\n",
    "# Diagrama de cajas\n",
    "sns.boxplot(data = mensajes_total_plan,\n",
    "            x= 'plan_name',\n",
    "            y= 'Cantidad de mensajes',\n",
    "           flierprops={\"marker\": \"x\"})\n",
    "axs[1].set_title('Diagramas de cajas de uso de mensajes por Plan')\n",
    "axs[1].set_xlabel('Planes')\n",
    "axs[1].set_ylabel('Valores')\n",
    "\n",
    "# Mostrar el histograma\n",
    "plt.show()"
   ]
  },
  {
   "cell_type": "markdown",
   "metadata": {},
   "source": [
    "[Elabora las conclusiones sobre el comportamiento de los usuarios con respecto a los mensajes. ¿Su comportamiento varía en función del plan?]"
   ]
  },
  {
   "cell_type": "markdown",
   "metadata": {},
   "source": [
    "<div class=\"alert alert-block alert-info\">\n",
    "<ol>\n",
    "<li><b>Usuarios del plan SURF tienden a enviar mas mensajes que el plan ULTIMATE, sobre todo en el rango de 0 a 50 mensajes, que es su limite mensual de su plan</b></li>\n",
    "<li><b>La media de mensajes mensuales del plan ULTIMATE es mayor a la media de mensajes del plan SURF</b></li>\n",
    "<li><b>Hay ciertos usuarios en el plan SURF que envian mas de 200 mensajes al mes, pagando un adicional al mes</b>\n",
    "<li><b>Los usuarios del plan ULTIMATE no tienen a pagar adicional por el uso de mensajes de texto debido a que no superan su limite de 1000 mensajes al mes</b></li> <a class=\"tocSkip\"></a>\n",
    "</div>"
   ]
  },
  {
   "cell_type": "markdown",
   "metadata": {},
   "source": [
    "### Internet"
   ]
  },
  {
   "cell_type": "markdown",
   "metadata": {},
   "source": [
    "[Elabora las conclusiones sobre cómo los usuarios tienden a consumir el tráfico de Internet. ¿Su comportamiento varía en función del plan?]"
   ]
  },
  {
   "cell_type": "code",
   "execution_count": 38,
   "metadata": {
    "id": "GRI_R7xF0q1L"
   },
   "outputs": [
    {
     "name": "stdout",
     "output_type": "stream",
     "text": [
      "Total de GB PLAN SURF:  47517.0\n",
      "Total de GB PLAN ULTIMATE:  23817.0\n"
     ]
    },
    {
     "data": {
      "image/png": "[encoded data removed]",
      "text/plain": [
       "<Figure size 1200x400 with 2 Axes>"
      ]
     },
     "metadata": {},
     "output_type": "display_data"
    }
   ],
   "source": [
    "# Compara la cantidad de tráfico de Internet consumido por usuarios por plan\n",
    "\n",
    "# Agrupar por plan y sumar los mensajes\n",
    "gb_total_plan = data_merged[['plan_name','gb_used']]\n",
    "gb_total_plan_surf = gb_total_plan[gb_total_plan['plan_name'] == 'surf']\n",
    "gb_total_plan_ultimate = gb_total_plan[gb_total_plan['plan_name'] == 'ultimate']\n",
    "\n",
    "print('Total de GB PLAN SURF: ', gb_total_plan_surf['gb_used'].sum())\n",
    "print('Total de GB PLAN ULTIMATE: ', gb_total_plan_ultimate['gb_used'].sum())\n",
    "\n",
    "# Crear una figura con dos filas y una columna\n",
    "fig, axs = plt.subplots(1, 2, figsize=(12, 4))\n",
    "\n",
    "# Ajustar el espacio entre subplots\n",
    "fig.subplots_adjust(hspace=0.4)\n",
    "\n",
    "# Histograma\n",
    "\n",
    "axs[0].hist(gb_total_plan_surf['gb_used'], alpha=0.5, label='Plan Surf', color='red', orientation='horizontal')\n",
    "axs[0].hist(gb_total_plan_ultimate['gb_used'], alpha=0.5, label='Plan Ultimate', color='blue', orientation='horizontal')\n",
    "axs[0].set_title('CDistribuciones de uso de GB de lo Plan')\n",
    "axs[0].set_xlabel('Frecuencia')\n",
    "axs[0].set_ylabel('Cantidad de Gb usados')\n",
    "axs[0].grid()\n",
    "axs[0].legend()\n",
    "\n",
    "# Diagrama de cajas\n",
    "sns.boxplot(data = gb_total_plan,\n",
    "            x= 'plan_name',\n",
    "            y= 'gb_used',\n",
    "           flierprops={\"marker\": \"x\"})\n",
    "axs[1].set_title('Diagramas de cajas de uso GB por Plan')\n",
    "axs[1].set_xlabel('Planes')\n",
    "axs[1].set_ylabel('Valores')\n",
    "\n",
    "# Mostrar el histograma\n",
    "plt.show()"
   ]
  },
  {
   "cell_type": "markdown",
   "metadata": {},
   "source": [
    "<div class=\"alert alert-block alert-info\">\n",
    "<ol>\n",
    "<li><b>La media de consumo de GB en cada plan es similar, aproximadamente 40 GB al mes</b></li>\n",
    "<li><b>Mas usuarios del plan ULTIMATE y SURF tienden a usar una media de GB mensual de 40 GB a pesar de que sus planes solo incluiye 30 y 15 GB al mes respectivamente</b></li>\n",
    "<li><b>Usuarios del plan Surf consumen mas GB que los usuarios del plan ULTIMATE</b></li> <a class=\"tocSkip\"></a>\n",
    "</div>"
   ]
  },
  {
   "cell_type": "markdown",
   "metadata": {
    "id": "tCijq3260q1N"
   },
   "source": [
    "## Ingreso"
   ]
  },
  {
   "cell_type": "markdown",
   "metadata": {
    "id": "9nq5IAcy0q1O"
   },
   "source": [
    "[Del mismo modo que has estudiado el comportamiento de los usuarios, describe estadísticamente los ingresos de los planes.]"
   ]
  },
  {
   "cell_type": "code",
   "execution_count": 39,
   "metadata": {
    "id": "tz-dq_V00q1O"
   },
   "outputs": [
    {
     "name": "stdout",
     "output_type": "stream",
     "text": [
      "Total de Ingreso Plan SURF:  333730.69\n",
      "Total de Ingreso Plan ULTIMATE:  95578.0\n",
      "Media de Ingreso Plan SURF:  282.8226186440678\n",
      "Media de Ingreso Plan ULTIMATE:  165.07426597582037\n"
     ]
    },
    {
     "data": {
      "image/png": "[encoded data removed]",
      "text/plain": [
       "<Figure size 1200x400 with 2 Axes>"
      ]
     },
     "metadata": {},
     "output_type": "display_data"
    }
   ],
   "source": [
    "# Compara la cantidad de ingresos por plan\n",
    "Pago_usuarios = data_merged[['user_id','plan_name','month','gb_used','Pago Mensual']]\n",
    "\n",
    "# Agrupar por plan y sumar el pago\n",
    "pago_total_plan = Pago_usuarios[['plan_name','Pago Mensual']]\n",
    "pago_total_plan_surf = pago_total_plan[pago_total_plan['plan_name'] == 'surf']\n",
    "pago_total_plan_ultimate = pago_total_plan[pago_total_plan['plan_name'] == 'ultimate']\n",
    "\n",
    "print('Total de Ingreso Plan SURF: ', pago_total_plan_surf['Pago Mensual'].sum())\n",
    "print('Total de Ingreso Plan ULTIMATE: ', pago_total_plan_ultimate['Pago Mensual'].sum())\n",
    "\n",
    "print('Media de Ingreso Plan SURF: ', pago_total_plan_surf['Pago Mensual'].mean())\n",
    "print('Media de Ingreso Plan ULTIMATE: ', pago_total_plan_ultimate['Pago Mensual'].mean())\n",
    "\n",
    "# Crear una figura con dos filas y una columna\n",
    "fig, axs = plt.subplots(1, 2, figsize=(12, 4))\n",
    "\n",
    "# Ajustar el espacio entre subplots\n",
    "fig.subplots_adjust(hspace=0.4)\n",
    "\n",
    "# Histograma\n",
    "\n",
    "axs[0].hist(pago_total_plan_surf['Pago Mensual'], alpha=0.5, label='Plan Surf', color='red', orientation='horizontal')\n",
    "axs[0].hist(pago_total_plan_ultimate['Pago Mensual'], alpha=0.5, label='Plan Ultimate', color='blue', orientation='horizontal')\n",
    "axs[0].set_title('Distribuciones de INGRESOS por Plan')\n",
    "axs[0].set_xlabel('Frecuencia')\n",
    "axs[0].set_ylabel('Ingresos')\n",
    "axs[0].grid()\n",
    "axs[0].legend()\n",
    "\n",
    "# Diagrama de cajas\n",
    "sns.boxplot(data = pago_total_plan,\n",
    "            x= 'plan_name',\n",
    "            y= 'Pago Mensual',\n",
    "           flierprops={\"marker\": \"x\"})\n",
    "axs[1].set_title('Diagramas de cajas de uso GB por Plan')\n",
    "axs[1].set_xlabel('Planes')\n",
    "axs[1].set_ylabel('Valores')\n",
    "\n",
    "# Mostrar el histograma\n",
    "plt.show()"
   ]
  },
  {
   "cell_type": "code",
   "execution_count": 40,
   "metadata": {
    "id": "0Y1v8ZUz0q1P"
   },
   "outputs": [
    {
     "data": {
      "image/png": "[encoded data removed]",
      "text/plain": [
       "<Figure size 640x480 with 1 Axes>"
      ]
     },
     "metadata": {},
     "output_type": "display_data"
    }
   ],
   "source": [
    "# Agrupar por plan y sumar el pago\n",
    "Pago_Mensual = data_merged[['plan_name','month','Pago Mensual']]\n",
    "\n",
    "# Agrupar por plan y sumar el pago\n",
    "pago_total_plan_mes_surf = Pago_Mensual[Pago_Mensual['plan_name']=='surf']\n",
    "pago_total_plan_mes_surf = pago_total_plan_mes_surf.groupby(['month'])['Pago Mensual'].sum()\n",
    "\n",
    "pago_total_plan_mes_ultimate = Pago_Mensual[Pago_Mensual['plan_name']=='ultimate']\n",
    "pago_total_plan_mes_ultimate = pago_total_plan_mes_ultimate.groupby(['month'])['Pago Mensual'].sum()\n",
    "\n",
    "df_concat = pd.concat([pago_total_plan_mes_surf , pago_total_plan_mes_ultimate], axis='columns')\n",
    "df_concat.columns = ['Surf', 'Ultimate']\n",
    "\n",
    "df_concat.plot(kind='bar',\n",
    "           ylabel = 'Ingreso Mensual',\n",
    "           xlabel = 'MES - 2018',    \n",
    "           grid = True)\n",
    "\n",
    "plt.show()"
   ]
  },
  {
   "cell_type": "markdown",
   "metadata": {
    "id": "bYmwxyVh0q1P"
   },
   "source": [
    "<div class=\"alert alert-block alert-info\">\n",
    "<ol>\n",
    "<li><b>El total de ingresos por plan es: Plan SURF = 333730.69 USD, Plan ULTIMATE = 95578.0 USD</b></li>\n",
    "<li><b>El plan Surf brinda mayor ingresos con una media mensual de 282 USD sobre los 165 USD del plan Ultimate</b></li>\n",
    "<li><b>Los ingresos mensuales del plan Surf son mayores al del plan Ultimate en los 12 meses del ano 2018</b></li> <a class=\"tocSkip\"></a>\n",
    "</div>"
   ]
  },
  {
   "cell_type": "markdown",
   "metadata": {
    "id": "ajJ7VKeI0q1Q"
   },
   "source": [
    "## Prueba las hipótesis estadísticas"
   ]
  },
  {
   "cell_type": "markdown",
   "metadata": {},
   "source": [
    "### PRUEBA DE HIPOTESIS 1\n",
    "Prueba la hipótesis de que son diferentes los ingresos promedio procedentes de los usuarios de los planes de llamada Ultimate y Surf\n",
    "\n",
    "$H_(0):$ **No hay diferencias entre las medias poblacionales:**\n",
    "\n",
    "$\\mu (Ingreso Ultimate) - \\mu (Ingreso Surf) = 0$\n",
    "\n",
    "$H_(a):$ **Hay diferencias entre las medias poblacionales:**\n",
    "\n",
    "$\\mu (Ingreso Ultimate) - \\mu (Ingreso Surf) ≠ 0$"
   ]
  },
  {
   "cell_type": "code",
   "execution_count": 41,
   "metadata": {},
   "outputs": [
    {
     "name": "stdout",
     "output_type": "stream",
     "text": [
      "25476.564128142705\n",
      "7147.978940523385\n"
     ]
    }
   ],
   "source": [
    "#Calculamos la varianza para saber si son iguales:\n",
    "\n",
    "print(np.var(pago_total_plan_surf['Pago Mensual']))\n",
    "print(np.var(pago_total_plan_ultimate['Pago Mensual']))"
   ]
  },
  {
   "cell_type": "code",
   "execution_count": 42,
   "metadata": {},
   "outputs": [
    {
     "name": "stdout",
     "output_type": "stream",
     "text": [
      "valor p: 1.005225561054736e-81\n",
      "Rechazamos la hipótesis nula\n"
     ]
    }
   ],
   "source": [
    "alpha = 0.05  # el nivel de significancia estadística crítica\n",
    "\n",
    "#Las varianzas son diferentes\n",
    "results = st.ttest_ind(pago_total_plan_surf['Pago Mensual'], pago_total_plan_ultimate['Pago Mensual'], equal_var=False)\n",
    "print('valor p:', results.pvalue)\n",
    "\n",
    "if results.pvalue < alpha:\n",
    "    print(\"Rechazamos la hipótesis nula\")\n",
    "else:\n",
    "    print(\"No podemos rechazar la hipótesis nula\")"
   ]
  },
  {
   "cell_type": "markdown",
   "metadata": {},
   "source": [
    "<div class=\"alert alert-block alert-info\">\n",
    "<b>Rechazamos la hipotesis nula, las medias poblacionales de cada plan es diferente. Por la data que se tiene se puede indicar que el plan Surf brinda mayuor ingresos economicos</b>\n",
    "</div>"
   ]
  },
  {
   "cell_type": "markdown",
   "metadata": {},
   "source": [
    "### PRUEBA DE HIPOTESIS 2\n",
    "Prueba la hipótesis de que el ingreso promedio de los usuarios del área NY-NJ es diferente al de los usuarios de otras regiones.\n",
    "\n",
    "$H_(0):$ **No hay diferencias entre las medias poblacionales:**\n",
    "\n",
    "$\\mu (Ingreso Area NY-NJ)  - \\mu (Ingreso Otras Regiones) = 0$\n",
    "\n",
    "$H_(a):$ **Hay diferencias entre las medias poblacionales:**\n",
    "\n",
    "$\\mu ((Ingreso Area NY-NJ)  - \\mu (Ingreso Otras Regiones)  ≠ 0$"
   ]
  },
  {
   "cell_type": "code",
   "execution_count": 43,
   "metadata": {
    "id": "LsBgitqj0q1R"
   },
   "outputs": [],
   "source": [
    "#Filtramos la data por el estado de NY-NJ y por el resto de estados\n",
    "\n",
    "Data_estado = data_merged[['Estado','Pago Mensual']]\n",
    "\n",
    "Data_NYNJ = Data_estado[Data_estado['Estado'].str.contains('NY-NJ')]\n",
    "#Data_NYNJ = Data_NYNJ['Pago Mensual']\n",
    "Otros_estados = Data_estado[~Data_estado['Estado'].str.contains('NY-NJ')]\n",
    "#Otros_estados = Otros_estados['Pago Mensual']"
   ]
  },
  {
   "cell_type": "code",
   "execution_count": 44,
   "metadata": {},
   "outputs": [
    {
     "name": "stdout",
     "output_type": "stream",
     "text": [
      "Pago Mensual    18385.95964\n",
      "dtype: float64\n",
      "Pago Mensual    23260.809027\n",
      "dtype: float64\n"
     ]
    }
   ],
   "source": [
    "#Calculamos la varianza para saber si son iguales:\n",
    "print(np.var(Data_NYNJ))\n",
    "print(np.var(Otros_estados))"
   ]
  },
  {
   "cell_type": "code",
   "execution_count": 45,
   "metadata": {
    "id": "Cqcj7wrZ0q1S"
   },
   "outputs": [
    {
     "name": "stdout",
     "output_type": "stream",
     "text": [
      "valor p: 0.20786207648479904\n",
      "No podemos rechazar la hipótesis nula\n"
     ]
    }
   ],
   "source": [
    "# Prueba las hipótesis\n",
    "alpha = 0.05  # el nivel de significancia estadística crítica\n",
    "\n",
    "#Las varianzas son diferentes\n",
    "results = st.ttest_ind(Data_NYNJ['Pago Mensual'], Otros_estados['Pago Mensual'], equal_var=False)\n",
    "print('valor p:', results.pvalue)\n",
    "\n",
    "if results.pvalue < alpha:\n",
    "    print(\"Rechazamos la hipótesis nula\")\n",
    "else:\n",
    "    print(\"No podemos rechazar la hipótesis nula\")"
   ]
  },
  {
   "cell_type": "code",
   "execution_count": 53,
   "metadata": {},
   "outputs": [
    {
     "name": "stdout",
     "output_type": "stream",
     "text": [
      "Total de Ingreso NY-NJ:  70773.04000000001\n",
      "Total de Ingreso Otros Estados:  358535.65\n",
      "Media de Ingreso NY-NJ:  253.66681003584233\n",
      "Media de Ingreso Otros Estados:  242.25381756756758\n"
     ]
    },
    {
     "name": "stderr",
     "output_type": "stream",
     "text": [
      "/tmp/ipykernel_237/2347726980.py:24: SettingWithCopyWarning: \n",
      "A value is trying to be set on a copy of a slice from a DataFrame.\n",
      "Try using .loc[row_indexer,col_indexer] = value instead\n",
      "\n",
      "See the caveats in the documentation: https://pandas.pydata.org/pandas-docs/stable/user_guide/indexing.html#returning-a-view-versus-a-copy\n",
      "  Otros_estados['Estado'] = 'Otros'\n"
     ]
    },
    {
     "data": {
      "image/png": "[encoded data removed]",
      "text/plain": [
       "<Figure size 1200x400 with 2 Axes>"
      ]
     },
     "metadata": {},
     "output_type": "display_data"
    }
   ],
   "source": [
    "print('Total de Ingreso NY-NJ: ', Data_NYNJ['Pago Mensual'].sum())\n",
    "print('Total de Ingreso Otros Estados: ', Otros_estados['Pago Mensual'].sum())\n",
    "\n",
    "print('Media de Ingreso NY-NJ: ', Data_NYNJ['Pago Mensual'].mean())\n",
    "print('Media de Ingreso Otros Estados: ', Otros_estados['Pago Mensual'].mean())\n",
    "\n",
    "# Crear una figura con dos filas y una columna\n",
    "fig, axs = plt.subplots(1, 2, figsize=(12, 4))\n",
    "\n",
    "# Ajustar el espacio entre subplots\n",
    "fig.subplots_adjust(hspace=0.4)\n",
    "\n",
    "# Histograma\n",
    "\n",
    "axs[0].hist(Data_NYNJ['Pago Mensual'], alpha=0.5, label='Ingreso NY-NJ', color='blue',bins = 50,orientation='horizontal')\n",
    "axs[0].hist(Otros_estados['Pago Mensual'], alpha=0.5, label='Ingreso Otros', color='red', bins = 50,orientation='horizontal') \n",
    "axs[0].set_title('Distribuciones de INGRESOS por Plan')\n",
    "axs[0].set_xlabel('Frecuencia')\n",
    "axs[0].set_ylabel('Ingresos')\n",
    "axs[0].grid()\n",
    "axs[0].legend()\n",
    "\n",
    "\n",
    "Otros_estados['Estado'] = 'Otros'\n",
    "\n",
    "df_concat2 = pd.concat([Data_NYNJ, Otros_estados ], axis='rows')\n",
    "\n",
    "#Diagrama de cajas\n",
    "sns.boxplot(data = df_concat2,\n",
    "            x= 'Estado',\n",
    "            y= 'Pago Mensual',\n",
    "           flierprops={\"marker\": \"x\"})\n",
    "\n",
    "axs[1].set_title('Diagramas de cajas de uso GB por Plan')\n",
    "axs[1].set_xlabel('Planes')\n",
    "axs[1].set_ylabel('Valores')\n",
    "\n",
    "# Mostrar el histograma\n",
    "plt.show()"
   ]
  },
  {
   "cell_type": "markdown",
   "metadata": {},
   "source": [
    "<div class=\"alert alert-block alert-info\">\n",
    "<b>NO rechazamos la hipotesis nula, las medias poblacionales del estado NY-NJ son casi iguales a las de los otros estados, con el 95% de probabilidad que se repitan. Y presentan un distribucion similar<br> Por lo que podemos decir que el ingreso promedio es similar</b>\n",
    "</div>"
   ]
  },
  {
   "cell_type": "markdown",
   "metadata": {
    "id": "bbTR8UQO0q1T"
   },
   "source": [
    "## Conclusión general\n",
    "\n",
    "[En esta sección final, enumera tus conclusiones importantes. Asegúrate de que estas abarquen todas las decisiones (suposiciones) importantes que adoptaste y que determinaron la forma elegida para procesar y analizar los datos.]"
   ]
  },
  {
   "cell_type": "markdown",
   "metadata": {},
   "source": [
    "<div class=\"alert alert-block alert-info\">\n",
    "<ol>\n",
    "<li><b>LLAMADAS POR PLAN: La distribucion y promedio entre la duracion de llamadas por plan es similar.</b><br>Con un consumo mayor del plan SURF</li>\n",
    "<li><b>MENSAJES POR PLAN: La distribucion y promedio entre el envio de mensajes es mayor para el plan ULTIMATE.</b><br>Con un consumo mayor del plan SURF</li>\n",
    "<li><b>INTERNET POR PLAN: La distribucion y promedio entre el consumo de internet por plan es similar. </b><br>Con un consumo mayor del plan SURF, promedio = 40 GB cuando su plan solo invluye 15 GB, paganso 10 USD por GB adicional</li>\n",
    "<li><b>INGRESO POR PLAN: La distribucion y promedio entre el ingreso por plan es mayor para el plan SURF.</b><br>Con un ingreso mayor del plan SURF</li>\n",
    "<li><b>PRUEBA DE HIPOTESIS:</b><br><b>HIPOTESIS 1</b> - Indico que los ingresos promedio de ambos planes es diferente, lo cual se demuestra con la data que el PLAN SURF brinda mayor ingresos<br><b>HIPOTESIS 2</b> - Indico que los ingresos promedio entre las ciudades de NY-NJ y las demas tienen una distribucion y promedio similiar, suponiendo que los usuarios tienen el mismo comportamiento de consumo</li>\n",
    "<br>\n",
    "<li><b>CONCLUSIONES:</b><br>El plan Surf brinda mejores beneficios a la compania.<br>Los usuarios del plan SURF pagan mas del doble de sus costo fijo mensual de su plan solo por el exeso de consumos de GB.<br>Los usuarios del plan ULTIMATE no superan sus limites de consumo de llamas ni mensajes de texto, teniendo un mismo promedio de consumo de GB que los usuarios del plan SURF pero no pagan excedentes por que su plan incluye mayor cantidad de GB.<br>Podemos maximizar el beneficio de la compania haciendo mayor campana al plan SURF </li>   \n",
    "    <a class=\"tocSkip\"></a>\n",
    "</div>"
   ]
  }
 ],
 "metadata": {
  "ExecuteTimeLog": [
   {
    "duration": 828,
    "start_time": "2021-11-16T09:21:11.304Z"
   },
   {
    "duration": 893,
    "start_time": "2021-11-16T09:21:17.728Z"
   },
   {
    "duration": 1150,
    "start_time": "2021-11-16T09:21:29.568Z"
   },
   {
    "duration": 3,
    "start_time": "2021-11-16T09:24:14.495Z"
   },
   {
    "duration": 120,
    "start_time": "2021-11-16T09:24:46.630Z"
   },
   {
    "duration": 3,
    "start_time": "2021-11-16T09:28:27.882Z"
   },
   {
    "duration": 4,
    "start_time": "2021-11-16T09:29:54.281Z"
   },
   {
    "duration": 3,
    "start_time": "2021-11-16T09:30:45.936Z"
   },
   {
    "duration": 4,
    "start_time": "2021-11-16T09:31:06.300Z"
   },
   {
    "duration": 113,
    "start_time": "2021-11-16T09:31:37.208Z"
   },
   {
    "duration": 143,
    "start_time": "2021-11-16T09:31:48.656Z"
   },
   {
    "duration": 98,
    "start_time": "2021-11-16T09:31:55.678Z"
   },
   {
    "duration": 3,
    "start_time": "2021-11-16T09:32:08.535Z"
   },
   {
    "duration": 111,
    "start_time": "2021-11-16T09:32:10.120Z"
   },
   {
    "duration": 3,
    "start_time": "2021-11-16T09:32:15.732Z"
   },
   {
    "duration": 4,
    "start_time": "2021-11-16T09:32:29.423Z"
   },
   {
    "duration": 3,
    "start_time": "2021-11-16T10:03:03.074Z"
   },
   {
    "duration": 3,
    "start_time": "2021-11-16T10:10:01.288Z"
   },
   {
    "duration": 3,
    "start_time": "2021-11-16T10:10:46.923Z"
   },
   {
    "duration": 121,
    "start_time": "2021-11-16T10:37:46.494Z"
   },
   {
    "duration": 125,
    "start_time": "2021-11-16T10:38:20.632Z"
   },
   {
    "duration": 112,
    "start_time": "2021-11-16T10:46:53.001Z"
   },
   {
    "duration": 110,
    "start_time": "2021-11-16T10:48:25.775Z"
   },
   {
    "duration": 3,
    "start_time": "2021-11-16T10:50:18.720Z"
   },
   {
    "duration": 4,
    "start_time": "2021-11-16T10:50:37.649Z"
   },
   {
    "duration": 2,
    "start_time": "2021-11-16T10:50:51.884Z"
   },
   {
    "duration": 3,
    "start_time": "2021-11-16T10:51:56.237Z"
   },
   {
    "duration": 101,
    "start_time": "2021-11-16T10:53:13.791Z"
   },
   {
    "duration": 3,
    "start_time": "2021-11-16T10:55:59.186Z"
   },
   {
    "duration": 3,
    "start_time": "2021-11-16T10:56:10.751Z"
   },
   {
    "duration": 3,
    "start_time": "2021-11-16T10:56:49.038Z"
   },
   {
    "duration": 3,
    "start_time": "2021-11-16T10:56:49.174Z"
   },
   {
    "duration": 4,
    "start_time": "2021-11-16T10:56:49.414Z"
   },
   {
    "duration": 3,
    "start_time": "2021-11-16T10:56:49.680Z"
   },
   {
    "duration": 3,
    "start_time": "2021-11-16T10:56:50.370Z"
   },
   {
    "duration": 114,
    "start_time": "2021-11-16T10:59:34.518Z"
   },
   {
    "duration": 3,
    "start_time": "2021-11-16T11:01:41.201Z"
   },
   {
    "duration": 116,
    "start_time": "2021-11-16T11:01:48.754Z"
   },
   {
    "duration": 3,
    "start_time": "2021-11-16T11:02:16.685Z"
   },
   {
    "duration": 3,
    "start_time": "2021-11-16T11:02:19.479Z"
   },
   {
    "duration": 3,
    "start_time": "2021-11-16T11:02:47.067Z"
   },
   {
    "duration": 3,
    "start_time": "2021-11-16T11:02:49.353Z"
   },
   {
    "duration": 3,
    "start_time": "2021-11-16T11:03:07.835Z"
   },
   {
    "duration": 3,
    "start_time": "2021-11-16T11:03:07.953Z"
   },
   {
    "duration": 112,
    "start_time": "2021-11-16T11:07:52.072Z"
   },
   {
    "duration": 187,
    "start_time": "2021-11-16T11:09:23.468Z"
   },
   {
    "duration": 4,
    "start_time": "2021-11-16T11:10:01.455Z"
   },
   {
    "duration": 3,
    "start_time": "2021-11-16T11:10:05.069Z"
   },
   {
    "duration": 4,
    "start_time": "2021-11-16T11:10:13.376Z"
   },
   {
    "duration": 3,
    "start_time": "2021-11-16T11:10:14.434Z"
   },
   {
    "duration": 3,
    "start_time": "2021-11-16T11:10:22.853Z"
   },
   {
    "duration": 4,
    "start_time": "2021-11-16T11:27:29.279Z"
   },
   {
    "duration": 4,
    "start_time": "2021-11-16T11:29:08.919Z"
   },
   {
    "duration": 118,
    "start_time": "2021-11-16T11:29:46.703Z"
   },
   {
    "duration": 437,
    "start_time": "2021-11-16T11:36:02.181Z"
   },
   {
    "duration": 157,
    "start_time": "2021-11-16T11:36:14.388Z"
   },
   {
    "duration": 207,
    "start_time": "2021-11-16T11:47:15.898Z"
   },
   {
    "duration": 3,
    "start_time": "2021-11-16T11:53:52.092Z"
   },
   {
    "duration": 3,
    "start_time": "2021-11-16T11:53:52.236Z"
   },
   {
    "duration": 3,
    "start_time": "2021-11-16T11:59:12.005Z"
   },
   {
    "duration": 112,
    "start_time": "2021-11-16T12:00:33.446Z"
   },
   {
    "duration": 3,
    "start_time": "2021-11-16T12:02:14.453Z"
   },
   {
    "duration": 3,
    "start_time": "2021-11-16T12:02:39.512Z"
   },
   {
    "duration": 106,
    "start_time": "2021-11-16T12:03:03.460Z"
   },
   {
    "duration": 3,
    "start_time": "2021-11-17T20:37:21.139Z"
   },
   {
    "duration": 3,
    "start_time": "2021-11-17T20:37:22.229Z"
   },
   {
    "duration": 3,
    "start_time": "2021-11-17T20:38:38.806Z"
   },
   {
    "duration": 3,
    "start_time": "2021-11-17T20:38:41.958Z"
   },
   {
    "duration": 3,
    "start_time": "2021-11-17T20:43:46.551Z"
   },
   {
    "duration": 4,
    "start_time": "2021-11-17T20:58:21.835Z"
   },
   {
    "duration": 3,
    "start_time": "2021-11-17T20:59:21.872Z"
   },
   {
    "duration": 4,
    "start_time": "2021-11-17T20:59:45.352Z"
   },
   {
    "duration": 4,
    "start_time": "2021-11-17T20:59:49.646Z"
   },
   {
    "duration": 159,
    "start_time": "2021-11-17T21:02:26.949Z"
   },
   {
    "duration": 3,
    "start_time": "2021-11-17T21:03:53.461Z"
   },
   {
    "duration": 3,
    "start_time": "2021-11-17T21:03:53.694Z"
   },
   {
    "duration": 3,
    "start_time": "2021-11-17T21:05:28.145Z"
   },
   {
    "duration": 116,
    "start_time": "2021-11-17T21:05:57.787Z"
   },
   {
    "duration": 3,
    "start_time": "2021-11-17T21:06:37.993Z"
   },
   {
    "duration": 3,
    "start_time": "2021-11-17T21:06:38.261Z"
   },
   {
    "duration": 3,
    "start_time": "2021-11-17T21:11:54.358Z"
   },
   {
    "duration": 3,
    "start_time": "2021-11-17T21:12:43.846Z"
   },
   {
    "duration": 4,
    "start_time": "2021-11-17T21:13:08.773Z"
   },
   {
    "duration": 3,
    "start_time": "2021-11-17T21:14:44.441Z"
   },
   {
    "duration": 3,
    "start_time": "2021-11-17T21:15:42.059Z"
   },
   {
    "duration": 4,
    "start_time": "2021-11-17T21:15:51.995Z"
   },
   {
    "duration": 3,
    "start_time": "2021-11-17T21:15:53.923Z"
   },
   {
    "duration": 3,
    "start_time": "2021-11-17T21:15:55.282Z"
   },
   {
    "duration": 3,
    "start_time": "2021-11-17T21:16:28.492Z"
   },
   {
    "duration": 3,
    "start_time": "2021-11-17T21:16:32.603Z"
   },
   {
    "duration": 3,
    "start_time": "2021-11-17T21:17:06.941Z"
   },
   {
    "duration": 98,
    "start_time": "2021-11-17T21:18:05.733Z"
   },
   {
    "duration": 4,
    "start_time": "2021-11-17T21:21:35.255Z"
   },
   {
    "duration": 3,
    "start_time": "2021-11-17T21:21:37.804Z"
   },
   {
    "duration": 4,
    "start_time": "2021-11-17T21:23:06.071Z"
   },
   {
    "duration": 3,
    "start_time": "2021-11-17T21:23:24.799Z"
   },
   {
    "duration": 3,
    "start_time": "2021-11-17T21:23:32.591Z"
   },
   {
    "duration": 98,
    "start_time": "2021-11-17T21:28:31.559Z"
   },
   {
    "duration": 3,
    "start_time": "2021-11-17T21:28:45.448Z"
   },
   {
    "duration": 3,
    "start_time": "2021-11-17T21:29:17.303Z"
   },
   {
    "duration": 3,
    "start_time": "2021-11-17T21:29:29.617Z"
   },
   {
    "duration": 3,
    "start_time": "2021-11-17T21:29:32.681Z"
   },
   {
    "duration": 3,
    "start_time": "2021-11-17T21:36:11.474Z"
   },
   {
    "duration": 3,
    "start_time": "2021-11-17T21:36:14.791Z"
   },
   {
    "duration": 3,
    "start_time": "2021-11-17T21:36:53.943Z"
   },
   {
    "duration": 3,
    "start_time": "2021-11-17T21:36:56.165Z"
   },
   {
    "duration": 4,
    "start_time": "2021-11-17T21:37:16.590Z"
   },
   {
    "duration": 3,
    "start_time": "2021-11-17T21:37:22.702Z"
   },
   {
    "duration": 4,
    "start_time": "2021-11-17T21:38:03.479Z"
   },
   {
    "duration": 3,
    "start_time": "2021-11-17T21:38:08.601Z"
   },
   {
    "duration": 3,
    "start_time": "2021-11-17T21:38:12.928Z"
   },
   {
    "duration": 3,
    "start_time": "2021-11-17T21:38:48.896Z"
   },
   {
    "duration": 2,
    "start_time": "2021-11-17T21:38:49.171Z"
   },
   {
    "duration": 4,
    "start_time": "2021-11-17T21:39:57.889Z"
   },
   {
    "duration": 3,
    "start_time": "2021-11-17T21:39:58.057Z"
   },
   {
    "duration": 3,
    "start_time": "2021-11-17T21:41:20.108Z"
   },
   {
    "duration": 3,
    "start_time": "2021-11-17T21:41:20.629Z"
   },
   {
    "duration": 3,
    "start_time": "2021-11-17T21:42:49.136Z"
   },
   {
    "duration": 3,
    "start_time": "2021-11-17T21:43:15.137Z"
   },
   {
    "duration": 4,
    "start_time": "2021-11-17T21:43:16.766Z"
   },
   {
    "duration": 4,
    "start_time": "2021-11-17T21:43:31.711Z"
   },
   {
    "duration": 3,
    "start_time": "2021-11-17T21:43:36.312Z"
   },
   {
    "duration": 4,
    "start_time": "2021-11-17T21:45:08.825Z"
   },
   {
    "duration": 4,
    "start_time": "2021-11-17T21:45:10.119Z"
   },
   {
    "duration": 4,
    "start_time": "2021-11-17T21:45:13.748Z"
   },
   {
    "duration": 3,
    "start_time": "2021-11-17T21:45:22.219Z"
   },
   {
    "duration": 3,
    "start_time": "2021-11-17T21:45:33.412Z"
   },
   {
    "duration": 2,
    "start_time": "2021-11-17T21:46:01.885Z"
   },
   {
    "duration": 3,
    "start_time": "2021-11-17T21:46:03.628Z"
   },
   {
    "duration": 107,
    "start_time": "2021-11-17T21:47:32.512Z"
   },
   {
    "duration": 103,
    "start_time": "2021-11-17T21:50:36.243Z"
   },
   {
    "duration": 3,
    "start_time": "2021-11-18T06:28:31.440Z"
   },
   {
    "duration": 3,
    "start_time": "2021-11-18T06:29:00.168Z"
   },
   {
    "duration": 3,
    "start_time": "2021-11-18T06:31:27.008Z"
   },
   {
    "duration": 2,
    "start_time": "2021-11-18T06:35:34.288Z"
   },
   {
    "duration": 2,
    "start_time": "2021-11-18T06:38:04.527Z"
   },
   {
    "duration": 156,
    "start_time": "2024-09-08T10:38:42.402Z"
   },
   {
    "duration": 614,
    "start_time": "2024-09-08T10:38:46.510Z"
   },
   {
    "duration": 8,
    "start_time": "2024-09-08T10:38:48.871Z"
   },
   {
    "duration": 10,
    "start_time": "2024-09-08T10:39:20.217Z"
   },
   {
    "duration": 7,
    "start_time": "2024-09-08T10:39:33.405Z"
   },
   {
    "duration": 12,
    "start_time": "2024-09-08T10:39:35.101Z"
   },
   {
    "duration": 255,
    "start_time": "2024-09-08T10:42:17.593Z"
   },
   {
    "duration": 8,
    "start_time": "2024-09-08T10:42:24.874Z"
   },
   {
    "duration": 8,
    "start_time": "2024-09-08T10:42:41.892Z"
   },
   {
    "duration": 10,
    "start_time": "2024-09-08T10:42:56.525Z"
   },
   {
    "duration": 10,
    "start_time": "2024-09-08T10:43:16.240Z"
   },
   {
    "duration": 7,
    "start_time": "2024-09-08T10:46:24.365Z"
   },
   {
    "duration": 8,
    "start_time": "2024-09-08T10:53:14.799Z"
   },
   {
    "duration": 7,
    "start_time": "2024-09-08T10:53:48.685Z"
   },
   {
    "duration": 8,
    "start_time": "2024-09-08T10:56:02.176Z"
   },
   {
    "duration": 9,
    "start_time": "2024-09-08T11:22:17.425Z"
   },
   {
    "duration": 8,
    "start_time": "2024-09-08T11:22:35.123Z"
   },
   {
    "duration": 9,
    "start_time": "2024-09-08T11:22:43.578Z"
   },
   {
    "duration": 10,
    "start_time": "2024-09-08T11:27:25.586Z"
   },
   {
    "duration": 16,
    "start_time": "2024-09-08T11:27:31.833Z"
   },
   {
    "duration": 11,
    "start_time": "2024-09-08T11:29:15.797Z"
   },
   {
    "duration": 20,
    "start_time": "2024-09-08T11:30:22.608Z"
   },
   {
    "duration": 67,
    "start_time": "2024-09-08T11:30:37.968Z"
   },
   {
    "duration": 9,
    "start_time": "2024-09-08T11:30:42.858Z"
   },
   {
    "duration": 6,
    "start_time": "2024-09-08T11:33:17.349Z"
   },
   {
    "duration": 9,
    "start_time": "2024-09-08T11:33:21.356Z"
   },
   {
    "duration": 12,
    "start_time": "2024-09-08T11:33:27.613Z"
   },
   {
    "duration": 10,
    "start_time": "2024-09-08T11:33:28.551Z"
   },
   {
    "duration": 9,
    "start_time": "2024-09-08T11:33:41.601Z"
   },
   {
    "duration": 11,
    "start_time": "2024-09-08T11:33:57.634Z"
   },
   {
    "duration": 8,
    "start_time": "2024-09-08T11:34:19.094Z"
   },
   {
    "duration": 9,
    "start_time": "2024-09-08T11:34:24.682Z"
   },
   {
    "duration": 13,
    "start_time": "2024-09-08T11:37:13.887Z"
   },
   {
    "duration": 9,
    "start_time": "2024-09-08T11:37:18.172Z"
   },
   {
    "duration": 10,
    "start_time": "2024-09-08T11:55:30.506Z"
   },
   {
    "duration": 9,
    "start_time": "2024-09-08T11:55:47.345Z"
   },
   {
    "duration": 11,
    "start_time": "2024-09-08T11:58:03.110Z"
   },
   {
    "duration": 9,
    "start_time": "2024-09-08T11:58:07.929Z"
   },
   {
    "duration": 14,
    "start_time": "2024-09-08T11:58:27.353Z"
   },
   {
    "duration": 11,
    "start_time": "2024-09-08T11:58:39.605Z"
   },
   {
    "duration": 622,
    "start_time": "2024-09-11T09:36:21.969Z"
   },
   {
    "duration": 280,
    "start_time": "2024-09-11T09:36:22.593Z"
   },
   {
    "duration": 11,
    "start_time": "2024-09-11T09:36:22.875Z"
   },
   {
    "duration": 10,
    "start_time": "2024-09-11T09:36:22.889Z"
   },
   {
    "duration": 8,
    "start_time": "2024-09-11T09:36:22.900Z"
   },
   {
    "duration": 8,
    "start_time": "2024-09-11T09:36:22.924Z"
   },
   {
    "duration": 12,
    "start_time": "2024-09-11T09:36:22.934Z"
   },
   {
    "duration": 8,
    "start_time": "2024-09-11T09:36:22.947Z"
   },
   {
    "duration": 15,
    "start_time": "2024-09-11T09:36:22.957Z"
   },
   {
    "duration": 10,
    "start_time": "2024-09-11T09:36:22.975Z"
   },
   {
    "duration": 48,
    "start_time": "2024-09-11T09:36:22.986Z"
   },
   {
    "duration": 8,
    "start_time": "2024-09-11T09:36:23.036Z"
   },
   {
    "duration": 13,
    "start_time": "2024-09-11T09:36:23.045Z"
   },
   {
    "duration": 9,
    "start_time": "2024-09-11T09:36:23.059Z"
   },
   {
    "duration": 2,
    "start_time": "2024-09-11T09:36:23.070Z"
   },
   {
    "duration": 3,
    "start_time": "2024-09-11T09:36:23.073Z"
   },
   {
    "duration": 3,
    "start_time": "2024-09-11T09:36:23.078Z"
   },
   {
    "duration": 3,
    "start_time": "2024-09-11T09:36:23.082Z"
   },
   {
    "duration": 37,
    "start_time": "2024-09-11T09:36:23.086Z"
   },
   {
    "duration": 2,
    "start_time": "2024-09-11T09:36:23.125Z"
   },
   {
    "duration": 6,
    "start_time": "2024-09-11T09:36:23.129Z"
   },
   {
    "duration": 2,
    "start_time": "2024-09-11T09:36:23.136Z"
   },
   {
    "duration": 3,
    "start_time": "2024-09-11T09:36:23.140Z"
   },
   {
    "duration": 3,
    "start_time": "2024-09-11T09:36:23.144Z"
   },
   {
    "duration": 2,
    "start_time": "2024-09-11T09:36:23.149Z"
   },
   {
    "duration": 3,
    "start_time": "2024-09-11T09:36:23.153Z"
   },
   {
    "duration": 3,
    "start_time": "2024-09-11T09:36:23.157Z"
   },
   {
    "duration": 2,
    "start_time": "2024-09-11T09:36:23.163Z"
   },
   {
    "duration": 3,
    "start_time": "2024-09-11T09:36:23.167Z"
   },
   {
    "duration": 3,
    "start_time": "2024-09-11T09:36:23.171Z"
   },
   {
    "duration": 599,
    "start_time": "2024-09-12T10:21:37.489Z"
   },
   {
    "duration": 239,
    "start_time": "2024-09-12T10:21:38.090Z"
   },
   {
    "duration": 10,
    "start_time": "2024-09-12T10:21:38.331Z"
   },
   {
    "duration": 10,
    "start_time": "2024-09-12T10:21:38.345Z"
   },
   {
    "duration": 8,
    "start_time": "2024-09-12T10:21:38.356Z"
   },
   {
    "duration": 9,
    "start_time": "2024-09-12T10:21:38.366Z"
   },
   {
    "duration": 33,
    "start_time": "2024-09-12T10:21:38.377Z"
   },
   {
    "duration": 11,
    "start_time": "2024-09-12T10:21:38.412Z"
   },
   {
    "duration": 17,
    "start_time": "2024-09-12T10:21:38.425Z"
   },
   {
    "duration": 13,
    "start_time": "2024-09-12T10:21:38.446Z"
   },
   {
    "duration": 12,
    "start_time": "2024-09-12T10:21:38.461Z"
   },
   {
    "duration": 8,
    "start_time": "2024-09-12T10:21:38.506Z"
   },
   {
    "duration": 14,
    "start_time": "2024-09-12T10:21:38.516Z"
   },
   {
    "duration": 9,
    "start_time": "2024-09-12T10:21:38.532Z"
   },
   {
    "duration": 2,
    "start_time": "2024-09-12T10:21:38.543Z"
   },
   {
    "duration": 2,
    "start_time": "2024-09-12T10:21:38.546Z"
   },
   {
    "duration": 2,
    "start_time": "2024-09-12T10:21:38.550Z"
   },
   {
    "duration": 2,
    "start_time": "2024-09-12T10:21:38.554Z"
   },
   {
    "duration": 2,
    "start_time": "2024-09-12T10:21:38.558Z"
   },
   {
    "duration": 3,
    "start_time": "2024-09-12T10:21:38.604Z"
   },
   {
    "duration": 4,
    "start_time": "2024-09-12T10:21:38.608Z"
   },
   {
    "duration": 2,
    "start_time": "2024-09-12T10:21:38.613Z"
   },
   {
    "duration": 4,
    "start_time": "2024-09-12T10:21:38.616Z"
   },
   {
    "duration": 2,
    "start_time": "2024-09-12T10:21:38.622Z"
   },
   {
    "duration": 3,
    "start_time": "2024-09-12T10:21:38.625Z"
   },
   {
    "duration": 3,
    "start_time": "2024-09-12T10:21:38.629Z"
   },
   {
    "duration": 3,
    "start_time": "2024-09-12T10:21:38.633Z"
   },
   {
    "duration": 2,
    "start_time": "2024-09-12T10:21:38.640Z"
   },
   {
    "duration": 2,
    "start_time": "2024-09-12T10:21:38.644Z"
   },
   {
    "duration": 2,
    "start_time": "2024-09-12T10:21:38.648Z"
   },
   {
    "duration": 620,
    "start_time": "2024-09-13T08:45:58.103Z"
   },
   {
    "duration": 247,
    "start_time": "2024-09-13T08:45:58.725Z"
   },
   {
    "duration": 11,
    "start_time": "2024-09-13T08:45:58.974Z"
   },
   {
    "duration": 10,
    "start_time": "2024-09-13T08:45:58.989Z"
   },
   {
    "duration": 8,
    "start_time": "2024-09-13T08:45:59.000Z"
   },
   {
    "duration": 9,
    "start_time": "2024-09-13T08:45:59.010Z"
   },
   {
    "duration": 12,
    "start_time": "2024-09-13T08:45:59.042Z"
   },
   {
    "duration": 16,
    "start_time": "2024-09-13T08:45:59.056Z"
   },
   {
    "duration": 15,
    "start_time": "2024-09-13T08:45:59.074Z"
   },
   {
    "duration": 8,
    "start_time": "2024-09-13T08:45:59.093Z"
   },
   {
    "duration": 39,
    "start_time": "2024-09-13T08:45:59.103Z"
   },
   {
    "duration": 9,
    "start_time": "2024-09-13T08:45:59.144Z"
   },
   {
    "duration": 14,
    "start_time": "2024-09-13T08:45:59.155Z"
   },
   {
    "duration": 9,
    "start_time": "2024-09-13T08:45:59.171Z"
   },
   {
    "duration": 3,
    "start_time": "2024-09-13T08:45:59.181Z"
   },
   {
    "duration": 3,
    "start_time": "2024-09-13T08:45:59.185Z"
   },
   {
    "duration": 2,
    "start_time": "2024-09-13T08:45:59.189Z"
   },
   {
    "duration": 3,
    "start_time": "2024-09-13T08:45:59.193Z"
   },
   {
    "duration": 2,
    "start_time": "2024-09-13T08:45:59.197Z"
   },
   {
    "duration": 2,
    "start_time": "2024-09-13T08:45:59.243Z"
   },
   {
    "duration": 3,
    "start_time": "2024-09-13T08:45:59.247Z"
   },
   {
    "duration": 3,
    "start_time": "2024-09-13T08:45:59.251Z"
   },
   {
    "duration": 2,
    "start_time": "2024-09-13T08:45:59.257Z"
   },
   {
    "duration": 3,
    "start_time": "2024-09-13T08:45:59.263Z"
   },
   {
    "duration": 2,
    "start_time": "2024-09-13T08:45:59.268Z"
   },
   {
    "duration": 2,
    "start_time": "2024-09-13T08:45:59.272Z"
   },
   {
    "duration": 3,
    "start_time": "2024-09-13T08:45:59.276Z"
   },
   {
    "duration": 2,
    "start_time": "2024-09-13T08:45:59.282Z"
   },
   {
    "duration": 2,
    "start_time": "2024-09-13T08:45:59.286Z"
   },
   {
    "duration": 2,
    "start_time": "2024-09-13T08:45:59.290Z"
   },
   {
    "duration": 9,
    "start_time": "2024-09-13T14:27:46.767Z"
   },
   {
    "duration": 153,
    "start_time": "2024-09-14T03:53:07.339Z"
   },
   {
    "duration": 12,
    "start_time": "2024-09-14T03:53:16.816Z"
   },
   {
    "duration": 11,
    "start_time": "2024-09-14T03:53:49.384Z"
   },
   {
    "duration": 12,
    "start_time": "2024-09-14T03:53:55.360Z"
   },
   {
    "duration": 11,
    "start_time": "2024-09-14T03:54:13.002Z"
   },
   {
    "duration": 11,
    "start_time": "2024-09-14T03:54:17.565Z"
   },
   {
    "duration": 12,
    "start_time": "2024-09-14T03:54:40.022Z"
   },
   {
    "duration": 35,
    "start_time": "2024-09-14T03:54:44.884Z"
   },
   {
    "duration": 601,
    "start_time": "2024-09-14T03:54:48.419Z"
   },
   {
    "duration": 254,
    "start_time": "2024-09-14T03:54:50.502Z"
   },
   {
    "duration": 16,
    "start_time": "2024-09-14T03:54:51.847Z"
   },
   {
    "duration": 9,
    "start_time": "2024-09-14T03:54:55.195Z"
   },
   {
    "duration": 577,
    "start_time": "2024-09-14T03:55:03.219Z"
   },
   {
    "duration": 161,
    "start_time": "2024-09-14T03:55:03.799Z"
   },
   {
    "duration": 10,
    "start_time": "2024-09-14T03:55:03.961Z"
   },
   {
    "duration": 10,
    "start_time": "2024-09-14T03:55:03.974Z"
   },
   {
    "duration": 7,
    "start_time": "2024-09-14T03:55:03.986Z"
   },
   {
    "duration": 8,
    "start_time": "2024-09-14T03:55:03.995Z"
   },
   {
    "duration": 9,
    "start_time": "2024-09-14T03:55:04.005Z"
   },
   {
    "duration": 41,
    "start_time": "2024-09-14T03:55:04.015Z"
   },
   {
    "duration": 9,
    "start_time": "2024-09-14T03:55:04.058Z"
   },
   {
    "duration": 11,
    "start_time": "2024-09-14T03:55:04.069Z"
   },
   {
    "duration": 8,
    "start_time": "2024-09-14T03:55:04.082Z"
   },
   {
    "duration": 13,
    "start_time": "2024-09-14T03:55:04.091Z"
   },
   {
    "duration": 45,
    "start_time": "2024-09-14T03:55:04.105Z"
   },
   {
    "duration": 2,
    "start_time": "2024-09-14T03:55:04.152Z"
   },
   {
    "duration": 2,
    "start_time": "2024-09-14T03:55:04.156Z"
   },
   {
    "duration": 2,
    "start_time": "2024-09-14T03:55:04.159Z"
   },
   {
    "duration": 2,
    "start_time": "2024-09-14T03:55:04.163Z"
   },
   {
    "duration": 3,
    "start_time": "2024-09-14T03:55:04.167Z"
   },
   {
    "duration": 2,
    "start_time": "2024-09-14T03:55:04.172Z"
   },
   {
    "duration": 3,
    "start_time": "2024-09-14T03:55:04.175Z"
   },
   {
    "duration": 3,
    "start_time": "2024-09-14T03:55:04.179Z"
   },
   {
    "duration": 2,
    "start_time": "2024-09-14T03:55:04.184Z"
   },
   {
    "duration": 3,
    "start_time": "2024-09-14T03:55:04.188Z"
   },
   {
    "duration": 51,
    "start_time": "2024-09-14T03:55:04.193Z"
   },
   {
    "duration": 2,
    "start_time": "2024-09-14T03:55:04.246Z"
   },
   {
    "duration": 2,
    "start_time": "2024-09-14T03:55:04.250Z"
   },
   {
    "duration": 2,
    "start_time": "2024-09-14T03:55:04.254Z"
   },
   {
    "duration": 2,
    "start_time": "2024-09-14T03:55:04.260Z"
   },
   {
    "duration": 2,
    "start_time": "2024-09-14T03:55:04.263Z"
   },
   {
    "duration": 233,
    "start_time": "2024-09-14T03:58:36.255Z"
   },
   {
    "duration": 4,
    "start_time": "2024-09-14T03:58:44.257Z"
   },
   {
    "duration": 5,
    "start_time": "2024-09-14T04:03:29.469Z"
   },
   {
    "duration": 5,
    "start_time": "2024-09-14T04:03:46.077Z"
   },
   {
    "duration": 629,
    "start_time": "2024-09-14T04:03:59.364Z"
   },
   {
    "duration": 156,
    "start_time": "2024-09-14T04:03:59.995Z"
   },
   {
    "duration": 13,
    "start_time": "2024-09-14T04:04:00.152Z"
   },
   {
    "duration": 11,
    "start_time": "2024-09-14T04:04:00.167Z"
   },
   {
    "duration": 9,
    "start_time": "2024-09-14T04:04:00.181Z"
   },
   {
    "duration": 10,
    "start_time": "2024-09-14T04:04:00.192Z"
   },
   {
    "duration": 8,
    "start_time": "2024-09-14T04:04:00.203Z"
   },
   {
    "duration": 43,
    "start_time": "2024-09-14T04:04:00.213Z"
   },
   {
    "duration": 11,
    "start_time": "2024-09-14T04:04:00.257Z"
   },
   {
    "duration": 4,
    "start_time": "2024-09-14T04:04:00.271Z"
   },
   {
    "duration": 4,
    "start_time": "2024-09-14T04:04:00.277Z"
   },
   {
    "duration": 11,
    "start_time": "2024-09-14T04:04:00.283Z"
   },
   {
    "duration": 7,
    "start_time": "2024-09-14T04:04:00.296Z"
   },
   {
    "duration": 48,
    "start_time": "2024-09-14T04:04:00.305Z"
   },
   {
    "duration": 10,
    "start_time": "2024-09-14T04:04:00.354Z"
   },
   {
    "duration": 3,
    "start_time": "2024-09-14T04:04:00.365Z"
   },
   {
    "duration": 2,
    "start_time": "2024-09-14T04:04:00.369Z"
   },
   {
    "duration": 3,
    "start_time": "2024-09-14T04:04:00.372Z"
   },
   {
    "duration": 2,
    "start_time": "2024-09-14T04:04:00.377Z"
   },
   {
    "duration": 2,
    "start_time": "2024-09-14T04:04:00.381Z"
   },
   {
    "duration": 2,
    "start_time": "2024-09-14T04:04:00.385Z"
   },
   {
    "duration": 2,
    "start_time": "2024-09-14T04:04:00.388Z"
   },
   {
    "duration": 2,
    "start_time": "2024-09-14T04:04:00.392Z"
   },
   {
    "duration": 46,
    "start_time": "2024-09-14T04:04:00.396Z"
   },
   {
    "duration": 2,
    "start_time": "2024-09-14T04:04:00.444Z"
   },
   {
    "duration": 2,
    "start_time": "2024-09-14T04:04:00.448Z"
   },
   {
    "duration": 2,
    "start_time": "2024-09-14T04:04:00.452Z"
   },
   {
    "duration": 1,
    "start_time": "2024-09-14T04:04:00.459Z"
   },
   {
    "duration": 2,
    "start_time": "2024-09-14T04:04:00.462Z"
   },
   {
    "duration": 2,
    "start_time": "2024-09-14T04:04:00.466Z"
   },
   {
    "duration": 2,
    "start_time": "2024-09-14T04:04:00.469Z"
   },
   {
    "duration": 10,
    "start_time": "2024-09-14T04:04:16.028Z"
   },
   {
    "duration": 257,
    "start_time": "2024-09-14T04:09:20.443Z"
   },
   {
    "duration": 5,
    "start_time": "2024-09-14T04:09:24.331Z"
   },
   {
    "duration": 15,
    "start_time": "2024-09-14T04:09:49.061Z"
   },
   {
    "duration": 12,
    "start_time": "2024-09-14T04:09:51.730Z"
   },
   {
    "duration": 13,
    "start_time": "2024-09-14T04:10:22.583Z"
   },
   {
    "duration": 3,
    "start_time": "2024-09-14T04:10:41.746Z"
   },
   {
    "duration": 13,
    "start_time": "2024-09-14T04:15:57.080Z"
   },
   {
    "duration": 8,
    "start_time": "2024-09-14T04:16:08.919Z"
   },
   {
    "duration": 15,
    "start_time": "2024-09-14T04:17:38.568Z"
   },
   {
    "duration": 13,
    "start_time": "2024-09-14T04:18:22.425Z"
   },
   {
    "duration": 12,
    "start_time": "2024-09-14T04:18:39.606Z"
   },
   {
    "duration": 12,
    "start_time": "2024-09-14T04:18:48.405Z"
   },
   {
    "duration": 18,
    "start_time": "2024-09-14T04:19:03.222Z"
   },
   {
    "duration": 3,
    "start_time": "2024-09-14T04:19:34.889Z"
   },
   {
    "duration": 8,
    "start_time": "2024-09-14T04:47:28.078Z"
   },
   {
    "duration": 9,
    "start_time": "2024-09-14T04:50:38.153Z"
   },
   {
    "duration": 9,
    "start_time": "2024-09-14T05:13:41.496Z"
   },
   {
    "duration": 6,
    "start_time": "2024-09-14T05:13:47.294Z"
   },
   {
    "duration": 13,
    "start_time": "2024-09-14T05:15:07.159Z"
   },
   {
    "duration": 7,
    "start_time": "2024-09-14T05:17:47.734Z"
   },
   {
    "duration": 7,
    "start_time": "2024-09-14T05:18:58.773Z"
   },
   {
    "duration": 10,
    "start_time": "2024-09-14T05:46:42.174Z"
   },
   {
    "duration": 10,
    "start_time": "2024-09-14T05:50:56.065Z"
   },
   {
    "duration": 8,
    "start_time": "2024-09-14T05:51:05.312Z"
   },
   {
    "duration": 10,
    "start_time": "2024-09-14T05:52:58.839Z"
   },
   {
    "duration": 10,
    "start_time": "2024-09-14T05:53:56.533Z"
   },
   {
    "duration": 10,
    "start_time": "2024-09-14T05:54:08.091Z"
   },
   {
    "duration": 10,
    "start_time": "2024-09-14T05:54:16.614Z"
   },
   {
    "duration": 10,
    "start_time": "2024-09-14T05:57:40.024Z"
   },
   {
    "duration": 10,
    "start_time": "2024-09-14T05:57:46.690Z"
   },
   {
    "duration": 10,
    "start_time": "2024-09-14T05:57:58.042Z"
   },
   {
    "duration": 13,
    "start_time": "2024-09-14T05:58:16.918Z"
   },
   {
    "duration": 15,
    "start_time": "2024-09-14T05:58:25.450Z"
   },
   {
    "duration": 10,
    "start_time": "2024-09-14T06:02:11.178Z"
   },
   {
    "duration": 10,
    "start_time": "2024-09-14T06:02:24.617Z"
   },
   {
    "duration": 11,
    "start_time": "2024-09-14T06:02:38.028Z"
   },
   {
    "duration": 265,
    "start_time": "2024-09-14T06:03:36.783Z"
   },
   {
    "duration": 10,
    "start_time": "2024-09-14T06:03:52.434Z"
   },
   {
    "duration": 5,
    "start_time": "2024-09-14T06:04:17.621Z"
   },
   {
    "duration": 8,
    "start_time": "2024-09-14T06:08:42.530Z"
   },
   {
    "duration": 15,
    "start_time": "2024-09-14T06:18:36.465Z"
   },
   {
    "duration": 13,
    "start_time": "2024-09-14T06:18:45.688Z"
   },
   {
    "duration": 13,
    "start_time": "2024-09-14T06:18:48.963Z"
   },
   {
    "duration": 13,
    "start_time": "2024-09-14T06:18:53.635Z"
   },
   {
    "duration": 204,
    "start_time": "2024-09-14T06:19:02.966Z"
   },
   {
    "duration": 11,
    "start_time": "2024-09-14T06:19:15.390Z"
   },
   {
    "duration": 11,
    "start_time": "2024-09-14T06:23:19.991Z"
   },
   {
    "duration": 11,
    "start_time": "2024-09-14T06:24:08.846Z"
   },
   {
    "duration": 10,
    "start_time": "2024-09-14T06:24:40.767Z"
   },
   {
    "duration": 14,
    "start_time": "2024-09-14T06:25:18.535Z"
   },
   {
    "duration": 11,
    "start_time": "2024-09-14T06:25:25.805Z"
   },
   {
    "duration": 23,
    "start_time": "2024-09-14T06:48:01.856Z"
   },
   {
    "duration": 17,
    "start_time": "2024-09-14T06:48:17.533Z"
   },
   {
    "duration": 23,
    "start_time": "2024-09-14T06:48:24.115Z"
   },
   {
    "duration": 28,
    "start_time": "2024-09-14T06:48:58.084Z"
   },
   {
    "duration": 38,
    "start_time": "2024-09-14T06:53:45.664Z"
   },
   {
    "duration": 48,
    "start_time": "2024-09-14T06:53:49.003Z"
   },
   {
    "duration": 573,
    "start_time": "2024-09-14T06:53:59.540Z"
   },
   {
    "duration": 163,
    "start_time": "2024-09-14T06:54:00.116Z"
   },
   {
    "duration": 10,
    "start_time": "2024-09-14T06:54:00.281Z"
   },
   {
    "duration": 10,
    "start_time": "2024-09-14T06:54:00.294Z"
   },
   {
    "duration": 9,
    "start_time": "2024-09-14T06:54:00.305Z"
   },
   {
    "duration": 29,
    "start_time": "2024-09-14T06:54:00.315Z"
   },
   {
    "duration": 9,
    "start_time": "2024-09-14T06:54:00.346Z"
   },
   {
    "duration": 14,
    "start_time": "2024-09-14T06:54:00.356Z"
   },
   {
    "duration": 10,
    "start_time": "2024-09-14T06:54:00.372Z"
   },
   {
    "duration": 14,
    "start_time": "2024-09-14T06:54:00.385Z"
   },
   {
    "duration": 3,
    "start_time": "2024-09-14T06:54:00.400Z"
   },
   {
    "duration": 80,
    "start_time": "2024-09-14T06:54:00.406Z"
   },
   {
    "duration": 15,
    "start_time": "2024-09-14T06:54:00.489Z"
   },
   {
    "duration": 12,
    "start_time": "2024-09-14T06:54:00.506Z"
   },
   {
    "duration": 39,
    "start_time": "2024-09-14T06:54:00.519Z"
   },
   {
    "duration": 9,
    "start_time": "2024-09-14T06:54:00.560Z"
   },
   {
    "duration": 14,
    "start_time": "2024-09-14T06:54:00.570Z"
   },
   {
    "duration": 6,
    "start_time": "2024-09-14T06:54:00.585Z"
   },
   {
    "duration": 14,
    "start_time": "2024-09-14T06:54:00.593Z"
   },
   {
    "duration": 39,
    "start_time": "2024-09-14T06:54:00.608Z"
   },
   {
    "duration": 12,
    "start_time": "2024-09-14T06:54:00.648Z"
   },
   {
    "duration": 8,
    "start_time": "2024-09-14T06:54:00.662Z"
   },
   {
    "duration": 8,
    "start_time": "2024-09-14T06:54:00.672Z"
   },
   {
    "duration": 2,
    "start_time": "2024-09-14T06:54:00.682Z"
   },
   {
    "duration": 3,
    "start_time": "2024-09-14T06:54:00.685Z"
   },
   {
    "duration": 3,
    "start_time": "2024-09-14T06:54:00.689Z"
   },
   {
    "duration": 2,
    "start_time": "2024-09-14T06:54:00.694Z"
   },
   {
    "duration": 2,
    "start_time": "2024-09-14T06:54:00.743Z"
   },
   {
    "duration": 2,
    "start_time": "2024-09-14T06:54:00.747Z"
   },
   {
    "duration": 2,
    "start_time": "2024-09-14T06:54:00.753Z"
   },
   {
    "duration": 3,
    "start_time": "2024-09-14T06:54:00.756Z"
   },
   {
    "duration": 2,
    "start_time": "2024-09-14T06:54:00.761Z"
   },
   {
    "duration": 3,
    "start_time": "2024-09-14T06:54:00.764Z"
   },
   {
    "duration": 38,
    "start_time": "2024-09-14T06:54:44.757Z"
   },
   {
    "duration": 28,
    "start_time": "2024-09-14T07:05:32.825Z"
   },
   {
    "duration": 628,
    "start_time": "2024-09-14T07:05:49.471Z"
   },
   {
    "duration": 163,
    "start_time": "2024-09-14T07:05:50.101Z"
   },
   {
    "duration": 10,
    "start_time": "2024-09-14T07:05:50.265Z"
   },
   {
    "duration": 10,
    "start_time": "2024-09-14T07:05:50.276Z"
   },
   {
    "duration": 7,
    "start_time": "2024-09-14T07:05:50.288Z"
   },
   {
    "duration": 9,
    "start_time": "2024-09-14T07:05:50.297Z"
   },
   {
    "duration": 36,
    "start_time": "2024-09-14T07:05:50.307Z"
   },
   {
    "duration": 15,
    "start_time": "2024-09-14T07:05:50.344Z"
   },
   {
    "duration": 9,
    "start_time": "2024-09-14T07:05:50.360Z"
   },
   {
    "duration": 13,
    "start_time": "2024-09-14T07:05:50.370Z"
   },
   {
    "duration": 3,
    "start_time": "2024-09-14T07:05:50.385Z"
   },
   {
    "duration": 54,
    "start_time": "2024-09-14T07:05:50.390Z"
   },
   {
    "duration": 11,
    "start_time": "2024-09-14T07:05:50.446Z"
   },
   {
    "duration": 7,
    "start_time": "2024-09-14T07:05:50.462Z"
   },
   {
    "duration": 16,
    "start_time": "2024-09-14T07:05:50.470Z"
   },
   {
    "duration": 17,
    "start_time": "2024-09-14T07:05:50.488Z"
   },
   {
    "duration": 38,
    "start_time": "2024-09-14T07:05:50.508Z"
   },
   {
    "duration": 9,
    "start_time": "2024-09-14T07:05:50.551Z"
   },
   {
    "duration": 14,
    "start_time": "2024-09-14T07:05:50.562Z"
   },
   {
    "duration": 10,
    "start_time": "2024-09-14T07:05:50.577Z"
   },
   {
    "duration": 10,
    "start_time": "2024-09-14T07:05:50.588Z"
   },
   {
    "duration": 10,
    "start_time": "2024-09-14T07:05:50.599Z"
   },
   {
    "duration": 37,
    "start_time": "2024-09-14T07:05:50.610Z"
   },
   {
    "duration": 3,
    "start_time": "2024-09-14T07:05:50.649Z"
   },
   {
    "duration": 3,
    "start_time": "2024-09-14T07:05:50.653Z"
   },
   {
    "duration": 3,
    "start_time": "2024-09-14T07:05:50.657Z"
   },
   {
    "duration": 2,
    "start_time": "2024-09-14T07:05:50.662Z"
   },
   {
    "duration": 2,
    "start_time": "2024-09-14T07:05:50.667Z"
   },
   {
    "duration": 3,
    "start_time": "2024-09-14T07:05:50.670Z"
   },
   {
    "duration": 2,
    "start_time": "2024-09-14T07:05:50.674Z"
   },
   {
    "duration": 2,
    "start_time": "2024-09-14T07:05:50.678Z"
   },
   {
    "duration": 2,
    "start_time": "2024-09-14T07:05:50.682Z"
   },
   {
    "duration": 2,
    "start_time": "2024-09-14T07:05:50.686Z"
   },
   {
    "duration": 4,
    "start_time": "2024-09-14T07:16:39.477Z"
   },
   {
    "duration": 19,
    "start_time": "2024-09-14T07:36:32.870Z"
   },
   {
    "duration": 29,
    "start_time": "2024-09-14T07:46:15.799Z"
   },
   {
    "duration": 120,
    "start_time": "2024-09-14T07:52:05.751Z"
   },
   {
    "duration": 16,
    "start_time": "2024-09-14T07:52:18.383Z"
   },
   {
    "duration": 11,
    "start_time": "2024-09-14T07:52:39.127Z"
   },
   {
    "duration": 22,
    "start_time": "2024-09-14T07:52:55.169Z"
   },
   {
    "duration": 19,
    "start_time": "2024-09-14T07:53:55.940Z"
   },
   {
    "duration": 19,
    "start_time": "2024-09-14T07:54:30.937Z"
   },
   {
    "duration": 15,
    "start_time": "2024-09-14T07:55:24.933Z"
   },
   {
    "duration": 11,
    "start_time": "2024-09-14T07:55:58.390Z"
   },
   {
    "duration": 14,
    "start_time": "2024-09-14T07:56:29.210Z"
   },
   {
    "duration": 14,
    "start_time": "2024-09-14T07:56:55.950Z"
   },
   {
    "duration": 13,
    "start_time": "2024-09-14T07:57:14.274Z"
   },
   {
    "duration": 16,
    "start_time": "2024-09-14T08:17:24.804Z"
   },
   {
    "duration": 16,
    "start_time": "2024-09-14T08:19:06.462Z"
   },
   {
    "duration": 12,
    "start_time": "2024-09-14T08:20:40.902Z"
   },
   {
    "duration": 17,
    "start_time": "2024-09-14T08:20:56.119Z"
   },
   {
    "duration": 19,
    "start_time": "2024-09-14T08:26:13.677Z"
   },
   {
    "duration": 20,
    "start_time": "2024-09-14T08:29:26.273Z"
   },
   {
    "duration": 18,
    "start_time": "2024-09-14T08:29:42.072Z"
   },
   {
    "duration": 19,
    "start_time": "2024-09-14T08:30:18.646Z"
   },
   {
    "duration": 13,
    "start_time": "2024-09-14T08:32:30.602Z"
   },
   {
    "duration": 13,
    "start_time": "2024-09-14T08:32:36.676Z"
   },
   {
    "duration": 20,
    "start_time": "2024-09-14T08:32:47.003Z"
   },
   {
    "duration": 10,
    "start_time": "2024-09-14T08:33:12.776Z"
   },
   {
    "duration": 7,
    "start_time": "2024-09-14T08:33:36.504Z"
   },
   {
    "duration": 9,
    "start_time": "2024-09-14T08:33:52.783Z"
   },
   {
    "duration": 527,
    "start_time": "2024-09-14T08:34:00.809Z"
   },
   {
    "duration": 11,
    "start_time": "2024-09-14T08:34:07.750Z"
   },
   {
    "duration": 41,
    "start_time": "2024-09-14T08:58:44.100Z"
   },
   {
    "duration": 8,
    "start_time": "2024-09-14T09:02:30.334Z"
   },
   {
    "duration": 23,
    "start_time": "2024-09-14T09:08:28.356Z"
   },
   {
    "duration": 7,
    "start_time": "2024-09-14T09:09:57.875Z"
   },
   {
    "duration": 8,
    "start_time": "2024-09-14T09:10:07.157Z"
   },
   {
    "duration": 8,
    "start_time": "2024-09-14T09:12:48.995Z"
   },
   {
    "duration": 8,
    "start_time": "2024-09-14T09:13:08.019Z"
   },
   {
    "duration": 9,
    "start_time": "2024-09-14T09:13:36.900Z"
   },
   {
    "duration": 7,
    "start_time": "2024-09-14T09:14:23.891Z"
   },
   {
    "duration": 11,
    "start_time": "2024-09-14T09:14:57.080Z"
   },
   {
    "duration": 9,
    "start_time": "2024-09-14T09:39:23.305Z"
   },
   {
    "duration": 13,
    "start_time": "2024-09-14T09:39:39.217Z"
   },
   {
    "duration": 10,
    "start_time": "2024-09-14T09:39:59.046Z"
   },
   {
    "duration": 8,
    "start_time": "2024-09-14T09:40:25.541Z"
   },
   {
    "duration": 11,
    "start_time": "2024-09-14T09:48:29.061Z"
   },
   {
    "duration": 9,
    "start_time": "2024-09-14T09:48:33.514Z"
   },
   {
    "duration": 24,
    "start_time": "2024-09-14T09:50:19.448Z"
   },
   {
    "duration": 32,
    "start_time": "2024-09-14T10:11:06.984Z"
   },
   {
    "duration": 26,
    "start_time": "2024-09-14T10:11:29.083Z"
   },
   {
    "duration": 617,
    "start_time": "2024-09-14T10:12:03.378Z"
   },
   {
    "duration": 162,
    "start_time": "2024-09-14T10:12:03.997Z"
   },
   {
    "duration": 11,
    "start_time": "2024-09-14T10:12:04.161Z"
   },
   {
    "duration": 11,
    "start_time": "2024-09-14T10:12:04.174Z"
   },
   {
    "duration": 8,
    "start_time": "2024-09-14T10:12:04.187Z"
   },
   {
    "duration": 9,
    "start_time": "2024-09-14T10:12:04.197Z"
   },
   {
    "duration": 36,
    "start_time": "2024-09-14T10:12:04.208Z"
   },
   {
    "duration": 11,
    "start_time": "2024-09-14T10:12:04.246Z"
   },
   {
    "duration": 16,
    "start_time": "2024-09-14T10:12:04.258Z"
   },
   {
    "duration": 10,
    "start_time": "2024-09-14T10:12:04.276Z"
   },
   {
    "duration": 13,
    "start_time": "2024-09-14T10:12:04.287Z"
   },
   {
    "duration": 3,
    "start_time": "2024-09-14T10:12:04.301Z"
   },
   {
    "duration": 26,
    "start_time": "2024-09-14T10:12:04.342Z"
   },
   {
    "duration": 11,
    "start_time": "2024-09-14T10:12:04.370Z"
   },
   {
    "duration": 7,
    "start_time": "2024-09-14T10:12:04.383Z"
   },
   {
    "duration": 18,
    "start_time": "2024-09-14T10:12:04.391Z"
   },
   {
    "duration": 33,
    "start_time": "2024-09-14T10:12:04.411Z"
   },
   {
    "duration": 9,
    "start_time": "2024-09-14T10:12:04.445Z"
   },
   {
    "duration": 13,
    "start_time": "2024-09-14T10:12:04.455Z"
   },
   {
    "duration": 22,
    "start_time": "2024-09-14T10:12:04.469Z"
   },
   {
    "duration": 7,
    "start_time": "2024-09-14T10:12:04.493Z"
   },
   {
    "duration": 57,
    "start_time": "2024-09-14T10:12:04.501Z"
   },
   {
    "duration": 16,
    "start_time": "2024-09-14T10:12:04.559Z"
   },
   {
    "duration": 12,
    "start_time": "2024-09-14T10:12:04.576Z"
   },
   {
    "duration": 11,
    "start_time": "2024-09-14T10:12:04.590Z"
   },
   {
    "duration": 51,
    "start_time": "2024-09-14T10:12:04.603Z"
   },
   {
    "duration": 8,
    "start_time": "2024-09-14T10:12:04.655Z"
   },
   {
    "duration": 10,
    "start_time": "2024-09-14T10:12:04.667Z"
   },
   {
    "duration": 1,
    "start_time": "2024-09-14T10:12:04.679Z"
   },
   {
    "duration": 2,
    "start_time": "2024-09-14T10:12:04.682Z"
   },
   {
    "duration": 2,
    "start_time": "2024-09-14T10:12:04.686Z"
   },
   {
    "duration": 2,
    "start_time": "2024-09-14T10:12:04.690Z"
   },
   {
    "duration": 2,
    "start_time": "2024-09-14T10:12:04.694Z"
   },
   {
    "duration": 2,
    "start_time": "2024-09-14T10:12:04.698Z"
   },
   {
    "duration": 3,
    "start_time": "2024-09-14T10:12:04.742Z"
   },
   {
    "duration": 3,
    "start_time": "2024-09-14T10:12:04.746Z"
   },
   {
    "duration": 2,
    "start_time": "2024-09-14T10:12:04.751Z"
   },
   {
    "duration": 3,
    "start_time": "2024-09-14T10:12:04.754Z"
   },
   {
    "duration": 24,
    "start_time": "2024-09-14T10:12:29.729Z"
   },
   {
    "duration": 32,
    "start_time": "2024-09-14T10:12:33.341Z"
   },
   {
    "duration": 25,
    "start_time": "2024-09-14T10:18:12.303Z"
   },
   {
    "duration": 8,
    "start_time": "2024-09-14T10:26:21.280Z"
   },
   {
    "duration": 24,
    "start_time": "2024-09-14T10:28:45.168Z"
   },
   {
    "duration": 7,
    "start_time": "2024-09-14T10:28:58.527Z"
   },
   {
    "duration": 240,
    "start_time": "2024-09-14T10:36:10.692Z"
   },
   {
    "duration": 4,
    "start_time": "2024-09-14T10:36:36.691Z"
   },
   {
    "duration": 10,
    "start_time": "2024-09-14T10:36:50.375Z"
   },
   {
    "duration": 3,
    "start_time": "2024-09-14T10:42:45.728Z"
   },
   {
    "duration": 387,
    "start_time": "2024-09-14T10:42:55.599Z"
   },
   {
    "duration": 44,
    "start_time": "2024-09-14T10:43:40.230Z"
   },
   {
    "duration": 8,
    "start_time": "2024-09-14T10:44:07.853Z"
   },
   {
    "duration": 602,
    "start_time": "2024-09-14T10:44:25.988Z"
   },
   {
    "duration": 159,
    "start_time": "2024-09-14T10:44:26.593Z"
   },
   {
    "duration": 10,
    "start_time": "2024-09-14T10:44:26.753Z"
   },
   {
    "duration": 11,
    "start_time": "2024-09-14T10:44:26.765Z"
   },
   {
    "duration": 8,
    "start_time": "2024-09-14T10:44:26.779Z"
   },
   {
    "duration": 9,
    "start_time": "2024-09-14T10:44:26.789Z"
   },
   {
    "duration": 8,
    "start_time": "2024-09-14T10:44:26.799Z"
   },
   {
    "duration": 40,
    "start_time": "2024-09-14T10:44:26.809Z"
   },
   {
    "duration": 15,
    "start_time": "2024-09-14T10:44:26.851Z"
   },
   {
    "duration": 8,
    "start_time": "2024-09-14T10:44:26.868Z"
   },
   {
    "duration": 13,
    "start_time": "2024-09-14T10:44:26.878Z"
   },
   {
    "duration": 3,
    "start_time": "2024-09-14T10:44:26.893Z"
   },
   {
    "duration": 59,
    "start_time": "2024-09-14T10:44:26.898Z"
   },
   {
    "duration": 10,
    "start_time": "2024-09-14T10:44:26.961Z"
   },
   {
    "duration": 7,
    "start_time": "2024-09-14T10:44:26.973Z"
   },
   {
    "duration": 19,
    "start_time": "2024-09-14T10:44:26.982Z"
   },
   {
    "duration": 41,
    "start_time": "2024-09-14T10:44:27.002Z"
   },
   {
    "duration": 9,
    "start_time": "2024-09-14T10:44:27.044Z"
   },
   {
    "duration": 13,
    "start_time": "2024-09-14T10:44:27.054Z"
   },
   {
    "duration": 21,
    "start_time": "2024-09-14T10:44:27.069Z"
   },
   {
    "duration": 6,
    "start_time": "2024-09-14T10:44:27.092Z"
   },
   {
    "duration": 47,
    "start_time": "2024-09-14T10:44:27.100Z"
   },
   {
    "duration": 14,
    "start_time": "2024-09-14T10:44:27.148Z"
   },
   {
    "duration": 12,
    "start_time": "2024-09-14T10:44:27.164Z"
   },
   {
    "duration": 12,
    "start_time": "2024-09-14T10:44:27.178Z"
   },
   {
    "duration": 24,
    "start_time": "2024-09-14T10:44:27.191Z"
   },
   {
    "duration": 8,
    "start_time": "2024-09-14T10:44:27.242Z"
   },
   {
    "duration": 21,
    "start_time": "2024-09-14T10:44:27.251Z"
   },
   {
    "duration": 4,
    "start_time": "2024-09-14T10:44:27.274Z"
   },
   {
    "duration": 0,
    "start_time": "2024-09-14T10:44:27.279Z"
   },
   {
    "duration": 0,
    "start_time": "2024-09-14T10:44:27.280Z"
   },
   {
    "duration": 0,
    "start_time": "2024-09-14T10:44:27.282Z"
   },
   {
    "duration": 0,
    "start_time": "2024-09-14T10:44:27.283Z"
   },
   {
    "duration": 0,
    "start_time": "2024-09-14T10:44:27.285Z"
   },
   {
    "duration": 0,
    "start_time": "2024-09-14T10:44:27.286Z"
   },
   {
    "duration": 0,
    "start_time": "2024-09-14T10:44:27.287Z"
   },
   {
    "duration": 1,
    "start_time": "2024-09-14T10:44:27.288Z"
   },
   {
    "duration": 5,
    "start_time": "2024-09-14T10:45:38.092Z"
   },
   {
    "duration": 18,
    "start_time": "2024-09-14T10:45:44.356Z"
   },
   {
    "duration": 4,
    "start_time": "2024-09-14T11:11:34.903Z"
   },
   {
    "duration": 20,
    "start_time": "2024-09-14T11:11:44.530Z"
   },
   {
    "duration": 4,
    "start_time": "2024-09-14T11:12:47.020Z"
   },
   {
    "duration": 21,
    "start_time": "2024-09-14T11:13:20.228Z"
   },
   {
    "duration": 611,
    "start_time": "2024-09-14T11:14:51.092Z"
   },
   {
    "duration": 22,
    "start_time": "2024-09-14T11:15:12.633Z"
   },
   {
    "duration": 23,
    "start_time": "2024-09-14T11:18:14.632Z"
   },
   {
    "duration": 24,
    "start_time": "2024-09-14T11:24:53.512Z"
   },
   {
    "duration": 43,
    "start_time": "2024-09-14T11:30:06.842Z"
   },
   {
    "duration": 613,
    "start_time": "2024-09-14T11:30:14.794Z"
   },
   {
    "duration": 160,
    "start_time": "2024-09-14T11:30:15.409Z"
   },
   {
    "duration": 11,
    "start_time": "2024-09-14T11:30:15.571Z"
   },
   {
    "duration": 10,
    "start_time": "2024-09-14T11:30:15.584Z"
   },
   {
    "duration": 7,
    "start_time": "2024-09-14T11:30:15.596Z"
   },
   {
    "duration": 8,
    "start_time": "2024-09-14T11:30:15.605Z"
   },
   {
    "duration": 30,
    "start_time": "2024-09-14T11:30:15.615Z"
   },
   {
    "duration": 11,
    "start_time": "2024-09-14T11:30:15.648Z"
   },
   {
    "duration": 14,
    "start_time": "2024-09-14T11:30:15.660Z"
   },
   {
    "duration": 9,
    "start_time": "2024-09-14T11:30:15.677Z"
   },
   {
    "duration": 13,
    "start_time": "2024-09-14T11:30:15.687Z"
   },
   {
    "duration": 3,
    "start_time": "2024-09-14T11:30:15.702Z"
   },
   {
    "duration": 27,
    "start_time": "2024-09-14T11:30:15.743Z"
   },
   {
    "duration": 12,
    "start_time": "2024-09-14T11:30:15.771Z"
   },
   {
    "duration": 7,
    "start_time": "2024-09-14T11:30:15.785Z"
   },
   {
    "duration": 19,
    "start_time": "2024-09-14T11:30:15.793Z"
   },
   {
    "duration": 38,
    "start_time": "2024-09-14T11:30:15.813Z"
   },
   {
    "duration": 9,
    "start_time": "2024-09-14T11:30:15.852Z"
   },
   {
    "duration": 13,
    "start_time": "2024-09-14T11:30:15.862Z"
   },
   {
    "duration": 22,
    "start_time": "2024-09-14T11:30:15.876Z"
   },
   {
    "duration": 7,
    "start_time": "2024-09-14T11:30:15.899Z"
   },
   {
    "duration": 51,
    "start_time": "2024-09-14T11:30:15.908Z"
   },
   {
    "duration": 16,
    "start_time": "2024-09-14T11:30:15.961Z"
   },
   {
    "duration": 13,
    "start_time": "2024-09-14T11:30:15.979Z"
   },
   {
    "duration": 13,
    "start_time": "2024-09-14T11:30:15.993Z"
   },
   {
    "duration": 49,
    "start_time": "2024-09-14T11:30:16.007Z"
   },
   {
    "duration": 8,
    "start_time": "2024-09-14T11:30:16.058Z"
   },
   {
    "duration": 19,
    "start_time": "2024-09-14T11:30:16.069Z"
   },
   {
    "duration": 25,
    "start_time": "2024-09-14T11:30:16.090Z"
   },
   {
    "duration": 27,
    "start_time": "2024-09-14T11:30:16.116Z"
   },
   {
    "duration": 2,
    "start_time": "2024-09-14T11:30:16.145Z"
   },
   {
    "duration": 2,
    "start_time": "2024-09-14T11:30:16.149Z"
   },
   {
    "duration": 2,
    "start_time": "2024-09-14T11:30:16.153Z"
   },
   {
    "duration": 2,
    "start_time": "2024-09-14T11:30:16.157Z"
   },
   {
    "duration": 2,
    "start_time": "2024-09-14T11:30:16.161Z"
   },
   {
    "duration": 3,
    "start_time": "2024-09-14T11:30:16.165Z"
   },
   {
    "duration": 2,
    "start_time": "2024-09-14T11:30:16.169Z"
   },
   {
    "duration": 5,
    "start_time": "2024-09-14T11:45:49.216Z"
   },
   {
    "duration": 4,
    "start_time": "2024-09-14T11:46:45.185Z"
   },
   {
    "duration": 9,
    "start_time": "2024-09-14T11:46:59.786Z"
   },
   {
    "duration": 4,
    "start_time": "2024-09-14T12:00:46.280Z"
   },
   {
    "duration": 6,
    "start_time": "2024-09-14T12:00:51.388Z"
   },
   {
    "duration": 303,
    "start_time": "2024-09-14T12:01:20.697Z"
   },
   {
    "duration": 5,
    "start_time": "2024-09-14T12:02:15.315Z"
   },
   {
    "duration": 8,
    "start_time": "2024-09-14T12:02:48.080Z"
   },
   {
    "duration": 2020,
    "start_time": "2024-09-14T12:05:28.024Z"
   },
   {
    "duration": 146,
    "start_time": "2024-09-14T12:05:50.655Z"
   },
   {
    "duration": 13,
    "start_time": "2024-09-14T12:06:11.079Z"
   },
   {
    "duration": 18,
    "start_time": "2024-09-14T12:06:47.559Z"
   },
   {
    "duration": 3,
    "start_time": "2024-09-14T12:07:12.586Z"
   },
   {
    "duration": 762,
    "start_time": "2024-09-14T12:07:17.783Z"
   },
   {
    "duration": 160,
    "start_time": "2024-09-14T12:07:18.546Z"
   },
   {
    "duration": 9,
    "start_time": "2024-09-14T12:07:18.708Z"
   },
   {
    "duration": 10,
    "start_time": "2024-09-14T12:07:18.720Z"
   },
   {
    "duration": 18,
    "start_time": "2024-09-14T12:07:18.731Z"
   },
   {
    "duration": 10,
    "start_time": "2024-09-14T12:07:18.751Z"
   },
   {
    "duration": 9,
    "start_time": "2024-09-14T12:07:18.762Z"
   },
   {
    "duration": 10,
    "start_time": "2024-09-14T12:07:18.772Z"
   },
   {
    "duration": 15,
    "start_time": "2024-09-14T12:07:18.784Z"
   },
   {
    "duration": 42,
    "start_time": "2024-09-14T12:07:18.802Z"
   },
   {
    "duration": 14,
    "start_time": "2024-09-14T12:07:18.845Z"
   },
   {
    "duration": 2,
    "start_time": "2024-09-14T12:07:18.861Z"
   },
   {
    "duration": 29,
    "start_time": "2024-09-14T12:07:18.865Z"
   },
   {
    "duration": 12,
    "start_time": "2024-09-14T12:07:18.895Z"
   },
   {
    "duration": 34,
    "start_time": "2024-09-14T12:07:18.909Z"
   },
   {
    "duration": 18,
    "start_time": "2024-09-14T12:07:18.945Z"
   },
   {
    "duration": 12,
    "start_time": "2024-09-14T12:07:18.965Z"
   },
   {
    "duration": 9,
    "start_time": "2024-09-14T12:07:18.979Z"
   },
   {
    "duration": 14,
    "start_time": "2024-09-14T12:07:18.989Z"
   },
   {
    "duration": 51,
    "start_time": "2024-09-14T12:07:19.005Z"
   },
   {
    "duration": 7,
    "start_time": "2024-09-14T12:07:19.057Z"
   },
   {
    "duration": 18,
    "start_time": "2024-09-14T12:07:19.066Z"
   },
   {
    "duration": 16,
    "start_time": "2024-09-14T12:07:19.086Z"
   },
   {
    "duration": 40,
    "start_time": "2024-09-14T12:07:19.104Z"
   },
   {
    "duration": 12,
    "start_time": "2024-09-14T12:07:19.146Z"
   },
   {
    "duration": 23,
    "start_time": "2024-09-14T12:07:19.159Z"
   },
   {
    "duration": 8,
    "start_time": "2024-09-14T12:07:19.184Z"
   },
   {
    "duration": 19,
    "start_time": "2024-09-14T12:07:19.196Z"
   },
   {
    "duration": 25,
    "start_time": "2024-09-14T12:07:19.243Z"
   },
   {
    "duration": 9,
    "start_time": "2024-09-14T12:07:19.270Z"
   },
   {
    "duration": 157,
    "start_time": "2024-09-14T12:07:19.280Z"
   },
   {
    "duration": 2,
    "start_time": "2024-09-14T12:07:19.443Z"
   },
   {
    "duration": 2,
    "start_time": "2024-09-14T12:07:19.447Z"
   },
   {
    "duration": 2,
    "start_time": "2024-09-14T12:07:19.451Z"
   },
   {
    "duration": 2,
    "start_time": "2024-09-14T12:07:19.455Z"
   },
   {
    "duration": 2,
    "start_time": "2024-09-14T12:07:19.460Z"
   },
   {
    "duration": 2,
    "start_time": "2024-09-14T12:07:19.467Z"
   },
   {
    "duration": 3,
    "start_time": "2024-09-14T12:07:19.470Z"
   },
   {
    "duration": 129,
    "start_time": "2024-09-14T12:07:47.671Z"
   },
   {
    "duration": 111,
    "start_time": "2024-09-14T12:08:18.798Z"
   },
   {
    "duration": 194,
    "start_time": "2024-09-14T12:10:40.775Z"
   },
   {
    "duration": 237,
    "start_time": "2024-09-14T12:10:56.046Z"
   },
   {
    "duration": 190,
    "start_time": "2024-09-14T12:11:19.080Z"
   },
   {
    "duration": 199,
    "start_time": "2024-09-14T12:11:41.245Z"
   },
   {
    "duration": 296,
    "start_time": "2024-09-14T12:11:54.564Z"
   },
   {
    "duration": 289,
    "start_time": "2024-09-14T12:12:14.260Z"
   },
   {
    "duration": 289,
    "start_time": "2024-09-14T12:12:43.208Z"
   },
   {
    "duration": 189,
    "start_time": "2024-09-14T12:12:55.238Z"
   },
   {
    "duration": 354,
    "start_time": "2024-09-14T12:13:08.143Z"
   },
   {
    "duration": 705,
    "start_time": "2024-09-14T12:13:49.352Z"
   },
   {
    "duration": 298,
    "start_time": "2024-09-14T12:14:05.702Z"
   },
   {
    "duration": 188,
    "start_time": "2024-09-14T12:14:18.668Z"
   },
   {
    "duration": 8750,
    "start_time": "2024-09-14T12:23:56.719Z"
   },
   {
    "duration": 685,
    "start_time": "2024-09-14T12:24:19.253Z"
   },
   {
    "duration": 202,
    "start_time": "2024-09-14T12:24:36.102Z"
   },
   {
    "duration": 162,
    "start_time": "2024-09-14T12:24:44.286Z"
   },
   {
    "duration": 164,
    "start_time": "2024-09-14T12:25:15.326Z"
   },
   {
    "duration": 186,
    "start_time": "2024-09-14T12:26:02.711Z"
   },
   {
    "duration": 194,
    "start_time": "2024-09-14T12:26:53.430Z"
   },
   {
    "duration": 331,
    "start_time": "2024-09-14T12:27:45.500Z"
   },
   {
    "duration": 171,
    "start_time": "2024-09-14T12:31:14.597Z"
   },
   {
    "duration": 187,
    "start_time": "2024-09-14T12:31:29.537Z"
   },
   {
    "duration": 5,
    "start_time": "2024-09-14T12:32:25.410Z"
   },
   {
    "duration": 60,
    "start_time": "2024-09-14T12:32:29.892Z"
   },
   {
    "duration": 61,
    "start_time": "2024-09-14T12:32:41.657Z"
   },
   {
    "duration": 17,
    "start_time": "2024-09-14T12:33:27.919Z"
   },
   {
    "duration": 44,
    "start_time": "2024-09-14T12:33:33.949Z"
   },
   {
    "duration": 215,
    "start_time": "2024-09-14T12:34:09.630Z"
   },
   {
    "duration": 202,
    "start_time": "2024-09-14T12:34:24.551Z"
   },
   {
    "duration": 50,
    "start_time": "2024-09-14T12:34:46.956Z"
   },
   {
    "duration": 5,
    "start_time": "2024-09-14T12:36:36.843Z"
   },
   {
    "duration": 166,
    "start_time": "2024-09-14T12:36:42.285Z"
   },
   {
    "duration": 165,
    "start_time": "2024-09-14T12:37:38.604Z"
   },
   {
    "duration": 200,
    "start_time": "2024-09-14T12:38:02.701Z"
   },
   {
    "duration": 209,
    "start_time": "2024-09-14T12:38:26.843Z"
   },
   {
    "duration": 61,
    "start_time": "2024-09-14T12:38:46.189Z"
   },
   {
    "duration": 285,
    "start_time": "2024-09-14T12:41:02.929Z"
   },
   {
    "duration": 309,
    "start_time": "2024-09-14T12:41:16.237Z"
   },
   {
    "duration": 290,
    "start_time": "2024-09-14T12:41:39.587Z"
   },
   {
    "duration": 405,
    "start_time": "2024-09-14T12:45:12.957Z"
   },
   {
    "duration": 271,
    "start_time": "2024-09-14T12:45:31.464Z"
   },
   {
    "duration": 283,
    "start_time": "2024-09-14T12:46:00.145Z"
   },
   {
    "duration": 349,
    "start_time": "2024-09-14T12:46:23.759Z"
   },
   {
    "duration": 44,
    "start_time": "2024-09-14T12:46:58.627Z"
   },
   {
    "duration": 293,
    "start_time": "2024-09-14T12:51:41.974Z"
   },
   {
    "duration": 297,
    "start_time": "2024-09-14T12:51:53.188Z"
   },
   {
    "duration": 265,
    "start_time": "2024-09-14T12:54:36.697Z"
   },
   {
    "duration": 547,
    "start_time": "2024-09-14T12:58:22.758Z"
   },
   {
    "duration": 5,
    "start_time": "2024-09-14T12:58:52.246Z"
   },
   {
    "duration": 219,
    "start_time": "2024-09-14T13:00:41.821Z"
   },
   {
    "duration": 311,
    "start_time": "2024-09-14T13:00:58.151Z"
   },
   {
    "duration": 277,
    "start_time": "2024-09-14T13:01:08.967Z"
   },
   {
    "duration": 7,
    "start_time": "2024-09-14T13:01:43.923Z"
   },
   {
    "duration": 4,
    "start_time": "2024-09-14T13:01:52.877Z"
   },
   {
    "duration": 290,
    "start_time": "2024-09-14T13:02:10.973Z"
   },
   {
    "duration": 274,
    "start_time": "2024-09-14T13:02:32.580Z"
   },
   {
    "duration": 5,
    "start_time": "2024-09-14T13:02:50.533Z"
   },
   {
    "duration": 277,
    "start_time": "2024-09-14T13:03:01.347Z"
   },
   {
    "duration": 266,
    "start_time": "2024-09-14T13:03:11.486Z"
   },
   {
    "duration": 292,
    "start_time": "2024-09-14T13:03:25.937Z"
   },
   {
    "duration": 269,
    "start_time": "2024-09-14T13:03:32.194Z"
   },
   {
    "duration": 285,
    "start_time": "2024-09-14T13:03:44.207Z"
   },
   {
    "duration": 300,
    "start_time": "2024-09-14T13:03:55.922Z"
   },
   {
    "duration": 249,
    "start_time": "2024-09-14T13:04:13.460Z"
   },
   {
    "duration": 304,
    "start_time": "2024-09-14T13:04:23.739Z"
   },
   {
    "duration": 435,
    "start_time": "2024-09-14T13:07:42.167Z"
   },
   {
    "duration": 260,
    "start_time": "2024-09-14T13:08:20.797Z"
   },
   {
    "duration": 277,
    "start_time": "2024-09-14T13:08:58.438Z"
   },
   {
    "duration": 283,
    "start_time": "2024-09-14T13:09:04.841Z"
   },
   {
    "duration": 310,
    "start_time": "2024-09-14T13:12:08.719Z"
   },
   {
    "duration": 288,
    "start_time": "2024-09-14T13:12:22.020Z"
   },
   {
    "duration": 279,
    "start_time": "2024-09-14T13:12:47.243Z"
   },
   {
    "duration": 157,
    "start_time": "2024-09-14T13:16:06.673Z"
   },
   {
    "duration": 209,
    "start_time": "2024-09-14T13:19:50.052Z"
   },
   {
    "duration": 6,
    "start_time": "2024-09-14T13:21:04.509Z"
   },
   {
    "duration": 50,
    "start_time": "2024-09-14T13:22:01.781Z"
   },
   {
    "duration": 9,
    "start_time": "2024-09-14T13:22:05.692Z"
   },
   {
    "duration": 394,
    "start_time": "2024-09-14T13:23:16.581Z"
   },
   {
    "duration": 204,
    "start_time": "2024-09-14T13:24:16.399Z"
   },
   {
    "duration": 562,
    "start_time": "2024-09-14T13:24:33.680Z"
   },
   {
    "duration": 424,
    "start_time": "2024-09-14T13:26:06.355Z"
   },
   {
    "duration": 407,
    "start_time": "2024-09-14T13:26:43.358Z"
   },
   {
    "duration": 401,
    "start_time": "2024-09-14T13:26:55.844Z"
   },
   {
    "duration": 776,
    "start_time": "2024-09-14T13:28:59.160Z"
   },
   {
    "duration": 14355,
    "start_time": "2024-09-14T13:32:40.906Z"
   },
   {
    "duration": 14230,
    "start_time": "2024-09-14T13:33:44.221Z"
   },
   {
    "duration": 144,
    "start_time": "2024-09-14T13:39:43.852Z"
   },
   {
    "duration": 8,
    "start_time": "2024-09-14T13:41:11.811Z"
   },
   {
    "duration": 137,
    "start_time": "2024-09-14T13:42:06.761Z"
   },
   {
    "duration": 152,
    "start_time": "2024-09-14T13:42:56.744Z"
   },
   {
    "duration": 138,
    "start_time": "2024-09-14T13:43:12.765Z"
   },
   {
    "duration": 80,
    "start_time": "2024-09-14T13:57:01.604Z"
   },
   {
    "duration": 8,
    "start_time": "2024-09-14T13:57:08.863Z"
   },
   {
    "duration": 5,
    "start_time": "2024-09-14T13:57:22.593Z"
   },
   {
    "duration": 8,
    "start_time": "2024-09-14T13:57:26.401Z"
   },
   {
    "duration": 19,
    "start_time": "2024-09-14T13:58:05.196Z"
   },
   {
    "duration": 8,
    "start_time": "2024-09-14T13:58:08.876Z"
   },
   {
    "duration": 44,
    "start_time": "2024-09-14T14:02:32.102Z"
   },
   {
    "duration": 9,
    "start_time": "2024-09-14T14:02:40.277Z"
   },
   {
    "duration": 4,
    "start_time": "2024-09-14T14:03:05.101Z"
   },
   {
    "duration": 9,
    "start_time": "2024-09-14T14:03:29.923Z"
   },
   {
    "duration": 134,
    "start_time": "2024-09-14T14:03:40.401Z"
   },
   {
    "duration": 8,
    "start_time": "2024-09-14T14:03:48.432Z"
   },
   {
    "duration": 120,
    "start_time": "2024-09-14T14:04:27.307Z"
   },
   {
    "duration": 114,
    "start_time": "2024-09-14T14:04:50.043Z"
   },
   {
    "duration": 130,
    "start_time": "2024-09-14T14:05:45.935Z"
   },
   {
    "duration": 118,
    "start_time": "2024-09-14T14:06:02.759Z"
   },
   {
    "duration": 232,
    "start_time": "2024-09-14T14:06:26.453Z"
   },
   {
    "duration": 202,
    "start_time": "2024-09-14T14:09:31.303Z"
   },
   {
    "duration": 164,
    "start_time": "2024-09-14T14:09:45.834Z"
   },
   {
    "duration": 161,
    "start_time": "2024-09-14T14:10:21.221Z"
   },
   {
    "duration": 6,
    "start_time": "2024-09-14T14:12:31.764Z"
   },
   {
    "duration": 6,
    "start_time": "2024-09-14T14:12:55.726Z"
   },
   {
    "duration": 150,
    "start_time": "2024-09-14T14:13:57.094Z"
   },
   {
    "duration": 184,
    "start_time": "2024-09-14T14:14:15.442Z"
   },
   {
    "duration": 172,
    "start_time": "2024-09-14T14:14:39.986Z"
   },
   {
    "duration": 170,
    "start_time": "2024-09-14T14:15:33.086Z"
   },
   {
    "duration": 171,
    "start_time": "2024-09-14T14:16:28.882Z"
   },
   {
    "duration": 174,
    "start_time": "2024-09-14T14:16:51.451Z"
   },
   {
    "duration": 173,
    "start_time": "2024-09-14T14:18:22.024Z"
   },
   {
    "duration": 177,
    "start_time": "2024-09-14T14:21:58.143Z"
   },
   {
    "duration": 175,
    "start_time": "2024-09-14T14:22:27.527Z"
   },
   {
    "duration": 176,
    "start_time": "2024-09-14T14:22:37.848Z"
   },
   {
    "duration": 170,
    "start_time": "2024-09-14T14:28:11.372Z"
   },
   {
    "duration": 171,
    "start_time": "2024-09-14T14:29:51.023Z"
   },
   {
    "duration": 172,
    "start_time": "2024-09-14T14:31:14.944Z"
   },
   {
    "duration": 277,
    "start_time": "2024-09-14T14:32:43.448Z"
   },
   {
    "duration": 269,
    "start_time": "2024-09-14T14:32:54.201Z"
   },
   {
    "duration": 277,
    "start_time": "2024-09-14T14:33:10.101Z"
   },
   {
    "duration": 4,
    "start_time": "2024-09-14T14:35:00.680Z"
   },
   {
    "duration": 154,
    "start_time": "2024-09-14T14:35:13.005Z"
   },
   {
    "duration": 299,
    "start_time": "2024-09-15T01:56:24.283Z"
   },
   {
    "duration": 3939,
    "start_time": "2024-09-15T01:56:42.256Z"
   },
   {
    "duration": 506,
    "start_time": "2024-09-15T01:56:46.203Z"
   },
   {
    "duration": 14,
    "start_time": "2024-09-15T01:56:46.720Z"
   },
   {
    "duration": 22,
    "start_time": "2024-09-15T01:56:46.737Z"
   },
   {
    "duration": 11,
    "start_time": "2024-09-15T01:56:46.761Z"
   },
   {
    "duration": 11,
    "start_time": "2024-09-15T01:56:46.775Z"
   },
   {
    "duration": 11,
    "start_time": "2024-09-15T01:56:46.788Z"
   },
   {
    "duration": 12,
    "start_time": "2024-09-15T01:56:46.801Z"
   },
   {
    "duration": 34,
    "start_time": "2024-09-15T01:56:46.815Z"
   },
   {
    "duration": 25,
    "start_time": "2024-09-15T01:56:46.861Z"
   },
   {
    "duration": 21,
    "start_time": "2024-09-15T01:56:46.893Z"
   },
   {
    "duration": 6,
    "start_time": "2024-09-15T01:56:46.919Z"
   },
   {
    "duration": 66,
    "start_time": "2024-09-15T01:56:46.930Z"
   },
   {
    "duration": 17,
    "start_time": "2024-09-15T01:56:47.009Z"
   },
   {
    "duration": 21,
    "start_time": "2024-09-15T01:56:47.030Z"
   },
   {
    "duration": 54,
    "start_time": "2024-09-15T01:56:47.060Z"
   },
   {
    "duration": 23,
    "start_time": "2024-09-15T01:56:47.117Z"
   },
   {
    "duration": 31,
    "start_time": "2024-09-15T01:56:47.147Z"
   },
   {
    "duration": 28,
    "start_time": "2024-09-15T01:56:47.180Z"
   },
   {
    "duration": 56,
    "start_time": "2024-09-15T01:56:47.211Z"
   },
   {
    "duration": 18,
    "start_time": "2024-09-15T01:56:47.276Z"
   },
   {
    "duration": 35,
    "start_time": "2024-09-15T01:56:47.302Z"
   },
   {
    "duration": 35,
    "start_time": "2024-09-15T01:56:47.343Z"
   },
   {
    "duration": 19,
    "start_time": "2024-09-15T01:56:47.383Z"
   },
   {
    "duration": 28,
    "start_time": "2024-09-15T01:56:47.405Z"
   },
   {
    "duration": 34,
    "start_time": "2024-09-15T01:56:47.438Z"
   },
   {
    "duration": 18,
    "start_time": "2024-09-15T01:56:47.474Z"
   },
   {
    "duration": 35,
    "start_time": "2024-09-15T01:56:47.498Z"
   },
   {
    "duration": 41,
    "start_time": "2024-09-15T01:56:47.535Z"
   },
   {
    "duration": 15,
    "start_time": "2024-09-15T01:56:47.581Z"
   },
   {
    "duration": 393,
    "start_time": "2024-09-15T01:56:47.601Z"
   },
   {
    "duration": 234,
    "start_time": "2024-09-15T01:56:48.000Z"
   },
   {
    "duration": 18,
    "start_time": "2024-09-15T01:56:48.240Z"
   },
   {
    "duration": 4,
    "start_time": "2024-09-15T01:56:48.264Z"
   },
   {
    "duration": 4,
    "start_time": "2024-09-15T01:56:48.273Z"
   },
   {
    "duration": 4,
    "start_time": "2024-09-15T01:56:48.283Z"
   },
   {
    "duration": 5,
    "start_time": "2024-09-15T01:56:48.292Z"
   },
   {
    "duration": 5,
    "start_time": "2024-09-15T01:56:48.301Z"
   },
   {
    "duration": 201,
    "start_time": "2024-09-15T01:57:22.168Z"
   },
   {
    "duration": 17,
    "start_time": "2024-09-15T01:57:54.797Z"
   },
   {
    "duration": 11,
    "start_time": "2024-09-15T01:58:12.868Z"
   },
   {
    "duration": 27,
    "start_time": "2024-09-15T01:58:53.881Z"
   },
   {
    "duration": 9,
    "start_time": "2024-09-15T02:00:37.617Z"
   },
   {
    "duration": 25,
    "start_time": "2024-09-15T02:00:55.369Z"
   },
   {
    "duration": 8,
    "start_time": "2024-09-15T02:01:00.598Z"
   },
   {
    "duration": 18,
    "start_time": "2024-09-15T02:02:08.765Z"
   },
   {
    "duration": 5,
    "start_time": "2024-09-15T02:03:38.541Z"
   },
   {
    "duration": 7,
    "start_time": "2024-09-15T02:03:46.383Z"
   },
   {
    "duration": 40,
    "start_time": "2024-09-15T02:05:32.761Z"
   },
   {
    "duration": 6,
    "start_time": "2024-09-15T02:07:36.092Z"
   },
   {
    "duration": 26,
    "start_time": "2024-09-15T02:07:45.599Z"
   },
   {
    "duration": 10,
    "start_time": "2024-09-15T02:08:17.105Z"
   },
   {
    "duration": 14,
    "start_time": "2024-09-15T02:08:33.267Z"
   },
   {
    "duration": 16,
    "start_time": "2024-09-15T02:09:00.350Z"
   },
   {
    "duration": 10,
    "start_time": "2024-09-15T02:10:22.664Z"
   },
   {
    "duration": 19,
    "start_time": "2024-09-15T02:10:32.031Z"
   },
   {
    "duration": 18,
    "start_time": "2024-09-15T02:11:53.448Z"
   },
   {
    "duration": 19,
    "start_time": "2024-09-15T02:12:55.680Z"
   },
   {
    "duration": 29,
    "start_time": "2024-09-15T02:13:34.561Z"
   },
   {
    "duration": 850,
    "start_time": "2024-09-15T02:16:39.420Z"
   },
   {
    "duration": 103,
    "start_time": "2024-09-15T02:17:01.536Z"
   },
   {
    "duration": 240,
    "start_time": "2024-09-15T02:17:55.698Z"
   },
   {
    "duration": 198,
    "start_time": "2024-09-15T02:18:17.853Z"
   },
   {
    "duration": 7,
    "start_time": "2024-09-15T03:06:30.119Z"
   },
   {
    "duration": 29,
    "start_time": "2024-09-15T03:06:37.745Z"
   },
   {
    "duration": 16,
    "start_time": "2024-09-15T03:11:55.675Z"
   },
   {
    "duration": 42,
    "start_time": "2024-09-15T03:12:04.626Z"
   },
   {
    "duration": 22,
    "start_time": "2024-09-15T03:12:22.690Z"
   },
   {
    "duration": 65,
    "start_time": "2024-09-15T03:12:30.608Z"
   },
   {
    "duration": 44,
    "start_time": "2024-09-15T03:12:42.552Z"
   },
   {
    "duration": 50,
    "start_time": "2024-09-15T03:13:10.316Z"
   },
   {
    "duration": 31,
    "start_time": "2024-09-15T03:13:42.131Z"
   },
   {
    "duration": 35,
    "start_time": "2024-09-15T03:14:05.912Z"
   },
   {
    "duration": 334,
    "start_time": "2024-09-15T03:14:17.648Z"
   },
   {
    "duration": 40,
    "start_time": "2024-09-15T03:14:30.522Z"
   },
   {
    "duration": 48,
    "start_time": "2024-09-15T03:14:38.210Z"
   },
   {
    "duration": 53,
    "start_time": "2024-09-15T03:14:44.339Z"
   },
   {
    "duration": 19,
    "start_time": "2024-09-15T03:14:50.247Z"
   },
   {
    "duration": 9,
    "start_time": "2024-09-15T03:15:00.623Z"
   },
   {
    "duration": 14,
    "start_time": "2024-09-15T03:15:08.944Z"
   },
   {
    "duration": 4,
    "start_time": "2024-09-15T03:15:26.860Z"
   },
   {
    "duration": 24,
    "start_time": "2024-09-15T03:15:32.688Z"
   },
   {
    "duration": 16,
    "start_time": "2024-09-15T03:15:46.272Z"
   },
   {
    "duration": 876,
    "start_time": "2024-09-15T03:15:53.519Z"
   },
   {
    "duration": 224,
    "start_time": "2024-09-15T03:15:54.398Z"
   },
   {
    "duration": 15,
    "start_time": "2024-09-15T03:15:54.624Z"
   },
   {
    "duration": 14,
    "start_time": "2024-09-15T03:15:54.652Z"
   },
   {
    "duration": 14,
    "start_time": "2024-09-15T03:15:54.668Z"
   },
   {
    "duration": 12,
    "start_time": "2024-09-15T03:15:54.684Z"
   },
   {
    "duration": 11,
    "start_time": "2024-09-15T03:15:54.699Z"
   },
   {
    "duration": 12,
    "start_time": "2024-09-15T03:15:54.712Z"
   },
   {
    "duration": 34,
    "start_time": "2024-09-15T03:15:54.726Z"
   },
   {
    "duration": 17,
    "start_time": "2024-09-15T03:15:54.769Z"
   },
   {
    "duration": 15,
    "start_time": "2024-09-15T03:15:54.788Z"
   },
   {
    "duration": 3,
    "start_time": "2024-09-15T03:15:54.805Z"
   },
   {
    "duration": 60,
    "start_time": "2024-09-15T03:15:54.810Z"
   },
   {
    "duration": 14,
    "start_time": "2024-09-15T03:15:54.872Z"
   },
   {
    "duration": 8,
    "start_time": "2024-09-15T03:15:54.888Z"
   },
   {
    "duration": 19,
    "start_time": "2024-09-15T03:15:54.899Z"
   },
   {
    "duration": 22,
    "start_time": "2024-09-15T03:15:54.920Z"
   },
   {
    "duration": 22,
    "start_time": "2024-09-15T03:15:54.951Z"
   },
   {
    "duration": 19,
    "start_time": "2024-09-15T03:15:54.975Z"
   },
   {
    "duration": 23,
    "start_time": "2024-09-15T03:15:54.997Z"
   },
   {
    "duration": 7,
    "start_time": "2024-09-15T03:15:55.021Z"
   },
   {
    "duration": 36,
    "start_time": "2024-09-15T03:15:55.029Z"
   },
   {
    "duration": 21,
    "start_time": "2024-09-15T03:15:55.067Z"
   },
   {
    "duration": 18,
    "start_time": "2024-09-15T03:15:55.089Z"
   },
   {
    "duration": 29,
    "start_time": "2024-09-15T03:15:55.109Z"
   },
   {
    "duration": 37,
    "start_time": "2024-09-15T03:15:55.141Z"
   },
   {
    "duration": 7,
    "start_time": "2024-09-15T03:15:55.182Z"
   },
   {
    "duration": 14,
    "start_time": "2024-09-15T03:15:55.193Z"
   },
   {
    "duration": 9,
    "start_time": "2024-09-15T03:15:55.209Z"
   },
   {
    "duration": 27,
    "start_time": "2024-09-15T03:15:55.232Z"
   },
   {
    "duration": 40,
    "start_time": "2024-09-15T03:15:55.261Z"
   },
   {
    "duration": 11,
    "start_time": "2024-09-15T03:15:55.302Z"
   },
   {
    "duration": 353,
    "start_time": "2024-09-15T03:15:55.314Z"
   },
   {
    "duration": 192,
    "start_time": "2024-09-15T03:15:55.676Z"
   },
   {
    "duration": 8,
    "start_time": "2024-09-15T03:15:55.870Z"
   },
   {
    "duration": 17,
    "start_time": "2024-09-15T03:15:55.881Z"
   },
   {
    "duration": 166,
    "start_time": "2024-09-15T03:15:55.901Z"
   },
   {
    "duration": 4,
    "start_time": "2024-09-15T03:15:56.069Z"
   },
   {
    "duration": 6,
    "start_time": "2024-09-15T03:15:56.075Z"
   },
   {
    "duration": 3,
    "start_time": "2024-09-15T03:15:56.083Z"
   },
   {
    "duration": 2,
    "start_time": "2024-09-15T03:15:56.088Z"
   },
   {
    "duration": 19,
    "start_time": "2024-09-15T03:16:32.467Z"
   },
   {
    "duration": 8,
    "start_time": "2024-09-15T03:16:48.408Z"
   },
   {
    "duration": 949,
    "start_time": "2024-09-15T03:17:44.338Z"
   },
   {
    "duration": 220,
    "start_time": "2024-09-15T03:17:45.291Z"
   },
   {
    "duration": 10,
    "start_time": "2024-09-15T03:17:45.513Z"
   },
   {
    "duration": 14,
    "start_time": "2024-09-15T03:17:45.534Z"
   },
   {
    "duration": 20,
    "start_time": "2024-09-15T03:17:45.551Z"
   },
   {
    "duration": 14,
    "start_time": "2024-09-15T03:17:45.574Z"
   },
   {
    "duration": 10,
    "start_time": "2024-09-15T03:17:45.590Z"
   },
   {
    "duration": 9,
    "start_time": "2024-09-15T03:17:45.602Z"
   },
   {
    "duration": 53,
    "start_time": "2024-09-15T03:17:45.613Z"
   },
   {
    "duration": 10,
    "start_time": "2024-09-15T03:17:45.673Z"
   },
   {
    "duration": 16,
    "start_time": "2024-09-15T03:17:45.684Z"
   },
   {
    "duration": 3,
    "start_time": "2024-09-15T03:17:45.702Z"
   },
   {
    "duration": 55,
    "start_time": "2024-09-15T03:17:45.706Z"
   },
   {
    "duration": 15,
    "start_time": "2024-09-15T03:17:45.763Z"
   },
   {
    "duration": 9,
    "start_time": "2024-09-15T03:17:45.780Z"
   },
   {
    "duration": 25,
    "start_time": "2024-09-15T03:17:45.792Z"
   },
   {
    "duration": 39,
    "start_time": "2024-09-15T03:17:45.819Z"
   },
   {
    "duration": 12,
    "start_time": "2024-09-15T03:17:45.862Z"
   },
   {
    "duration": 14,
    "start_time": "2024-09-15T03:17:45.875Z"
   },
   {
    "duration": 23,
    "start_time": "2024-09-15T03:17:45.891Z"
   },
   {
    "duration": 7,
    "start_time": "2024-09-15T03:17:45.916Z"
   },
   {
    "duration": 36,
    "start_time": "2024-09-15T03:17:45.925Z"
   },
   {
    "duration": 34,
    "start_time": "2024-09-15T03:17:45.964Z"
   },
   {
    "duration": 16,
    "start_time": "2024-09-15T03:17:46.002Z"
   },
   {
    "duration": 24,
    "start_time": "2024-09-15T03:17:46.020Z"
   },
   {
    "duration": 45,
    "start_time": "2024-09-15T03:17:46.045Z"
   },
   {
    "duration": 15,
    "start_time": "2024-09-15T03:17:46.092Z"
   },
   {
    "duration": 31,
    "start_time": "2024-09-15T03:17:46.111Z"
   },
   {
    "duration": 50,
    "start_time": "2024-09-15T03:17:46.144Z"
   },
   {
    "duration": 40,
    "start_time": "2024-09-15T03:17:46.196Z"
   },
   {
    "duration": 12,
    "start_time": "2024-09-15T03:17:46.237Z"
   },
   {
    "duration": 334,
    "start_time": "2024-09-15T03:17:46.250Z"
   },
   {
    "duration": 215,
    "start_time": "2024-09-15T03:17:46.586Z"
   },
   {
    "duration": 8,
    "start_time": "2024-09-15T03:17:46.803Z"
   },
   {
    "duration": 7,
    "start_time": "2024-09-15T03:17:46.813Z"
   },
   {
    "duration": 150,
    "start_time": "2024-09-15T03:17:46.833Z"
   },
   {
    "duration": 2,
    "start_time": "2024-09-15T03:17:46.985Z"
   },
   {
    "duration": 3,
    "start_time": "2024-09-15T03:17:46.989Z"
   },
   {
    "duration": 3,
    "start_time": "2024-09-15T03:17:46.993Z"
   },
   {
    "duration": 2,
    "start_time": "2024-09-15T03:17:46.998Z"
   },
   {
    "duration": 10,
    "start_time": "2024-09-15T03:19:23.048Z"
   },
   {
    "duration": 6,
    "start_time": "2024-09-15T03:19:29.915Z"
   },
   {
    "duration": 8,
    "start_time": "2024-09-15T03:19:47.796Z"
   },
   {
    "duration": 10,
    "start_time": "2024-09-15T03:20:24.127Z"
   },
   {
    "duration": 141,
    "start_time": "2024-09-15T03:28:35.062Z"
   },
   {
    "duration": 204,
    "start_time": "2024-09-15T03:31:43.484Z"
   },
   {
    "duration": 145,
    "start_time": "2024-09-15T03:38:16.996Z"
   },
   {
    "duration": 6,
    "start_time": "2024-09-15T03:38:29.366Z"
   },
   {
    "duration": 147,
    "start_time": "2024-09-15T03:38:39.211Z"
   },
   {
    "duration": 137,
    "start_time": "2024-09-15T03:38:48.091Z"
   },
   {
    "duration": 132,
    "start_time": "2024-09-15T03:39:10.054Z"
   },
   {
    "duration": 144,
    "start_time": "2024-09-15T03:40:14.056Z"
   },
   {
    "duration": 424,
    "start_time": "2024-09-15T03:42:55.644Z"
   },
   {
    "duration": 274,
    "start_time": "2024-09-15T03:43:51.979Z"
   },
   {
    "duration": 133,
    "start_time": "2024-09-15T03:45:21.656Z"
   },
   {
    "duration": 112,
    "start_time": "2024-09-15T03:47:37.221Z"
   },
   {
    "duration": 174,
    "start_time": "2024-09-15T03:48:03.644Z"
   },
   {
    "duration": 157,
    "start_time": "2024-09-15T03:49:06.412Z"
   },
   {
    "duration": 640,
    "start_time": "2024-09-15T03:49:56.252Z"
   },
   {
    "duration": 119,
    "start_time": "2024-09-15T03:51:38.899Z"
   },
   {
    "duration": 138,
    "start_time": "2024-09-15T03:51:46.627Z"
   },
   {
    "duration": 139,
    "start_time": "2024-09-15T03:51:51.021Z"
   },
   {
    "duration": 115,
    "start_time": "2024-09-15T04:05:27.960Z"
   },
   {
    "duration": 5,
    "start_time": "2024-09-15T04:13:12.579Z"
   },
   {
    "duration": 502,
    "start_time": "2024-09-15T04:13:18.612Z"
   },
   {
    "duration": 38,
    "start_time": "2024-09-15T04:14:00.128Z"
   },
   {
    "duration": 81,
    "start_time": "2024-09-15T04:14:24.705Z"
   },
   {
    "duration": 125,
    "start_time": "2024-09-15T04:15:40.263Z"
   },
   {
    "duration": 148,
    "start_time": "2024-09-15T04:21:37.675Z"
   },
   {
    "duration": 227,
    "start_time": "2024-09-15T04:33:54.129Z"
   },
   {
    "duration": 197,
    "start_time": "2024-09-15T04:35:51.603Z"
   },
   {
    "duration": 218,
    "start_time": "2024-09-15T04:36:58.000Z"
   },
   {
    "duration": 380,
    "start_time": "2024-09-15T04:38:09.205Z"
   },
   {
    "duration": 410,
    "start_time": "2024-09-15T04:39:28.356Z"
   },
   {
    "duration": 407,
    "start_time": "2024-09-15T04:41:18.095Z"
   },
   {
    "duration": 433,
    "start_time": "2024-09-15T04:41:27.284Z"
   },
   {
    "duration": 200,
    "start_time": "2024-09-15T04:45:26.436Z"
   },
   {
    "duration": 525,
    "start_time": "2024-09-15T04:45:47.243Z"
   },
   {
    "duration": 412,
    "start_time": "2024-09-15T04:49:30.699Z"
   },
   {
    "duration": 549,
    "start_time": "2024-09-15T04:53:46.175Z"
   },
   {
    "duration": 19,
    "start_time": "2024-09-15T04:54:56.362Z"
   },
   {
    "duration": 566,
    "start_time": "2024-09-15T04:54:59.529Z"
   },
   {
    "duration": 567,
    "start_time": "2024-09-15T04:56:23.499Z"
   },
   {
    "duration": 413,
    "start_time": "2024-09-15T04:57:48.110Z"
   },
   {
    "duration": 358,
    "start_time": "2024-09-15T05:03:29.013Z"
   },
   {
    "duration": 356,
    "start_time": "2024-09-15T05:03:42.836Z"
   },
   {
    "duration": 560,
    "start_time": "2024-09-15T05:04:01.969Z"
   },
   {
    "duration": 314,
    "start_time": "2024-09-15T05:04:11.011Z"
   },
   {
    "duration": 372,
    "start_time": "2024-09-15T05:04:17.648Z"
   },
   {
    "duration": 341,
    "start_time": "2024-09-15T05:04:40.529Z"
   },
   {
    "duration": 342,
    "start_time": "2024-09-15T05:04:47.448Z"
   },
   {
    "duration": 332,
    "start_time": "2024-09-15T05:05:05.756Z"
   },
   {
    "duration": 299,
    "start_time": "2024-09-15T05:05:15.151Z"
   },
   {
    "duration": 305,
    "start_time": "2024-09-15T05:06:44.573Z"
   },
   {
    "duration": 38,
    "start_time": "2024-09-15T05:08:56.628Z"
   },
   {
    "duration": 319,
    "start_time": "2024-09-15T05:11:32.631Z"
   },
   {
    "duration": 303,
    "start_time": "2024-09-15T05:12:24.091Z"
   },
   {
    "duration": 581,
    "start_time": "2024-09-15T05:13:44.626Z"
   },
   {
    "duration": 5,
    "start_time": "2024-09-15T05:14:20.322Z"
   },
   {
    "duration": 296,
    "start_time": "2024-09-15T05:42:23.204Z"
   },
   {
    "duration": 312,
    "start_time": "2024-09-15T05:54:35.484Z"
   },
   {
    "duration": 347,
    "start_time": "2024-09-15T05:54:50.243Z"
   },
   {
    "duration": 314,
    "start_time": "2024-09-15T05:55:42.268Z"
   },
   {
    "duration": 22,
    "start_time": "2024-09-15T05:58:49.965Z"
   },
   {
    "duration": 356,
    "start_time": "2024-09-15T06:08:28.422Z"
   },
   {
    "duration": 13,
    "start_time": "2024-09-15T06:10:03.379Z"
   },
   {
    "duration": 36,
    "start_time": "2024-09-15T06:10:38.938Z"
   },
   {
    "duration": 347,
    "start_time": "2024-09-15T06:21:32.031Z"
   },
   {
    "duration": 6,
    "start_time": "2024-09-15T06:21:49.693Z"
   },
   {
    "duration": 306,
    "start_time": "2024-09-15T06:21:54.340Z"
   },
   {
    "duration": 293,
    "start_time": "2024-09-15T06:23:35.990Z"
   },
   {
    "duration": 307,
    "start_time": "2024-09-15T06:23:53.763Z"
   },
   {
    "duration": 541,
    "start_time": "2024-09-15T06:24:55.614Z"
   },
   {
    "duration": 681,
    "start_time": "2024-09-15T06:29:20.721Z"
   },
   {
    "duration": 131,
    "start_time": "2024-09-15T06:32:28.655Z"
   },
   {
    "duration": 98,
    "start_time": "2024-09-15T06:32:54.217Z"
   },
   {
    "duration": 979,
    "start_time": "2024-09-15T06:33:04.742Z"
   },
   {
    "duration": 267,
    "start_time": "2024-09-15T06:33:05.723Z"
   },
   {
    "duration": 9,
    "start_time": "2024-09-15T06:33:05.992Z"
   },
   {
    "duration": 9,
    "start_time": "2024-09-15T06:33:06.004Z"
   },
   {
    "duration": 11,
    "start_time": "2024-09-15T06:33:06.015Z"
   },
   {
    "duration": 39,
    "start_time": "2024-09-15T06:33:06.028Z"
   },
   {
    "duration": 10,
    "start_time": "2024-09-15T06:33:06.068Z"
   },
   {
    "duration": 8,
    "start_time": "2024-09-15T06:33:06.079Z"
   },
   {
    "duration": 20,
    "start_time": "2024-09-15T06:33:06.089Z"
   },
   {
    "duration": 9,
    "start_time": "2024-09-15T06:33:06.112Z"
   },
   {
    "duration": 40,
    "start_time": "2024-09-15T06:33:06.122Z"
   },
   {
    "duration": 6,
    "start_time": "2024-09-15T06:33:06.164Z"
   },
   {
    "duration": 42,
    "start_time": "2024-09-15T06:33:06.172Z"
   },
   {
    "duration": 12,
    "start_time": "2024-09-15T06:33:06.216Z"
   },
   {
    "duration": 21,
    "start_time": "2024-09-15T06:33:06.229Z"
   },
   {
    "duration": 37,
    "start_time": "2024-09-15T06:33:06.255Z"
   },
   {
    "duration": 14,
    "start_time": "2024-09-15T06:33:06.293Z"
   },
   {
    "duration": 8,
    "start_time": "2024-09-15T06:33:06.309Z"
   },
   {
    "duration": 35,
    "start_time": "2024-09-15T06:33:06.319Z"
   },
   {
    "duration": 44,
    "start_time": "2024-09-15T06:33:06.363Z"
   },
   {
    "duration": 7,
    "start_time": "2024-09-15T06:33:06.408Z"
   },
   {
    "duration": 23,
    "start_time": "2024-09-15T06:33:06.417Z"
   },
   {
    "duration": 36,
    "start_time": "2024-09-15T06:33:06.442Z"
   },
   {
    "duration": 21,
    "start_time": "2024-09-15T06:33:06.480Z"
   },
   {
    "duration": 12,
    "start_time": "2024-09-15T06:33:06.503Z"
   },
   {
    "duration": 29,
    "start_time": "2024-09-15T06:33:06.517Z"
   },
   {
    "duration": 12,
    "start_time": "2024-09-15T06:33:06.548Z"
   },
   {
    "duration": 19,
    "start_time": "2024-09-15T06:33:06.563Z"
   },
   {
    "duration": 28,
    "start_time": "2024-09-15T06:33:06.584Z"
   },
   {
    "duration": 58,
    "start_time": "2024-09-15T06:33:06.613Z"
   },
   {
    "duration": 333,
    "start_time": "2024-09-15T06:33:06.674Z"
   },
   {
    "duration": 205,
    "start_time": "2024-09-15T06:33:07.008Z"
   },
   {
    "duration": 8,
    "start_time": "2024-09-15T06:33:07.215Z"
   },
   {
    "duration": 44,
    "start_time": "2024-09-15T06:33:07.224Z"
   },
   {
    "duration": 15,
    "start_time": "2024-09-15T06:33:07.273Z"
   },
   {
    "duration": 292,
    "start_time": "2024-09-15T06:33:07.290Z"
   },
   {
    "duration": 330,
    "start_time": "2024-09-15T06:33:07.584Z"
   },
   {
    "duration": 296,
    "start_time": "2024-09-15T06:33:07.916Z"
   },
   {
    "duration": 332,
    "start_time": "2024-09-15T06:33:08.215Z"
   },
   {
    "duration": 1121,
    "start_time": "2024-09-15T06:33:08.549Z"
   },
   {
    "duration": 0,
    "start_time": "2024-09-15T06:33:09.672Z"
   },
   {
    "duration": 0,
    "start_time": "2024-09-15T06:33:09.673Z"
   },
   {
    "duration": 107,
    "start_time": "2024-09-15T06:33:30.994Z"
   },
   {
    "duration": 14,
    "start_time": "2024-09-15T06:34:05.193Z"
   },
   {
    "duration": 29,
    "start_time": "2024-09-15T06:34:24.551Z"
   },
   {
    "duration": 2478,
    "start_time": "2024-09-15T13:17:30.923Z"
   },
   {
    "duration": 247,
    "start_time": "2024-09-15T13:17:33.403Z"
   },
   {
    "duration": 10,
    "start_time": "2024-09-15T13:17:33.651Z"
   },
   {
    "duration": 9,
    "start_time": "2024-09-15T13:17:33.664Z"
   },
   {
    "duration": 8,
    "start_time": "2024-09-15T13:17:33.674Z"
   },
   {
    "duration": 8,
    "start_time": "2024-09-15T13:17:33.683Z"
   },
   {
    "duration": 9,
    "start_time": "2024-09-15T13:17:33.693Z"
   },
   {
    "duration": 8,
    "start_time": "2024-09-15T13:17:33.704Z"
   },
   {
    "duration": 15,
    "start_time": "2024-09-15T13:17:33.714Z"
   },
   {
    "duration": 38,
    "start_time": "2024-09-15T13:17:33.731Z"
   },
   {
    "duration": 12,
    "start_time": "2024-09-15T13:17:33.771Z"
   },
   {
    "duration": 3,
    "start_time": "2024-09-15T13:17:33.785Z"
   },
   {
    "duration": 28,
    "start_time": "2024-09-15T13:17:33.790Z"
   },
   {
    "duration": 12,
    "start_time": "2024-09-15T13:17:33.819Z"
   },
   {
    "duration": 41,
    "start_time": "2024-09-15T13:17:33.832Z"
   },
   {
    "duration": 19,
    "start_time": "2024-09-15T13:17:33.875Z"
   },
   {
    "duration": 13,
    "start_time": "2024-09-15T13:17:33.895Z"
   },
   {
    "duration": 8,
    "start_time": "2024-09-15T13:17:33.910Z"
   },
   {
    "duration": 15,
    "start_time": "2024-09-15T13:17:33.919Z"
   },
   {
    "duration": 49,
    "start_time": "2024-09-15T13:17:33.935Z"
   },
   {
    "duration": 6,
    "start_time": "2024-09-15T13:17:33.985Z"
   },
   {
    "duration": 19,
    "start_time": "2024-09-15T13:17:33.993Z"
   },
   {
    "duration": 15,
    "start_time": "2024-09-15T13:17:34.014Z"
   },
   {
    "duration": 41,
    "start_time": "2024-09-15T13:17:34.031Z"
   },
   {
    "duration": 13,
    "start_time": "2024-09-15T13:17:34.073Z"
   },
   {
    "duration": 23,
    "start_time": "2024-09-15T13:17:34.087Z"
   },
   {
    "duration": 11,
    "start_time": "2024-09-15T13:17:34.111Z"
   },
   {
    "duration": 7,
    "start_time": "2024-09-15T13:17:34.126Z"
   },
   {
    "duration": 50,
    "start_time": "2024-09-15T13:17:34.134Z"
   },
   {
    "duration": 28,
    "start_time": "2024-09-15T13:17:34.186Z"
   },
   {
    "duration": 336,
    "start_time": "2024-09-15T13:17:34.217Z"
   },
   {
    "duration": 157,
    "start_time": "2024-09-15T13:17:34.555Z"
   },
   {
    "duration": 7,
    "start_time": "2024-09-15T13:17:34.714Z"
   },
   {
    "duration": 7,
    "start_time": "2024-09-15T13:17:34.723Z"
   },
   {
    "duration": 181,
    "start_time": "2024-09-15T13:17:34.732Z"
   },
   {
    "duration": 228,
    "start_time": "2024-09-15T13:17:34.915Z"
   },
   {
    "duration": 293,
    "start_time": "2024-09-15T13:17:35.145Z"
   },
   {
    "duration": 244,
    "start_time": "2024-09-15T13:17:35.440Z"
   },
   {
    "duration": 9,
    "start_time": "2024-09-15T13:17:35.686Z"
   },
   {
    "duration": 2,
    "start_time": "2024-09-15T13:17:35.696Z"
   },
   {
    "duration": 2,
    "start_time": "2024-09-15T13:17:35.700Z"
   },
   {
    "duration": 831,
    "start_time": "2024-09-15T13:20:00.966Z"
   },
   {
    "duration": 126,
    "start_time": "2024-09-15T13:20:11.285Z"
   },
   {
    "duration": 124,
    "start_time": "2024-09-15T13:22:00.388Z"
   },
   {
    "duration": 66,
    "start_time": "2024-09-15T13:23:13.125Z"
   },
   {
    "duration": 66,
    "start_time": "2024-09-15T13:25:42.811Z"
   },
   {
    "duration": 738,
    "start_time": "2024-09-15T13:25:54.137Z"
   },
   {
    "duration": 154,
    "start_time": "2024-09-15T13:25:54.877Z"
   },
   {
    "duration": 10,
    "start_time": "2024-09-15T13:25:55.034Z"
   },
   {
    "duration": 8,
    "start_time": "2024-09-15T13:25:55.047Z"
   },
   {
    "duration": 20,
    "start_time": "2024-09-15T13:25:55.057Z"
   },
   {
    "duration": 10,
    "start_time": "2024-09-15T13:25:55.078Z"
   },
   {
    "duration": 8,
    "start_time": "2024-09-15T13:25:55.090Z"
   },
   {
    "duration": 7,
    "start_time": "2024-09-15T13:25:55.100Z"
   },
   {
    "duration": 14,
    "start_time": "2024-09-15T13:25:55.109Z"
   },
   {
    "duration": 9,
    "start_time": "2024-09-15T13:25:55.126Z"
   },
   {
    "duration": 47,
    "start_time": "2024-09-15T13:25:55.136Z"
   },
   {
    "duration": 3,
    "start_time": "2024-09-15T13:25:55.184Z"
   },
   {
    "duration": 28,
    "start_time": "2024-09-15T13:25:55.188Z"
   },
   {
    "duration": 11,
    "start_time": "2024-09-15T13:25:55.217Z"
   },
   {
    "duration": 9,
    "start_time": "2024-09-15T13:25:55.230Z"
   },
   {
    "duration": 21,
    "start_time": "2024-09-15T13:25:55.271Z"
   },
   {
    "duration": 13,
    "start_time": "2024-09-15T13:25:55.293Z"
   },
   {
    "duration": 9,
    "start_time": "2024-09-15T13:25:55.308Z"
   },
   {
    "duration": 12,
    "start_time": "2024-09-15T13:25:55.319Z"
   },
   {
    "duration": 52,
    "start_time": "2024-09-15T13:25:55.333Z"
   },
   {
    "duration": 7,
    "start_time": "2024-09-15T13:25:55.387Z"
   },
   {
    "duration": 20,
    "start_time": "2024-09-15T13:25:55.395Z"
   },
   {
    "duration": 18,
    "start_time": "2024-09-15T13:25:55.417Z"
   },
   {
    "duration": 41,
    "start_time": "2024-09-15T13:25:55.436Z"
   },
   {
    "duration": 13,
    "start_time": "2024-09-15T13:25:55.479Z"
   },
   {
    "duration": 23,
    "start_time": "2024-09-15T13:25:55.494Z"
   },
   {
    "duration": 11,
    "start_time": "2024-09-15T13:25:55.518Z"
   },
   {
    "duration": 8,
    "start_time": "2024-09-15T13:25:55.533Z"
   },
   {
    "duration": 45,
    "start_time": "2024-09-15T13:25:55.543Z"
   },
   {
    "duration": 26,
    "start_time": "2024-09-15T13:25:55.590Z"
   },
   {
    "duration": 310,
    "start_time": "2024-09-15T13:25:55.618Z"
   },
   {
    "duration": 157,
    "start_time": "2024-09-15T13:25:55.929Z"
   },
   {
    "duration": 8,
    "start_time": "2024-09-15T13:25:56.088Z"
   },
   {
    "duration": 7,
    "start_time": "2024-09-15T13:25:56.098Z"
   },
   {
    "duration": 228,
    "start_time": "2024-09-15T13:25:56.107Z"
   },
   {
    "duration": 238,
    "start_time": "2024-09-15T13:25:56.338Z"
   },
   {
    "duration": 242,
    "start_time": "2024-09-15T13:25:56.578Z"
   },
   {
    "duration": 237,
    "start_time": "2024-09-15T13:25:56.822Z"
   },
   {
    "duration": 794,
    "start_time": "2024-09-15T13:25:57.061Z"
   },
   {
    "duration": 0,
    "start_time": "2024-09-15T13:25:57.857Z"
   },
   {
    "duration": 0,
    "start_time": "2024-09-15T13:25:57.870Z"
   },
   {
    "duration": 21146,
    "start_time": "2024-09-15T13:26:43.133Z"
   },
   {
    "duration": 6,
    "start_time": "2024-09-15T13:28:50.871Z"
   },
   {
    "duration": 4,
    "start_time": "2024-09-15T13:29:05.656Z"
   },
   {
    "duration": 6,
    "start_time": "2024-09-15T13:29:40.141Z"
   },
   {
    "duration": 11,
    "start_time": "2024-09-15T13:29:46.965Z"
   },
   {
    "duration": 204,
    "start_time": "2024-09-15T13:30:12.369Z"
   },
   {
    "duration": 70,
    "start_time": "2024-09-15T13:31:28.324Z"
   },
   {
    "duration": 67,
    "start_time": "2024-09-15T13:31:49.454Z"
   },
   {
    "duration": 45,
    "start_time": "2024-09-15T13:35:48.892Z"
   },
   {
    "duration": 819,
    "start_time": "2024-09-15T13:36:30.520Z"
   },
   {
    "duration": 162,
    "start_time": "2024-09-15T13:37:03.226Z"
   },
   {
    "duration": 221,
    "start_time": "2024-09-15T13:40:47.687Z"
   },
   {
    "duration": 14,
    "start_time": "2024-09-15T13:50:44.678Z"
   },
   {
    "duration": 203,
    "start_time": "2024-09-15T13:54:02.970Z"
   },
   {
    "duration": 795,
    "start_time": "2024-09-15T13:54:12.494Z"
   },
   {
    "duration": 157,
    "start_time": "2024-09-15T13:54:13.291Z"
   },
   {
    "duration": 10,
    "start_time": "2024-09-15T13:54:13.450Z"
   },
   {
    "duration": 9,
    "start_time": "2024-09-15T13:54:13.470Z"
   },
   {
    "duration": 7,
    "start_time": "2024-09-15T13:54:13.481Z"
   },
   {
    "duration": 8,
    "start_time": "2024-09-15T13:54:13.490Z"
   },
   {
    "duration": 9,
    "start_time": "2024-09-15T13:54:13.500Z"
   },
   {
    "duration": 16,
    "start_time": "2024-09-15T13:54:13.510Z"
   },
   {
    "duration": 469,
    "start_time": "2024-09-15T13:54:13.528Z"
   },
   {
    "duration": 0,
    "start_time": "2024-09-15T13:54:14.000Z"
   },
   {
    "duration": 0,
    "start_time": "2024-09-15T13:54:14.002Z"
   },
   {
    "duration": 0,
    "start_time": "2024-09-15T13:54:14.003Z"
   },
   {
    "duration": 0,
    "start_time": "2024-09-15T13:54:14.003Z"
   },
   {
    "duration": 0,
    "start_time": "2024-09-15T13:54:14.004Z"
   },
   {
    "duration": 0,
    "start_time": "2024-09-15T13:54:14.006Z"
   },
   {
    "duration": 0,
    "start_time": "2024-09-15T13:54:14.007Z"
   },
   {
    "duration": 0,
    "start_time": "2024-09-15T13:54:14.010Z"
   },
   {
    "duration": 0,
    "start_time": "2024-09-15T13:54:14.011Z"
   },
   {
    "duration": 0,
    "start_time": "2024-09-15T13:54:14.013Z"
   },
   {
    "duration": 0,
    "start_time": "2024-09-15T13:54:14.014Z"
   },
   {
    "duration": 0,
    "start_time": "2024-09-15T13:54:14.017Z"
   },
   {
    "duration": 0,
    "start_time": "2024-09-15T13:54:14.018Z"
   },
   {
    "duration": 1,
    "start_time": "2024-09-15T13:54:14.019Z"
   },
   {
    "duration": 0,
    "start_time": "2024-09-15T13:54:14.021Z"
   },
   {
    "duration": 0,
    "start_time": "2024-09-15T13:54:14.022Z"
   },
   {
    "duration": 0,
    "start_time": "2024-09-15T13:54:14.024Z"
   },
   {
    "duration": 0,
    "start_time": "2024-09-15T13:54:14.026Z"
   },
   {
    "duration": 0,
    "start_time": "2024-09-15T13:54:14.027Z"
   },
   {
    "duration": 0,
    "start_time": "2024-09-15T13:54:14.070Z"
   },
   {
    "duration": 0,
    "start_time": "2024-09-15T13:54:14.071Z"
   },
   {
    "duration": 0,
    "start_time": "2024-09-15T13:54:14.072Z"
   },
   {
    "duration": 0,
    "start_time": "2024-09-15T13:54:14.073Z"
   },
   {
    "duration": 0,
    "start_time": "2024-09-15T13:54:14.073Z"
   },
   {
    "duration": 0,
    "start_time": "2024-09-15T13:54:14.075Z"
   },
   {
    "duration": 0,
    "start_time": "2024-09-15T13:54:14.077Z"
   },
   {
    "duration": 0,
    "start_time": "2024-09-15T13:54:14.078Z"
   },
   {
    "duration": 0,
    "start_time": "2024-09-15T13:54:14.079Z"
   },
   {
    "duration": 0,
    "start_time": "2024-09-15T13:54:14.080Z"
   },
   {
    "duration": 0,
    "start_time": "2024-09-15T13:54:14.082Z"
   },
   {
    "duration": 0,
    "start_time": "2024-09-15T13:54:14.083Z"
   },
   {
    "duration": 0,
    "start_time": "2024-09-15T13:54:14.084Z"
   },
   {
    "duration": 0,
    "start_time": "2024-09-15T13:54:14.085Z"
   },
   {
    "duration": 791,
    "start_time": "2024-09-15T13:55:37.679Z"
   },
   {
    "duration": 155,
    "start_time": "2024-09-15T13:55:38.472Z"
   },
   {
    "duration": 9,
    "start_time": "2024-09-15T13:55:38.629Z"
   },
   {
    "duration": 9,
    "start_time": "2024-09-15T13:55:38.641Z"
   },
   {
    "duration": 24,
    "start_time": "2024-09-15T13:55:38.652Z"
   },
   {
    "duration": 9,
    "start_time": "2024-09-15T13:55:38.677Z"
   },
   {
    "duration": 9,
    "start_time": "2024-09-15T13:55:38.687Z"
   },
   {
    "duration": 8,
    "start_time": "2024-09-15T13:55:38.697Z"
   },
   {
    "duration": 458,
    "start_time": "2024-09-15T13:55:38.707Z"
   },
   {
    "duration": 0,
    "start_time": "2024-09-15T13:55:39.170Z"
   },
   {
    "duration": 0,
    "start_time": "2024-09-15T13:55:39.172Z"
   },
   {
    "duration": 0,
    "start_time": "2024-09-15T13:55:39.173Z"
   },
   {
    "duration": 0,
    "start_time": "2024-09-15T13:55:39.175Z"
   },
   {
    "duration": 0,
    "start_time": "2024-09-15T13:55:39.176Z"
   },
   {
    "duration": 0,
    "start_time": "2024-09-15T13:55:39.177Z"
   },
   {
    "duration": 0,
    "start_time": "2024-09-15T13:55:39.178Z"
   },
   {
    "duration": 0,
    "start_time": "2024-09-15T13:55:39.179Z"
   },
   {
    "duration": 0,
    "start_time": "2024-09-15T13:55:39.180Z"
   },
   {
    "duration": 0,
    "start_time": "2024-09-15T13:55:39.182Z"
   },
   {
    "duration": 0,
    "start_time": "2024-09-15T13:55:39.183Z"
   },
   {
    "duration": 0,
    "start_time": "2024-09-15T13:55:39.184Z"
   },
   {
    "duration": 0,
    "start_time": "2024-09-15T13:55:39.185Z"
   },
   {
    "duration": 0,
    "start_time": "2024-09-15T13:55:39.186Z"
   },
   {
    "duration": 0,
    "start_time": "2024-09-15T13:55:39.187Z"
   },
   {
    "duration": 0,
    "start_time": "2024-09-15T13:55:39.188Z"
   },
   {
    "duration": 0,
    "start_time": "2024-09-15T13:55:39.190Z"
   },
   {
    "duration": 0,
    "start_time": "2024-09-15T13:55:39.191Z"
   },
   {
    "duration": 0,
    "start_time": "2024-09-15T13:55:39.192Z"
   },
   {
    "duration": 0,
    "start_time": "2024-09-15T13:55:39.193Z"
   },
   {
    "duration": 0,
    "start_time": "2024-09-15T13:55:39.194Z"
   },
   {
    "duration": 0,
    "start_time": "2024-09-15T13:55:39.196Z"
   },
   {
    "duration": 0,
    "start_time": "2024-09-15T13:55:39.197Z"
   },
   {
    "duration": 0,
    "start_time": "2024-09-15T13:55:39.198Z"
   },
   {
    "duration": 0,
    "start_time": "2024-09-15T13:55:39.199Z"
   },
   {
    "duration": 0,
    "start_time": "2024-09-15T13:55:39.199Z"
   },
   {
    "duration": 0,
    "start_time": "2024-09-15T13:55:39.201Z"
   },
   {
    "duration": 0,
    "start_time": "2024-09-15T13:55:39.202Z"
   },
   {
    "duration": 0,
    "start_time": "2024-09-15T13:55:39.203Z"
   },
   {
    "duration": 0,
    "start_time": "2024-09-15T13:55:39.204Z"
   },
   {
    "duration": 0,
    "start_time": "2024-09-15T13:55:39.205Z"
   },
   {
    "duration": 0,
    "start_time": "2024-09-15T13:55:39.206Z"
   },
   {
    "duration": 0,
    "start_time": "2024-09-15T13:55:39.207Z"
   },
   {
    "duration": 797,
    "start_time": "2024-09-15T13:58:10.793Z"
   },
   {
    "duration": 158,
    "start_time": "2024-09-15T13:58:11.593Z"
   },
   {
    "duration": 9,
    "start_time": "2024-09-15T13:58:11.754Z"
   },
   {
    "duration": 13,
    "start_time": "2024-09-15T13:58:11.765Z"
   },
   {
    "duration": 10,
    "start_time": "2024-09-15T13:58:11.779Z"
   },
   {
    "duration": 9,
    "start_time": "2024-09-15T13:58:11.791Z"
   },
   {
    "duration": 9,
    "start_time": "2024-09-15T13:58:11.803Z"
   },
   {
    "duration": 8,
    "start_time": "2024-09-15T13:58:11.813Z"
   },
   {
    "duration": 469,
    "start_time": "2024-09-15T13:58:11.824Z"
   },
   {
    "duration": 0,
    "start_time": "2024-09-15T13:58:12.296Z"
   },
   {
    "duration": 0,
    "start_time": "2024-09-15T13:58:12.297Z"
   },
   {
    "duration": 0,
    "start_time": "2024-09-15T13:58:12.298Z"
   },
   {
    "duration": 0,
    "start_time": "2024-09-15T13:58:12.299Z"
   },
   {
    "duration": 0,
    "start_time": "2024-09-15T13:58:12.300Z"
   },
   {
    "duration": 0,
    "start_time": "2024-09-15T13:58:12.302Z"
   },
   {
    "duration": 0,
    "start_time": "2024-09-15T13:58:12.303Z"
   },
   {
    "duration": 0,
    "start_time": "2024-09-15T13:58:12.305Z"
   },
   {
    "duration": 0,
    "start_time": "2024-09-15T13:58:12.306Z"
   },
   {
    "duration": 0,
    "start_time": "2024-09-15T13:58:12.308Z"
   },
   {
    "duration": 0,
    "start_time": "2024-09-15T13:58:12.310Z"
   },
   {
    "duration": 0,
    "start_time": "2024-09-15T13:58:12.311Z"
   },
   {
    "duration": 0,
    "start_time": "2024-09-15T13:58:12.313Z"
   },
   {
    "duration": 0,
    "start_time": "2024-09-15T13:58:12.314Z"
   },
   {
    "duration": 0,
    "start_time": "2024-09-15T13:58:12.316Z"
   },
   {
    "duration": 0,
    "start_time": "2024-09-15T13:58:12.318Z"
   },
   {
    "duration": 0,
    "start_time": "2024-09-15T13:58:12.320Z"
   },
   {
    "duration": 0,
    "start_time": "2024-09-15T13:58:12.321Z"
   },
   {
    "duration": 0,
    "start_time": "2024-09-15T13:58:12.322Z"
   },
   {
    "duration": 0,
    "start_time": "2024-09-15T13:58:12.370Z"
   },
   {
    "duration": 0,
    "start_time": "2024-09-15T13:58:12.371Z"
   },
   {
    "duration": 0,
    "start_time": "2024-09-15T13:58:12.372Z"
   },
   {
    "duration": 0,
    "start_time": "2024-09-15T13:58:12.373Z"
   },
   {
    "duration": 0,
    "start_time": "2024-09-15T13:58:12.374Z"
   },
   {
    "duration": 0,
    "start_time": "2024-09-15T13:58:12.376Z"
   },
   {
    "duration": 0,
    "start_time": "2024-09-15T13:58:12.377Z"
   },
   {
    "duration": 0,
    "start_time": "2024-09-15T13:58:12.378Z"
   },
   {
    "duration": 0,
    "start_time": "2024-09-15T13:58:12.380Z"
   },
   {
    "duration": 0,
    "start_time": "2024-09-15T13:58:12.381Z"
   },
   {
    "duration": 0,
    "start_time": "2024-09-15T13:58:12.382Z"
   },
   {
    "duration": 0,
    "start_time": "2024-09-15T13:58:12.383Z"
   },
   {
    "duration": 0,
    "start_time": "2024-09-15T13:58:12.384Z"
   },
   {
    "duration": 0,
    "start_time": "2024-09-15T13:58:12.385Z"
   },
   {
    "duration": 752,
    "start_time": "2024-09-15T13:58:32.173Z"
   },
   {
    "duration": 155,
    "start_time": "2024-09-15T13:58:32.927Z"
   },
   {
    "duration": 9,
    "start_time": "2024-09-15T13:58:33.083Z"
   },
   {
    "duration": 9,
    "start_time": "2024-09-15T13:58:33.095Z"
   },
   {
    "duration": 8,
    "start_time": "2024-09-15T13:58:33.106Z"
   },
   {
    "duration": 8,
    "start_time": "2024-09-15T13:58:33.116Z"
   },
   {
    "duration": 8,
    "start_time": "2024-09-15T13:58:33.126Z"
   },
   {
    "duration": 36,
    "start_time": "2024-09-15T13:58:33.136Z"
   },
   {
    "duration": 450,
    "start_time": "2024-09-15T13:58:33.174Z"
   },
   {
    "duration": 0,
    "start_time": "2024-09-15T13:58:33.627Z"
   },
   {
    "duration": 0,
    "start_time": "2024-09-15T13:58:33.629Z"
   },
   {
    "duration": 0,
    "start_time": "2024-09-15T13:58:33.630Z"
   },
   {
    "duration": 0,
    "start_time": "2024-09-15T13:58:33.631Z"
   },
   {
    "duration": 0,
    "start_time": "2024-09-15T13:58:33.632Z"
   },
   {
    "duration": 0,
    "start_time": "2024-09-15T13:58:33.634Z"
   },
   {
    "duration": 0,
    "start_time": "2024-09-15T13:58:33.635Z"
   },
   {
    "duration": 0,
    "start_time": "2024-09-15T13:58:33.637Z"
   },
   {
    "duration": 0,
    "start_time": "2024-09-15T13:58:33.638Z"
   },
   {
    "duration": 0,
    "start_time": "2024-09-15T13:58:33.640Z"
   },
   {
    "duration": 0,
    "start_time": "2024-09-15T13:58:33.641Z"
   },
   {
    "duration": 0,
    "start_time": "2024-09-15T13:58:33.643Z"
   },
   {
    "duration": 0,
    "start_time": "2024-09-15T13:58:33.644Z"
   },
   {
    "duration": 0,
    "start_time": "2024-09-15T13:58:33.670Z"
   },
   {
    "duration": 0,
    "start_time": "2024-09-15T13:58:33.671Z"
   },
   {
    "duration": 0,
    "start_time": "2024-09-15T13:58:33.672Z"
   },
   {
    "duration": 0,
    "start_time": "2024-09-15T13:58:33.673Z"
   },
   {
    "duration": 0,
    "start_time": "2024-09-15T13:58:33.674Z"
   },
   {
    "duration": 0,
    "start_time": "2024-09-15T13:58:33.675Z"
   },
   {
    "duration": 0,
    "start_time": "2024-09-15T13:58:33.676Z"
   },
   {
    "duration": 0,
    "start_time": "2024-09-15T13:58:33.677Z"
   },
   {
    "duration": 0,
    "start_time": "2024-09-15T13:58:33.678Z"
   },
   {
    "duration": 0,
    "start_time": "2024-09-15T13:58:33.679Z"
   },
   {
    "duration": 0,
    "start_time": "2024-09-15T13:58:33.680Z"
   },
   {
    "duration": 0,
    "start_time": "2024-09-15T13:58:33.681Z"
   },
   {
    "duration": 0,
    "start_time": "2024-09-15T13:58:33.683Z"
   },
   {
    "duration": 0,
    "start_time": "2024-09-15T13:58:33.684Z"
   },
   {
    "duration": 0,
    "start_time": "2024-09-15T13:58:33.685Z"
   },
   {
    "duration": 0,
    "start_time": "2024-09-15T13:58:33.686Z"
   },
   {
    "duration": 0,
    "start_time": "2024-09-15T13:58:33.687Z"
   },
   {
    "duration": 0,
    "start_time": "2024-09-15T13:58:33.688Z"
   },
   {
    "duration": 0,
    "start_time": "2024-09-15T13:58:33.689Z"
   },
   {
    "duration": 0,
    "start_time": "2024-09-15T13:58:33.691Z"
   },
   {
    "duration": 206,
    "start_time": "2024-09-15T13:58:47.276Z"
   },
   {
    "duration": 752,
    "start_time": "2024-09-15T13:58:54.722Z"
   },
   {
    "duration": 154,
    "start_time": "2024-09-15T13:58:55.476Z"
   },
   {
    "duration": 10,
    "start_time": "2024-09-15T13:58:55.631Z"
   },
   {
    "duration": 9,
    "start_time": "2024-09-15T13:58:55.643Z"
   },
   {
    "duration": 23,
    "start_time": "2024-09-15T13:58:55.653Z"
   },
   {
    "duration": 8,
    "start_time": "2024-09-15T13:58:55.678Z"
   },
   {
    "duration": 9,
    "start_time": "2024-09-15T13:58:55.688Z"
   },
   {
    "duration": 9,
    "start_time": "2024-09-15T13:58:55.698Z"
   },
   {
    "duration": 14,
    "start_time": "2024-09-15T13:58:55.708Z"
   },
   {
    "duration": 47,
    "start_time": "2024-09-15T13:58:55.725Z"
   },
   {
    "duration": 10,
    "start_time": "2024-09-15T13:58:55.774Z"
   },
   {
    "duration": 13,
    "start_time": "2024-09-15T13:58:55.786Z"
   },
   {
    "duration": 3,
    "start_time": "2024-09-15T13:58:55.800Z"
   },
   {
    "duration": 27,
    "start_time": "2024-09-15T13:58:55.805Z"
   },
   {
    "duration": 42,
    "start_time": "2024-09-15T13:58:55.834Z"
   },
   {
    "duration": 7,
    "start_time": "2024-09-15T13:58:55.878Z"
   },
   {
    "duration": 24,
    "start_time": "2024-09-15T13:58:55.887Z"
   },
   {
    "duration": 62,
    "start_time": "2024-09-15T13:58:55.913Z"
   },
   {
    "duration": 8,
    "start_time": "2024-09-15T13:58:55.977Z"
   },
   {
    "duration": 13,
    "start_time": "2024-09-15T13:58:55.987Z"
   },
   {
    "duration": 75,
    "start_time": "2024-09-15T13:58:56.001Z"
   },
   {
    "duration": 9,
    "start_time": "2024-09-15T13:58:56.078Z"
   },
   {
    "duration": 82,
    "start_time": "2024-09-15T13:58:56.089Z"
   },
   {
    "duration": 15,
    "start_time": "2024-09-15T13:58:56.173Z"
   },
   {
    "duration": 12,
    "start_time": "2024-09-15T13:58:56.190Z"
   },
   {
    "duration": 12,
    "start_time": "2024-09-15T13:58:56.203Z"
   },
   {
    "duration": 74,
    "start_time": "2024-09-15T13:58:56.217Z"
   },
   {
    "duration": 12,
    "start_time": "2024-09-15T13:58:56.294Z"
   },
   {
    "duration": 63,
    "start_time": "2024-09-15T13:58:56.307Z"
   },
   {
    "duration": 22,
    "start_time": "2024-09-15T13:58:56.372Z"
   },
   {
    "duration": 76,
    "start_time": "2024-09-15T13:58:56.395Z"
   },
   {
    "duration": 477,
    "start_time": "2024-09-15T13:58:56.473Z"
   },
   {
    "duration": 164,
    "start_time": "2024-09-15T13:58:56.971Z"
   },
   {
    "duration": 9,
    "start_time": "2024-09-15T13:58:57.137Z"
   },
   {
    "duration": 22,
    "start_time": "2024-09-15T13:58:57.147Z"
   },
   {
    "duration": 206,
    "start_time": "2024-09-15T13:58:57.177Z"
   },
   {
    "duration": 226,
    "start_time": "2024-09-15T13:58:57.385Z"
   },
   {
    "duration": 244,
    "start_time": "2024-09-15T13:58:57.613Z"
   },
   {
    "duration": 248,
    "start_time": "2024-09-15T13:58:57.859Z"
   },
   {
    "duration": 183,
    "start_time": "2024-09-15T13:58:58.109Z"
   },
   {
    "duration": 2,
    "start_time": "2024-09-15T13:58:58.294Z"
   },
   {
    "duration": 2,
    "start_time": "2024-09-15T13:58:58.298Z"
   },
   {
    "duration": 460,
    "start_time": "2024-09-15T14:00:00.576Z"
   },
   {
    "duration": 774,
    "start_time": "2024-09-15T14:00:13.501Z"
   },
   {
    "duration": 154,
    "start_time": "2024-09-15T14:00:14.277Z"
   },
   {
    "duration": 9,
    "start_time": "2024-09-15T14:00:14.433Z"
   },
   {
    "duration": 25,
    "start_time": "2024-09-15T14:00:14.445Z"
   },
   {
    "duration": 8,
    "start_time": "2024-09-15T14:00:14.472Z"
   },
   {
    "duration": 8,
    "start_time": "2024-09-15T14:00:14.482Z"
   },
   {
    "duration": 10,
    "start_time": "2024-09-15T14:00:14.491Z"
   },
   {
    "duration": 8,
    "start_time": "2024-09-15T14:00:14.502Z"
   },
   {
    "duration": 5,
    "start_time": "2024-09-15T14:00:14.512Z"
   },
   {
    "duration": 861,
    "start_time": "2024-09-15T14:00:14.521Z"
   },
   {
    "duration": 0,
    "start_time": "2024-09-15T14:00:15.384Z"
   },
   {
    "duration": 0,
    "start_time": "2024-09-15T14:00:15.385Z"
   },
   {
    "duration": 0,
    "start_time": "2024-09-15T14:00:15.386Z"
   },
   {
    "duration": 0,
    "start_time": "2024-09-15T14:00:15.387Z"
   },
   {
    "duration": 0,
    "start_time": "2024-09-15T14:00:15.388Z"
   },
   {
    "duration": 0,
    "start_time": "2024-09-15T14:00:15.389Z"
   },
   {
    "duration": 0,
    "start_time": "2024-09-15T14:00:15.391Z"
   },
   {
    "duration": 0,
    "start_time": "2024-09-15T14:00:15.392Z"
   },
   {
    "duration": 0,
    "start_time": "2024-09-15T14:00:15.393Z"
   },
   {
    "duration": 0,
    "start_time": "2024-09-15T14:00:15.393Z"
   },
   {
    "duration": 0,
    "start_time": "2024-09-15T14:00:15.395Z"
   },
   {
    "duration": 0,
    "start_time": "2024-09-15T14:00:15.396Z"
   },
   {
    "duration": 0,
    "start_time": "2024-09-15T14:00:15.397Z"
   },
   {
    "duration": 0,
    "start_time": "2024-09-15T14:00:15.398Z"
   },
   {
    "duration": 0,
    "start_time": "2024-09-15T14:00:15.399Z"
   },
   {
    "duration": 0,
    "start_time": "2024-09-15T14:00:15.400Z"
   },
   {
    "duration": 0,
    "start_time": "2024-09-15T14:00:15.401Z"
   },
   {
    "duration": 0,
    "start_time": "2024-09-15T14:00:15.401Z"
   },
   {
    "duration": 0,
    "start_time": "2024-09-15T14:00:15.402Z"
   },
   {
    "duration": 0,
    "start_time": "2024-09-15T14:00:15.403Z"
   },
   {
    "duration": 0,
    "start_time": "2024-09-15T14:00:15.406Z"
   },
   {
    "duration": 0,
    "start_time": "2024-09-15T14:00:15.408Z"
   },
   {
    "duration": 0,
    "start_time": "2024-09-15T14:00:15.409Z"
   },
   {
    "duration": 0,
    "start_time": "2024-09-15T14:00:15.411Z"
   },
   {
    "duration": 0,
    "start_time": "2024-09-15T14:00:15.412Z"
   },
   {
    "duration": 0,
    "start_time": "2024-09-15T14:00:15.414Z"
   },
   {
    "duration": 0,
    "start_time": "2024-09-15T14:00:15.415Z"
   },
   {
    "duration": 0,
    "start_time": "2024-09-15T14:00:15.417Z"
   },
   {
    "duration": 0,
    "start_time": "2024-09-15T14:00:15.418Z"
   },
   {
    "duration": 0,
    "start_time": "2024-09-15T14:00:15.470Z"
   },
   {
    "duration": 0,
    "start_time": "2024-09-15T14:00:15.471Z"
   },
   {
    "duration": 0,
    "start_time": "2024-09-15T14:00:15.472Z"
   },
   {
    "duration": 0,
    "start_time": "2024-09-15T14:00:15.473Z"
   },
   {
    "duration": 201,
    "start_time": "2024-09-15T14:00:28.798Z"
   },
   {
    "duration": 766,
    "start_time": "2024-09-15T14:01:02.021Z"
   },
   {
    "duration": 154,
    "start_time": "2024-09-15T14:01:02.790Z"
   },
   {
    "duration": 8,
    "start_time": "2024-09-15T14:01:02.946Z"
   },
   {
    "duration": 20,
    "start_time": "2024-09-15T14:01:02.957Z"
   },
   {
    "duration": 9,
    "start_time": "2024-09-15T14:01:02.978Z"
   },
   {
    "duration": 9,
    "start_time": "2024-09-15T14:01:02.988Z"
   },
   {
    "duration": 9,
    "start_time": "2024-09-15T14:01:02.998Z"
   },
   {
    "duration": 8,
    "start_time": "2024-09-15T14:01:03.008Z"
   },
   {
    "duration": 5,
    "start_time": "2024-09-15T14:01:03.018Z"
   },
   {
    "duration": 477,
    "start_time": "2024-09-15T14:01:03.026Z"
   },
   {
    "duration": 0,
    "start_time": "2024-09-15T14:01:03.505Z"
   },
   {
    "duration": 0,
    "start_time": "2024-09-15T14:01:03.506Z"
   },
   {
    "duration": 0,
    "start_time": "2024-09-15T14:01:03.507Z"
   },
   {
    "duration": 0,
    "start_time": "2024-09-15T14:01:03.508Z"
   },
   {
    "duration": 0,
    "start_time": "2024-09-15T14:01:03.509Z"
   },
   {
    "duration": 0,
    "start_time": "2024-09-15T14:01:03.510Z"
   },
   {
    "duration": 0,
    "start_time": "2024-09-15T14:01:03.511Z"
   },
   {
    "duration": 0,
    "start_time": "2024-09-15T14:01:03.512Z"
   },
   {
    "duration": 0,
    "start_time": "2024-09-15T14:01:03.513Z"
   },
   {
    "duration": 0,
    "start_time": "2024-09-15T14:01:03.514Z"
   },
   {
    "duration": 0,
    "start_time": "2024-09-15T14:01:03.515Z"
   },
   {
    "duration": 0,
    "start_time": "2024-09-15T14:01:03.516Z"
   },
   {
    "duration": 0,
    "start_time": "2024-09-15T14:01:03.517Z"
   },
   {
    "duration": 0,
    "start_time": "2024-09-15T14:01:03.518Z"
   },
   {
    "duration": 0,
    "start_time": "2024-09-15T14:01:03.519Z"
   },
   {
    "duration": 0,
    "start_time": "2024-09-15T14:01:03.520Z"
   },
   {
    "duration": 0,
    "start_time": "2024-09-15T14:01:03.521Z"
   },
   {
    "duration": 0,
    "start_time": "2024-09-15T14:01:03.522Z"
   },
   {
    "duration": 0,
    "start_time": "2024-09-15T14:01:03.524Z"
   },
   {
    "duration": 0,
    "start_time": "2024-09-15T14:01:03.525Z"
   },
   {
    "duration": 0,
    "start_time": "2024-09-15T14:01:03.526Z"
   },
   {
    "duration": 0,
    "start_time": "2024-09-15T14:01:03.527Z"
   },
   {
    "duration": 0,
    "start_time": "2024-09-15T14:01:03.528Z"
   },
   {
    "duration": 0,
    "start_time": "2024-09-15T14:01:03.529Z"
   },
   {
    "duration": 0,
    "start_time": "2024-09-15T14:01:03.530Z"
   },
   {
    "duration": 0,
    "start_time": "2024-09-15T14:01:03.531Z"
   },
   {
    "duration": 0,
    "start_time": "2024-09-15T14:01:03.532Z"
   },
   {
    "duration": 0,
    "start_time": "2024-09-15T14:01:03.535Z"
   },
   {
    "duration": 0,
    "start_time": "2024-09-15T14:01:03.536Z"
   },
   {
    "duration": 0,
    "start_time": "2024-09-15T14:01:03.537Z"
   },
   {
    "duration": 0,
    "start_time": "2024-09-15T14:01:03.538Z"
   },
   {
    "duration": 0,
    "start_time": "2024-09-15T14:01:03.570Z"
   },
   {
    "duration": 0,
    "start_time": "2024-09-15T14:01:03.571Z"
   },
   {
    "duration": 780,
    "start_time": "2024-09-15T14:02:53.414Z"
   },
   {
    "duration": 310,
    "start_time": "2024-09-15T14:02:54.197Z"
   },
   {
    "duration": 9,
    "start_time": "2024-09-15T14:02:54.509Z"
   },
   {
    "duration": 13,
    "start_time": "2024-09-15T14:02:54.571Z"
   },
   {
    "duration": 10,
    "start_time": "2024-09-15T14:02:54.586Z"
   },
   {
    "duration": 12,
    "start_time": "2024-09-15T14:02:54.598Z"
   },
   {
    "duration": 67,
    "start_time": "2024-09-15T14:02:54.612Z"
   },
   {
    "duration": 10,
    "start_time": "2024-09-15T14:02:54.681Z"
   },
   {
    "duration": 15,
    "start_time": "2024-09-15T14:02:54.692Z"
   },
   {
    "duration": 325,
    "start_time": "2024-09-15T14:02:54.709Z"
   },
   {
    "duration": 0,
    "start_time": "2024-09-15T14:02:55.037Z"
   },
   {
    "duration": 0,
    "start_time": "2024-09-15T14:02:55.038Z"
   },
   {
    "duration": 0,
    "start_time": "2024-09-15T14:02:55.040Z"
   },
   {
    "duration": 0,
    "start_time": "2024-09-15T14:02:55.041Z"
   },
   {
    "duration": 0,
    "start_time": "2024-09-15T14:02:55.043Z"
   },
   {
    "duration": 0,
    "start_time": "2024-09-15T14:02:55.044Z"
   },
   {
    "duration": 0,
    "start_time": "2024-09-15T14:02:55.046Z"
   },
   {
    "duration": 0,
    "start_time": "2024-09-15T14:02:55.047Z"
   },
   {
    "duration": 0,
    "start_time": "2024-09-15T14:02:55.049Z"
   },
   {
    "duration": 0,
    "start_time": "2024-09-15T14:02:55.070Z"
   },
   {
    "duration": 0,
    "start_time": "2024-09-15T14:02:55.071Z"
   },
   {
    "duration": 0,
    "start_time": "2024-09-15T14:02:55.073Z"
   },
   {
    "duration": 1,
    "start_time": "2024-09-15T14:02:55.074Z"
   },
   {
    "duration": 0,
    "start_time": "2024-09-15T14:02:55.076Z"
   },
   {
    "duration": 0,
    "start_time": "2024-09-15T14:02:55.078Z"
   },
   {
    "duration": 0,
    "start_time": "2024-09-15T14:02:55.079Z"
   },
   {
    "duration": 0,
    "start_time": "2024-09-15T14:02:55.080Z"
   },
   {
    "duration": 0,
    "start_time": "2024-09-15T14:02:55.082Z"
   },
   {
    "duration": 0,
    "start_time": "2024-09-15T14:02:55.084Z"
   },
   {
    "duration": 0,
    "start_time": "2024-09-15T14:02:55.085Z"
   },
   {
    "duration": 0,
    "start_time": "2024-09-15T14:02:55.087Z"
   },
   {
    "duration": 0,
    "start_time": "2024-09-15T14:02:55.088Z"
   },
   {
    "duration": 0,
    "start_time": "2024-09-15T14:02:55.090Z"
   },
   {
    "duration": 0,
    "start_time": "2024-09-15T14:02:55.091Z"
   },
   {
    "duration": 0,
    "start_time": "2024-09-15T14:02:55.093Z"
   },
   {
    "duration": 0,
    "start_time": "2024-09-15T14:02:55.094Z"
   },
   {
    "duration": 0,
    "start_time": "2024-09-15T14:02:55.096Z"
   },
   {
    "duration": 0,
    "start_time": "2024-09-15T14:02:55.097Z"
   },
   {
    "duration": 0,
    "start_time": "2024-09-15T14:02:55.098Z"
   },
   {
    "duration": 0,
    "start_time": "2024-09-15T14:02:55.099Z"
   },
   {
    "duration": 0,
    "start_time": "2024-09-15T14:02:55.100Z"
   },
   {
    "duration": 0,
    "start_time": "2024-09-15T14:02:55.102Z"
   },
   {
    "duration": 0,
    "start_time": "2024-09-15T14:02:55.103Z"
   },
   {
    "duration": 386,
    "start_time": "2024-09-15T14:04:17.248Z"
   },
   {
    "duration": 48,
    "start_time": "2024-09-15T14:04:30.356Z"
   },
   {
    "duration": 770,
    "start_time": "2024-09-15T14:04:58.580Z"
   },
   {
    "duration": 155,
    "start_time": "2024-09-15T14:04:59.352Z"
   },
   {
    "duration": 10,
    "start_time": "2024-09-15T14:04:59.508Z"
   },
   {
    "duration": 8,
    "start_time": "2024-09-15T14:04:59.521Z"
   },
   {
    "duration": 8,
    "start_time": "2024-09-15T14:04:59.531Z"
   },
   {
    "duration": 34,
    "start_time": "2024-09-15T14:04:59.541Z"
   },
   {
    "duration": 9,
    "start_time": "2024-09-15T14:04:59.576Z"
   },
   {
    "duration": 8,
    "start_time": "2024-09-15T14:04:59.586Z"
   },
   {
    "duration": 15,
    "start_time": "2024-09-15T14:04:59.595Z"
   },
   {
    "duration": 14,
    "start_time": "2024-09-15T14:04:59.613Z"
   },
   {
    "duration": 43,
    "start_time": "2024-09-15T14:04:59.629Z"
   },
   {
    "duration": 13,
    "start_time": "2024-09-15T14:04:59.674Z"
   },
   {
    "duration": 3,
    "start_time": "2024-09-15T14:04:59.689Z"
   },
   {
    "duration": 29,
    "start_time": "2024-09-15T14:04:59.693Z"
   },
   {
    "duration": 57,
    "start_time": "2024-09-15T14:04:59.724Z"
   },
   {
    "duration": 8,
    "start_time": "2024-09-15T14:04:59.782Z"
   },
   {
    "duration": 20,
    "start_time": "2024-09-15T14:04:59.791Z"
   },
   {
    "duration": 73,
    "start_time": "2024-09-15T14:04:59.812Z"
   },
   {
    "duration": 9,
    "start_time": "2024-09-15T14:04:59.887Z"
   },
   {
    "duration": 14,
    "start_time": "2024-09-15T14:04:59.897Z"
   },
   {
    "duration": 75,
    "start_time": "2024-09-15T14:04:59.912Z"
   },
   {
    "duration": 7,
    "start_time": "2024-09-15T14:04:59.989Z"
   },
   {
    "duration": 81,
    "start_time": "2024-09-15T14:04:59.997Z"
   },
   {
    "duration": 16,
    "start_time": "2024-09-15T14:05:00.080Z"
   },
   {
    "duration": 13,
    "start_time": "2024-09-15T14:05:00.097Z"
   },
   {
    "duration": 74,
    "start_time": "2024-09-15T14:05:00.112Z"
   },
   {
    "duration": 23,
    "start_time": "2024-09-15T14:05:00.188Z"
   },
   {
    "duration": 64,
    "start_time": "2024-09-15T14:05:00.215Z"
   },
   {
    "duration": 8,
    "start_time": "2024-09-15T14:05:00.281Z"
   },
   {
    "duration": 84,
    "start_time": "2024-09-15T14:05:00.291Z"
   },
   {
    "duration": 94,
    "start_time": "2024-09-15T14:05:00.377Z"
   },
   {
    "duration": 339,
    "start_time": "2024-09-15T14:05:00.473Z"
   },
   {
    "duration": 163,
    "start_time": "2024-09-15T14:05:00.814Z"
   },
   {
    "duration": 8,
    "start_time": "2024-09-15T14:05:00.979Z"
   },
   {
    "duration": 6,
    "start_time": "2024-09-15T14:05:00.990Z"
   },
   {
    "duration": 215,
    "start_time": "2024-09-15T14:05:00.999Z"
   },
   {
    "duration": 228,
    "start_time": "2024-09-15T14:05:01.216Z"
   },
   {
    "duration": 251,
    "start_time": "2024-09-15T14:05:01.446Z"
   },
   {
    "duration": 233,
    "start_time": "2024-09-15T14:05:01.699Z"
   },
   {
    "duration": 178,
    "start_time": "2024-09-15T14:05:01.934Z"
   },
   {
    "duration": 2,
    "start_time": "2024-09-15T14:05:02.114Z"
   },
   {
    "duration": 3,
    "start_time": "2024-09-15T14:05:02.117Z"
   },
   {
    "duration": 2510,
    "start_time": "2024-09-16T10:29:32.451Z"
   },
   {
    "duration": 262,
    "start_time": "2024-09-16T10:29:34.963Z"
   },
   {
    "duration": 9,
    "start_time": "2024-09-16T10:29:35.227Z"
   },
   {
    "duration": 10,
    "start_time": "2024-09-16T10:29:35.239Z"
   },
   {
    "duration": 8,
    "start_time": "2024-09-16T10:29:35.251Z"
   },
   {
    "duration": 9,
    "start_time": "2024-09-16T10:29:35.260Z"
   },
   {
    "duration": 8,
    "start_time": "2024-09-16T10:29:35.271Z"
   },
   {
    "duration": 7,
    "start_time": "2024-09-16T10:29:35.281Z"
   },
   {
    "duration": 56,
    "start_time": "2024-09-16T10:29:35.290Z"
   },
   {
    "duration": 46,
    "start_time": "2024-09-16T10:29:35.349Z"
   },
   {
    "duration": 10,
    "start_time": "2024-09-16T10:29:35.397Z"
   },
   {
    "duration": 14,
    "start_time": "2024-09-16T10:29:35.408Z"
   },
   {
    "duration": 3,
    "start_time": "2024-09-16T10:29:35.423Z"
   },
   {
    "duration": 29,
    "start_time": "2024-09-16T10:29:35.428Z"
   },
   {
    "duration": 11,
    "start_time": "2024-09-16T10:29:35.458Z"
   },
   {
    "duration": 7,
    "start_time": "2024-09-16T10:29:35.471Z"
   },
   {
    "duration": 19,
    "start_time": "2024-09-16T10:29:35.480Z"
   },
   {
    "duration": 38,
    "start_time": "2024-09-16T10:29:35.501Z"
   },
   {
    "duration": 9,
    "start_time": "2024-09-16T10:29:35.540Z"
   },
   {
    "duration": 15,
    "start_time": "2024-09-16T10:29:35.550Z"
   },
   {
    "duration": 23,
    "start_time": "2024-09-16T10:29:35.567Z"
   },
   {
    "duration": 6,
    "start_time": "2024-09-16T10:29:35.592Z"
   },
   {
    "duration": 46,
    "start_time": "2024-09-16T10:29:35.600Z"
   },
   {
    "duration": 15,
    "start_time": "2024-09-16T10:29:35.648Z"
   },
   {
    "duration": 14,
    "start_time": "2024-09-16T10:29:35.664Z"
   },
   {
    "duration": 12,
    "start_time": "2024-09-16T10:29:35.679Z"
   },
   {
    "duration": 48,
    "start_time": "2024-09-16T10:29:35.693Z"
   },
   {
    "duration": 12,
    "start_time": "2024-09-16T10:29:35.745Z"
   },
   {
    "duration": 8,
    "start_time": "2024-09-16T10:29:35.759Z"
   },
   {
    "duration": 20,
    "start_time": "2024-09-16T10:29:35.769Z"
   },
   {
    "duration": 54,
    "start_time": "2024-09-16T10:29:35.790Z"
   },
   {
    "duration": 297,
    "start_time": "2024-09-16T10:29:35.845Z"
   },
   {
    "duration": 163,
    "start_time": "2024-09-16T10:29:36.144Z"
   },
   {
    "duration": 8,
    "start_time": "2024-09-16T10:29:36.309Z"
   },
   {
    "duration": 17,
    "start_time": "2024-09-16T10:29:36.319Z"
   },
   {
    "duration": 162,
    "start_time": "2024-09-16T10:29:36.338Z"
   },
   {
    "duration": 279,
    "start_time": "2024-09-16T10:29:36.502Z"
   },
   {
    "duration": 252,
    "start_time": "2024-09-16T10:29:36.783Z"
   },
   {
    "duration": 247,
    "start_time": "2024-09-16T10:29:37.037Z"
   },
   {
    "duration": 182,
    "start_time": "2024-09-16T10:29:37.286Z"
   },
   {
    "duration": 2,
    "start_time": "2024-09-16T10:29:37.470Z"
   },
   {
    "duration": 3,
    "start_time": "2024-09-16T10:29:37.473Z"
   },
   {
    "duration": 2,
    "start_time": "2024-09-16T11:30:49.379Z"
   },
   {
    "duration": 6,
    "start_time": "2024-09-16T11:31:29.382Z"
   },
   {
    "duration": 3,
    "start_time": "2024-09-16T11:51:36.490Z"
   },
   {
    "duration": 603,
    "start_time": "2024-09-16T12:01:34.016Z"
   },
   {
    "duration": 780,
    "start_time": "2024-09-16T12:02:05.378Z"
   },
   {
    "duration": 165,
    "start_time": "2024-09-16T12:02:06.160Z"
   },
   {
    "duration": 9,
    "start_time": "2024-09-16T12:02:06.327Z"
   },
   {
    "duration": 10,
    "start_time": "2024-09-16T12:02:06.337Z"
   },
   {
    "duration": 8,
    "start_time": "2024-09-16T12:02:06.349Z"
   },
   {
    "duration": 9,
    "start_time": "2024-09-16T12:02:06.358Z"
   },
   {
    "duration": 10,
    "start_time": "2024-09-16T12:02:06.368Z"
   },
   {
    "duration": 9,
    "start_time": "2024-09-16T12:02:06.381Z"
   },
   {
    "duration": 44,
    "start_time": "2024-09-16T12:02:06.392Z"
   },
   {
    "duration": 15,
    "start_time": "2024-09-16T12:02:06.437Z"
   },
   {
    "duration": 9,
    "start_time": "2024-09-16T12:02:06.453Z"
   },
   {
    "duration": 13,
    "start_time": "2024-09-16T12:02:06.464Z"
   },
   {
    "duration": 3,
    "start_time": "2024-09-16T12:02:06.479Z"
   },
   {
    "duration": 61,
    "start_time": "2024-09-16T12:02:06.486Z"
   },
   {
    "duration": 12,
    "start_time": "2024-09-16T12:02:06.549Z"
   },
   {
    "duration": 7,
    "start_time": "2024-09-16T12:02:06.562Z"
   },
   {
    "duration": 20,
    "start_time": "2024-09-16T12:02:06.571Z"
   },
   {
    "duration": 13,
    "start_time": "2024-09-16T12:02:06.593Z"
   },
   {
    "duration": 8,
    "start_time": "2024-09-16T12:02:06.631Z"
   },
   {
    "duration": 12,
    "start_time": "2024-09-16T12:02:06.641Z"
   },
   {
    "duration": 23,
    "start_time": "2024-09-16T12:02:06.656Z"
   },
   {
    "duration": 7,
    "start_time": "2024-09-16T12:02:06.681Z"
   },
   {
    "duration": 48,
    "start_time": "2024-09-16T12:02:06.690Z"
   },
   {
    "duration": 16,
    "start_time": "2024-09-16T12:02:06.740Z"
   },
   {
    "duration": 13,
    "start_time": "2024-09-16T12:02:06.757Z"
   },
   {
    "duration": 13,
    "start_time": "2024-09-16T12:02:06.772Z"
   },
   {
    "duration": 47,
    "start_time": "2024-09-16T12:02:06.786Z"
   },
   {
    "duration": 11,
    "start_time": "2024-09-16T12:02:06.835Z"
   },
   {
    "duration": 8,
    "start_time": "2024-09-16T12:02:06.848Z"
   },
   {
    "duration": 22,
    "start_time": "2024-09-16T12:02:06.858Z"
   },
   {
    "duration": 50,
    "start_time": "2024-09-16T12:02:06.882Z"
   },
   {
    "duration": 291,
    "start_time": "2024-09-16T12:02:06.934Z"
   },
   {
    "duration": 163,
    "start_time": "2024-09-16T12:02:07.232Z"
   },
   {
    "duration": 8,
    "start_time": "2024-09-16T12:02:07.397Z"
   },
   {
    "duration": 7,
    "start_time": "2024-09-16T12:02:07.407Z"
   },
   {
    "duration": 216,
    "start_time": "2024-09-16T12:02:07.432Z"
   },
   {
    "duration": 237,
    "start_time": "2024-09-16T12:02:07.650Z"
   },
   {
    "duration": 259,
    "start_time": "2024-09-16T12:02:07.889Z"
   },
   {
    "duration": 239,
    "start_time": "2024-09-16T12:02:08.150Z"
   },
   {
    "duration": 184,
    "start_time": "2024-09-16T12:02:08.391Z"
   },
   {
    "duration": 552,
    "start_time": "2024-09-16T12:02:08.580Z"
   },
   {
    "duration": 0,
    "start_time": "2024-09-16T12:02:09.134Z"
   },
   {
    "duration": 46,
    "start_time": "2024-09-16T12:02:21.831Z"
   },
   {
    "duration": 759,
    "start_time": "2024-09-16T12:04:37.599Z"
   },
   {
    "duration": 162,
    "start_time": "2024-09-16T12:04:38.360Z"
   },
   {
    "duration": 9,
    "start_time": "2024-09-16T12:04:38.524Z"
   },
   {
    "duration": 9,
    "start_time": "2024-09-16T12:04:38.535Z"
   },
   {
    "duration": 8,
    "start_time": "2024-09-16T12:04:38.547Z"
   },
   {
    "duration": 8,
    "start_time": "2024-09-16T12:04:38.557Z"
   },
   {
    "duration": 10,
    "start_time": "2024-09-16T12:04:38.567Z"
   },
   {
    "duration": 9,
    "start_time": "2024-09-16T12:04:38.578Z"
   },
   {
    "duration": 51,
    "start_time": "2024-09-16T12:04:38.589Z"
   },
   {
    "duration": 14,
    "start_time": "2024-09-16T12:04:38.642Z"
   },
   {
    "duration": 9,
    "start_time": "2024-09-16T12:04:38.658Z"
   },
   {
    "duration": 13,
    "start_time": "2024-09-16T12:04:38.668Z"
   },
   {
    "duration": 3,
    "start_time": "2024-09-16T12:04:38.683Z"
   },
   {
    "duration": 57,
    "start_time": "2024-09-16T12:04:38.690Z"
   },
   {
    "duration": 11,
    "start_time": "2024-09-16T12:04:38.749Z"
   },
   {
    "duration": 8,
    "start_time": "2024-09-16T12:04:38.761Z"
   },
   {
    "duration": 19,
    "start_time": "2024-09-16T12:04:38.770Z"
   },
   {
    "duration": 13,
    "start_time": "2024-09-16T12:04:38.791Z"
   },
   {
    "duration": 10,
    "start_time": "2024-09-16T12:04:38.831Z"
   },
   {
    "duration": 14,
    "start_time": "2024-09-16T12:04:38.842Z"
   },
   {
    "duration": 23,
    "start_time": "2024-09-16T12:04:38.857Z"
   },
   {
    "duration": 7,
    "start_time": "2024-09-16T12:04:38.882Z"
   },
   {
    "duration": 52,
    "start_time": "2024-09-16T12:04:38.890Z"
   },
   {
    "duration": 15,
    "start_time": "2024-09-16T12:04:38.944Z"
   },
   {
    "duration": 13,
    "start_time": "2024-09-16T12:04:38.961Z"
   },
   {
    "duration": 12,
    "start_time": "2024-09-16T12:04:38.975Z"
   },
   {
    "duration": 44,
    "start_time": "2024-09-16T12:04:38.989Z"
   },
   {
    "duration": 11,
    "start_time": "2024-09-16T12:04:39.035Z"
   },
   {
    "duration": 8,
    "start_time": "2024-09-16T12:04:39.048Z"
   },
   {
    "duration": 19,
    "start_time": "2024-09-16T12:04:39.058Z"
   },
   {
    "duration": 53,
    "start_time": "2024-09-16T12:04:39.079Z"
   },
   {
    "duration": 299,
    "start_time": "2024-09-16T12:04:39.134Z"
   },
   {
    "duration": 157,
    "start_time": "2024-09-16T12:04:39.435Z"
   },
   {
    "duration": 8,
    "start_time": "2024-09-16T12:04:39.594Z"
   },
   {
    "duration": 7,
    "start_time": "2024-09-16T12:04:39.603Z"
   },
   {
    "duration": 220,
    "start_time": "2024-09-16T12:04:39.612Z"
   },
   {
    "duration": 231,
    "start_time": "2024-09-16T12:04:39.834Z"
   },
   {
    "duration": 241,
    "start_time": "2024-09-16T12:04:40.066Z"
   },
   {
    "duration": 254,
    "start_time": "2024-09-16T12:04:40.309Z"
   },
   {
    "duration": 175,
    "start_time": "2024-09-16T12:04:40.565Z"
   },
   {
    "duration": 565,
    "start_time": "2024-09-16T12:04:40.745Z"
   },
   {
    "duration": 0,
    "start_time": "2024-09-16T12:04:41.312Z"
   },
   {
    "duration": 4,
    "start_time": "2024-09-16T12:09:32.126Z"
   },
   {
    "duration": 9,
    "start_time": "2024-09-16T12:17:49.564Z"
   },
   {
    "duration": 9,
    "start_time": "2024-09-16T12:18:16.601Z"
   },
   {
    "duration": 5,
    "start_time": "2024-09-16T12:18:36.413Z"
   },
   {
    "duration": 5,
    "start_time": "2024-09-16T12:18:59.964Z"
   },
   {
    "duration": 24,
    "start_time": "2024-09-16T12:23:28.162Z"
   },
   {
    "duration": 226,
    "start_time": "2024-09-16T12:24:17.167Z"
   },
   {
    "duration": 4,
    "start_time": "2024-09-16T12:24:45.228Z"
   },
   {
    "duration": 4,
    "start_time": "2024-09-16T12:24:56.769Z"
   },
   {
    "duration": 4,
    "start_time": "2024-09-16T12:25:11.784Z"
   },
   {
    "duration": 4,
    "start_time": "2024-09-16T12:30:08.924Z"
   },
   {
    "duration": 5,
    "start_time": "2024-09-16T12:30:18.817Z"
   },
   {
    "duration": 4,
    "start_time": "2024-09-16T12:55:23.813Z"
   },
   {
    "duration": 4,
    "start_time": "2024-09-16T12:56:14.140Z"
   },
   {
    "duration": 4,
    "start_time": "2024-09-16T12:56:44.781Z"
   },
   {
    "duration": 20,
    "start_time": "2024-09-16T13:02:42.465Z"
   },
   {
    "duration": 796,
    "start_time": "2024-09-16T13:07:06.145Z"
   },
   {
    "duration": 168,
    "start_time": "2024-09-16T13:07:06.944Z"
   },
   {
    "duration": 10,
    "start_time": "2024-09-16T13:07:07.114Z"
   },
   {
    "duration": 13,
    "start_time": "2024-09-16T13:07:07.126Z"
   },
   {
    "duration": 7,
    "start_time": "2024-09-16T13:07:07.142Z"
   },
   {
    "duration": 10,
    "start_time": "2024-09-16T13:07:07.151Z"
   },
   {
    "duration": 9,
    "start_time": "2024-09-16T13:07:07.162Z"
   },
   {
    "duration": 16,
    "start_time": "2024-09-16T13:07:07.173Z"
   },
   {
    "duration": 8,
    "start_time": "2024-09-16T13:07:07.191Z"
   },
   {
    "duration": 16,
    "start_time": "2024-09-16T13:07:07.232Z"
   },
   {
    "duration": 9,
    "start_time": "2024-09-16T13:07:07.249Z"
   },
   {
    "duration": 13,
    "start_time": "2024-09-16T13:07:07.260Z"
   },
   {
    "duration": 3,
    "start_time": "2024-09-16T13:07:07.275Z"
   },
   {
    "duration": 58,
    "start_time": "2024-09-16T13:07:07.279Z"
   },
   {
    "duration": 12,
    "start_time": "2024-09-16T13:07:07.339Z"
   },
   {
    "duration": 7,
    "start_time": "2024-09-16T13:07:07.352Z"
   },
   {
    "duration": 19,
    "start_time": "2024-09-16T13:07:07.361Z"
   },
   {
    "duration": 13,
    "start_time": "2024-09-16T13:07:07.381Z"
   },
   {
    "duration": 37,
    "start_time": "2024-09-16T13:07:07.396Z"
   },
   {
    "duration": 14,
    "start_time": "2024-09-16T13:07:07.434Z"
   },
   {
    "duration": 22,
    "start_time": "2024-09-16T13:07:07.450Z"
   },
   {
    "duration": 7,
    "start_time": "2024-09-16T13:07:07.474Z"
   },
   {
    "duration": 48,
    "start_time": "2024-09-16T13:07:07.483Z"
   },
   {
    "duration": 15,
    "start_time": "2024-09-16T13:07:07.533Z"
   },
   {
    "duration": 14,
    "start_time": "2024-09-16T13:07:07.550Z"
   },
   {
    "duration": 12,
    "start_time": "2024-09-16T13:07:07.565Z"
   },
   {
    "duration": 24,
    "start_time": "2024-09-16T13:07:07.579Z"
   },
   {
    "duration": 12,
    "start_time": "2024-09-16T13:07:07.631Z"
   },
   {
    "duration": 22,
    "start_time": "2024-09-16T13:07:07.645Z"
   },
   {
    "duration": 71,
    "start_time": "2024-09-16T13:07:07.669Z"
   },
   {
    "duration": 96,
    "start_time": "2024-09-16T13:07:07.743Z"
   },
   {
    "duration": 517,
    "start_time": "2024-09-16T13:07:07.841Z"
   },
   {
    "duration": 385,
    "start_time": "2024-09-16T13:07:08.360Z"
   },
   {
    "duration": 9,
    "start_time": "2024-09-16T13:07:08.747Z"
   },
   {
    "duration": 7,
    "start_time": "2024-09-16T13:07:08.758Z"
   },
   {
    "duration": 223,
    "start_time": "2024-09-16T13:07:08.767Z"
   },
   {
    "duration": 224,
    "start_time": "2024-09-16T13:07:08.992Z"
   },
   {
    "duration": 241,
    "start_time": "2024-09-16T13:07:09.218Z"
   },
   {
    "duration": 242,
    "start_time": "2024-09-16T13:07:09.461Z"
   },
   {
    "duration": 177,
    "start_time": "2024-09-16T13:07:09.705Z"
   },
   {
    "duration": 3,
    "start_time": "2024-09-16T13:07:09.884Z"
   },
   {
    "duration": 4,
    "start_time": "2024-09-16T13:07:09.889Z"
   },
   {
    "duration": 44,
    "start_time": "2024-09-16T13:07:09.894Z"
   },
   {
    "duration": 2,
    "start_time": "2024-09-16T13:07:09.940Z"
   },
   {
    "duration": 21,
    "start_time": "2024-09-16T13:09:07.333Z"
   },
   {
    "duration": 8,
    "start_time": "2024-09-16T13:11:30.687Z"
   },
   {
    "duration": 3,
    "start_time": "2024-09-16T13:13:48.239Z"
   },
   {
    "duration": 5,
    "start_time": "2024-09-16T13:14:10.005Z"
   },
   {
    "duration": 3,
    "start_time": "2024-09-16T13:14:32.985Z"
   },
   {
    "duration": 8,
    "start_time": "2024-09-16T13:14:48.313Z"
   },
   {
    "duration": 9,
    "start_time": "2024-09-16T13:15:03.084Z"
   },
   {
    "duration": 4,
    "start_time": "2024-09-16T13:15:40.723Z"
   },
   {
    "duration": 9,
    "start_time": "2024-09-16T13:17:06.348Z"
   },
   {
    "duration": 3,
    "start_time": "2024-09-16T13:17:37.528Z"
   },
   {
    "duration": 7,
    "start_time": "2024-09-16T13:18:11.804Z"
   },
   {
    "duration": 9,
    "start_time": "2024-09-16T13:18:28.599Z"
   },
   {
    "duration": 8,
    "start_time": "2024-09-16T13:18:47.888Z"
   },
   {
    "duration": 7,
    "start_time": "2024-09-16T13:19:00.184Z"
   },
   {
    "duration": 9,
    "start_time": "2024-09-16T13:19:30.336Z"
   },
   {
    "duration": 771,
    "start_time": "2024-09-16T13:19:50.085Z"
   },
   {
    "duration": 160,
    "start_time": "2024-09-16T13:19:50.858Z"
   },
   {
    "duration": 10,
    "start_time": "2024-09-16T13:19:51.020Z"
   },
   {
    "duration": 9,
    "start_time": "2024-09-16T13:19:51.031Z"
   },
   {
    "duration": 8,
    "start_time": "2024-09-16T13:19:51.043Z"
   },
   {
    "duration": 9,
    "start_time": "2024-09-16T13:19:51.052Z"
   },
   {
    "duration": 9,
    "start_time": "2024-09-16T13:19:51.062Z"
   },
   {
    "duration": 16,
    "start_time": "2024-09-16T13:19:51.073Z"
   },
   {
    "duration": 39,
    "start_time": "2024-09-16T13:19:51.091Z"
   },
   {
    "duration": 15,
    "start_time": "2024-09-16T13:19:51.132Z"
   },
   {
    "duration": 9,
    "start_time": "2024-09-16T13:19:51.148Z"
   },
   {
    "duration": 13,
    "start_time": "2024-09-16T13:19:51.159Z"
   },
   {
    "duration": 3,
    "start_time": "2024-09-16T13:19:51.174Z"
   },
   {
    "duration": 60,
    "start_time": "2024-09-16T13:19:51.182Z"
   },
   {
    "duration": 13,
    "start_time": "2024-09-16T13:19:51.243Z"
   },
   {
    "duration": 8,
    "start_time": "2024-09-16T13:19:51.257Z"
   },
   {
    "duration": 19,
    "start_time": "2024-09-16T13:19:51.266Z"
   },
   {
    "duration": 13,
    "start_time": "2024-09-16T13:19:51.287Z"
   },
   {
    "duration": 33,
    "start_time": "2024-09-16T13:19:51.301Z"
   },
   {
    "duration": 14,
    "start_time": "2024-09-16T13:19:51.336Z"
   },
   {
    "duration": 30,
    "start_time": "2024-09-16T13:19:51.352Z"
   },
   {
    "duration": 7,
    "start_time": "2024-09-16T13:19:51.383Z"
   },
   {
    "duration": 48,
    "start_time": "2024-09-16T13:19:51.392Z"
   },
   {
    "duration": 15,
    "start_time": "2024-09-16T13:19:51.441Z"
   },
   {
    "duration": 13,
    "start_time": "2024-09-16T13:19:51.458Z"
   },
   {
    "duration": 13,
    "start_time": "2024-09-16T13:19:51.473Z"
   },
   {
    "duration": 52,
    "start_time": "2024-09-16T13:19:51.487Z"
   },
   {
    "duration": 13,
    "start_time": "2024-09-16T13:19:51.540Z"
   },
   {
    "duration": 7,
    "start_time": "2024-09-16T13:19:51.554Z"
   },
   {
    "duration": 20,
    "start_time": "2024-09-16T13:19:51.563Z"
   },
   {
    "duration": 51,
    "start_time": "2024-09-16T13:19:51.585Z"
   },
   {
    "duration": 293,
    "start_time": "2024-09-16T13:19:51.638Z"
   },
   {
    "duration": 165,
    "start_time": "2024-09-16T13:19:51.933Z"
   },
   {
    "duration": 8,
    "start_time": "2024-09-16T13:19:52.100Z"
   },
   {
    "duration": 22,
    "start_time": "2024-09-16T13:19:52.109Z"
   },
   {
    "duration": 203,
    "start_time": "2024-09-16T13:19:52.133Z"
   },
   {
    "duration": 224,
    "start_time": "2024-09-16T13:19:52.338Z"
   },
   {
    "duration": 233,
    "start_time": "2024-09-16T13:19:52.564Z"
   },
   {
    "duration": 241,
    "start_time": "2024-09-16T13:19:52.799Z"
   },
   {
    "duration": 173,
    "start_time": "2024-09-16T13:19:53.042Z"
   },
   {
    "duration": 12,
    "start_time": "2024-09-16T13:19:53.220Z"
   },
   {
    "duration": 5,
    "start_time": "2024-09-16T13:19:53.233Z"
   },
   {
    "duration": 9,
    "start_time": "2024-09-16T13:19:53.240Z"
   },
   {
    "duration": 3,
    "start_time": "2024-09-16T13:19:53.250Z"
   },
   {
    "duration": 7,
    "start_time": "2024-09-16T13:20:08.803Z"
   },
   {
    "duration": 6,
    "start_time": "2024-09-16T13:20:36.273Z"
   },
   {
    "duration": 10,
    "start_time": "2024-09-16T13:21:02.313Z"
   },
   {
    "duration": 3,
    "start_time": "2024-09-16T13:21:45.703Z"
   },
   {
    "duration": 6,
    "start_time": "2024-09-16T13:21:51.197Z"
   },
   {
    "duration": 7,
    "start_time": "2024-09-16T13:25:56.794Z"
   },
   {
    "duration": 9,
    "start_time": "2024-09-16T13:26:12.519Z"
   },
   {
    "duration": 9,
    "start_time": "2024-09-16T13:26:18.057Z"
   },
   {
    "duration": 8,
    "start_time": "2024-09-16T13:26:25.432Z"
   },
   {
    "duration": 10,
    "start_time": "2024-09-16T13:28:30.782Z"
   },
   {
    "duration": 12,
    "start_time": "2024-09-16T13:31:41.142Z"
   },
   {
    "duration": 7,
    "start_time": "2024-09-16T13:34:45.016Z"
   },
   {
    "duration": 9,
    "start_time": "2024-09-16T13:34:50.223Z"
   },
   {
    "duration": 6,
    "start_time": "2024-09-16T13:34:53.775Z"
   },
   {
    "duration": 3,
    "start_time": "2024-09-16T13:35:19.796Z"
   },
   {
    "duration": 280,
    "start_time": "2024-09-16T13:35:54.409Z"
   },
   {
    "duration": 5,
    "start_time": "2024-09-16T13:36:01.145Z"
   },
   {
    "duration": 228,
    "start_time": "2024-09-16T13:37:56.995Z"
   },
   {
    "duration": 205,
    "start_time": "2024-09-16T13:39:20.457Z"
   },
   {
    "duration": 205,
    "start_time": "2024-09-16T13:39:55.020Z"
   },
   {
    "duration": 6,
    "start_time": "2024-09-16T13:41:27.476Z"
   },
   {
    "duration": 380,
    "start_time": "2024-09-16T13:41:41.784Z"
   },
   {
    "duration": 359,
    "start_time": "2024-09-16T13:43:44.379Z"
   },
   {
    "duration": 783,
    "start_time": "2024-09-16T13:44:12.473Z"
   },
   {
    "duration": 165,
    "start_time": "2024-09-16T13:44:13.258Z"
   },
   {
    "duration": 9,
    "start_time": "2024-09-16T13:44:13.425Z"
   },
   {
    "duration": 9,
    "start_time": "2024-09-16T13:44:13.437Z"
   },
   {
    "duration": 7,
    "start_time": "2024-09-16T13:44:13.448Z"
   },
   {
    "duration": 9,
    "start_time": "2024-09-16T13:44:13.457Z"
   },
   {
    "duration": 9,
    "start_time": "2024-09-16T13:44:13.469Z"
   },
   {
    "duration": 15,
    "start_time": "2024-09-16T13:44:13.479Z"
   },
   {
    "duration": 41,
    "start_time": "2024-09-16T13:44:13.496Z"
   },
   {
    "duration": 15,
    "start_time": "2024-09-16T13:44:13.542Z"
   },
   {
    "duration": 13,
    "start_time": "2024-09-16T13:44:13.559Z"
   },
   {
    "duration": 13,
    "start_time": "2024-09-16T13:44:13.575Z"
   },
   {
    "duration": 3,
    "start_time": "2024-09-16T13:44:13.590Z"
   },
   {
    "duration": 57,
    "start_time": "2024-09-16T13:44:13.595Z"
   },
   {
    "duration": 12,
    "start_time": "2024-09-16T13:44:13.654Z"
   },
   {
    "duration": 8,
    "start_time": "2024-09-16T13:44:13.667Z"
   },
   {
    "duration": 18,
    "start_time": "2024-09-16T13:44:13.677Z"
   },
   {
    "duration": 39,
    "start_time": "2024-09-16T13:44:13.697Z"
   },
   {
    "duration": 9,
    "start_time": "2024-09-16T13:44:13.739Z"
   },
   {
    "duration": 13,
    "start_time": "2024-09-16T13:44:13.750Z"
   },
   {
    "duration": 23,
    "start_time": "2024-09-16T13:44:13.764Z"
   },
   {
    "duration": 7,
    "start_time": "2024-09-16T13:44:13.789Z"
   },
   {
    "duration": 48,
    "start_time": "2024-09-16T13:44:13.797Z"
   },
   {
    "duration": 15,
    "start_time": "2024-09-16T13:44:13.847Z"
   },
   {
    "duration": 13,
    "start_time": "2024-09-16T13:44:13.863Z"
   },
   {
    "duration": 13,
    "start_time": "2024-09-16T13:44:13.878Z"
   },
   {
    "duration": 49,
    "start_time": "2024-09-16T13:44:13.892Z"
   },
   {
    "duration": 12,
    "start_time": "2024-09-16T13:44:13.945Z"
   },
   {
    "duration": 8,
    "start_time": "2024-09-16T13:44:13.959Z"
   },
   {
    "duration": 22,
    "start_time": "2024-09-16T13:44:13.969Z"
   },
   {
    "duration": 53,
    "start_time": "2024-09-16T13:44:13.992Z"
   },
   {
    "duration": 287,
    "start_time": "2024-09-16T13:44:14.047Z"
   },
   {
    "duration": 159,
    "start_time": "2024-09-16T13:44:14.336Z"
   },
   {
    "duration": 8,
    "start_time": "2024-09-16T13:44:14.497Z"
   },
   {
    "duration": 7,
    "start_time": "2024-09-16T13:44:14.507Z"
   },
   {
    "duration": 232,
    "start_time": "2024-09-16T13:44:14.515Z"
   },
   {
    "duration": 227,
    "start_time": "2024-09-16T13:44:14.748Z"
   },
   {
    "duration": 249,
    "start_time": "2024-09-16T13:44:14.977Z"
   },
   {
    "duration": 236,
    "start_time": "2024-09-16T13:44:15.228Z"
   },
   {
    "duration": 183,
    "start_time": "2024-09-16T13:44:15.467Z"
   },
   {
    "duration": 4,
    "start_time": "2024-09-16T13:44:15.652Z"
   },
   {
    "duration": 4,
    "start_time": "2024-09-16T13:44:15.658Z"
   },
   {
    "duration": 7,
    "start_time": "2024-09-16T13:44:15.664Z"
   },
   {
    "duration": 4,
    "start_time": "2024-09-16T13:44:15.672Z"
   },
   {
    "duration": 567,
    "start_time": "2024-09-16T13:44:15.677Z"
   },
   {
    "duration": 0,
    "start_time": "2024-09-16T13:44:16.246Z"
   },
   {
    "duration": 756,
    "start_time": "2024-09-16T13:44:28.025Z"
   },
   {
    "duration": 155,
    "start_time": "2024-09-16T13:44:28.783Z"
   },
   {
    "duration": 9,
    "start_time": "2024-09-16T13:44:28.940Z"
   },
   {
    "duration": 9,
    "start_time": "2024-09-16T13:44:28.952Z"
   },
   {
    "duration": 8,
    "start_time": "2024-09-16T13:44:28.963Z"
   },
   {
    "duration": 9,
    "start_time": "2024-09-16T13:44:28.973Z"
   },
   {
    "duration": 8,
    "start_time": "2024-09-16T13:44:28.984Z"
   },
   {
    "duration": 51,
    "start_time": "2024-09-16T13:44:28.994Z"
   },
   {
    "duration": 9,
    "start_time": "2024-09-16T13:44:29.046Z"
   },
   {
    "duration": 14,
    "start_time": "2024-09-16T13:44:29.058Z"
   },
   {
    "duration": 10,
    "start_time": "2024-09-16T13:44:29.073Z"
   },
   {
    "duration": 15,
    "start_time": "2024-09-16T13:44:29.084Z"
   },
   {
    "duration": 31,
    "start_time": "2024-09-16T13:44:29.100Z"
   },
   {
    "duration": 29,
    "start_time": "2024-09-16T13:44:29.133Z"
   },
   {
    "duration": 12,
    "start_time": "2024-09-16T13:44:29.164Z"
   },
   {
    "duration": 8,
    "start_time": "2024-09-16T13:44:29.177Z"
   },
   {
    "duration": 48,
    "start_time": "2024-09-16T13:44:29.186Z"
   },
   {
    "duration": 13,
    "start_time": "2024-09-16T13:44:29.236Z"
   },
   {
    "duration": 9,
    "start_time": "2024-09-16T13:44:29.251Z"
   },
   {
    "duration": 12,
    "start_time": "2024-09-16T13:44:29.262Z"
   },
   {
    "duration": 23,
    "start_time": "2024-09-16T13:44:29.276Z"
   },
   {
    "duration": 6,
    "start_time": "2024-09-16T13:44:29.331Z"
   },
   {
    "duration": 19,
    "start_time": "2024-09-16T13:44:29.339Z"
   },
   {
    "duration": 15,
    "start_time": "2024-09-16T13:44:29.360Z"
   },
   {
    "duration": 13,
    "start_time": "2024-09-16T13:44:29.377Z"
   },
   {
    "duration": 40,
    "start_time": "2024-09-16T13:44:29.391Z"
   },
   {
    "duration": 24,
    "start_time": "2024-09-16T13:44:29.433Z"
   },
   {
    "duration": 11,
    "start_time": "2024-09-16T13:44:29.461Z"
   },
   {
    "duration": 8,
    "start_time": "2024-09-16T13:44:29.474Z"
   },
   {
    "duration": 21,
    "start_time": "2024-09-16T13:44:29.483Z"
   },
   {
    "duration": 51,
    "start_time": "2024-09-16T13:44:29.505Z"
   },
   {
    "duration": 285,
    "start_time": "2024-09-16T13:44:29.558Z"
   },
   {
    "duration": 157,
    "start_time": "2024-09-16T13:44:29.844Z"
   },
   {
    "duration": 8,
    "start_time": "2024-09-16T13:44:30.003Z"
   },
   {
    "duration": 20,
    "start_time": "2024-09-16T13:44:30.013Z"
   },
   {
    "duration": 216,
    "start_time": "2024-09-16T13:44:30.035Z"
   },
   {
    "duration": 234,
    "start_time": "2024-09-16T13:44:30.253Z"
   },
   {
    "duration": 250,
    "start_time": "2024-09-16T13:44:30.489Z"
   },
   {
    "duration": 230,
    "start_time": "2024-09-16T13:44:30.741Z"
   },
   {
    "duration": 186,
    "start_time": "2024-09-16T13:44:30.973Z"
   },
   {
    "duration": 3,
    "start_time": "2024-09-16T13:44:31.162Z"
   },
   {
    "duration": 5,
    "start_time": "2024-09-16T13:44:31.168Z"
   },
   {
    "duration": 8,
    "start_time": "2024-09-16T13:44:31.174Z"
   },
   {
    "duration": 6,
    "start_time": "2024-09-16T13:44:31.183Z"
   },
   {
    "duration": 5,
    "start_time": "2024-09-16T13:44:31.190Z"
   },
   {
    "duration": 704,
    "start_time": "2024-09-16T13:44:31.197Z"
   },
   {
    "duration": 6,
    "start_time": "2024-09-16T13:45:25.601Z"
   },
   {
    "duration": 295,
    "start_time": "2024-09-16T13:45:33.460Z"
   },
   {
    "duration": 438,
    "start_time": "2024-09-16T13:45:49.880Z"
   },
   {
    "duration": 12,
    "start_time": "2024-09-16T13:47:43.768Z"
   },
   {
    "duration": 6,
    "start_time": "2024-09-16T13:47:48.344Z"
   },
   {
    "duration": 306,
    "start_time": "2024-09-16T13:47:54.278Z"
   },
   {
    "duration": 878,
    "start_time": "2024-09-16T13:48:25.642Z"
   },
   {
    "duration": 468,
    "start_time": "2024-09-16T13:49:12.767Z"
   },
   {
    "duration": 326,
    "start_time": "2024-09-16T13:50:32.687Z"
   },
   {
    "duration": 825,
    "start_time": "2024-09-16T13:50:43.660Z"
   },
   {
    "duration": 9,
    "start_time": "2024-09-16T13:51:10.033Z"
   },
   {
    "duration": 808,
    "start_time": "2024-09-16T13:51:22.260Z"
   },
   {
    "duration": 160,
    "start_time": "2024-09-16T13:51:23.070Z"
   },
   {
    "duration": 10,
    "start_time": "2024-09-16T13:51:23.232Z"
   },
   {
    "duration": 8,
    "start_time": "2024-09-16T13:51:23.244Z"
   },
   {
    "duration": 8,
    "start_time": "2024-09-16T13:51:23.254Z"
   },
   {
    "duration": 9,
    "start_time": "2024-09-16T13:51:23.264Z"
   },
   {
    "duration": 10,
    "start_time": "2024-09-16T13:51:23.274Z"
   },
   {
    "duration": 49,
    "start_time": "2024-09-16T13:51:23.286Z"
   },
   {
    "duration": 10,
    "start_time": "2024-09-16T13:51:23.337Z"
   },
   {
    "duration": 16,
    "start_time": "2024-09-16T13:51:23.350Z"
   },
   {
    "duration": 9,
    "start_time": "2024-09-16T13:51:23.368Z"
   },
   {
    "duration": 14,
    "start_time": "2024-09-16T13:51:23.379Z"
   },
   {
    "duration": 3,
    "start_time": "2024-09-16T13:51:23.394Z"
   },
   {
    "duration": 29,
    "start_time": "2024-09-16T13:51:23.432Z"
   },
   {
    "duration": 12,
    "start_time": "2024-09-16T13:51:23.463Z"
   },
   {
    "duration": 8,
    "start_time": "2024-09-16T13:51:23.477Z"
   },
   {
    "duration": 45,
    "start_time": "2024-09-16T13:51:23.487Z"
   },
   {
    "duration": 14,
    "start_time": "2024-09-16T13:51:23.534Z"
   },
   {
    "duration": 9,
    "start_time": "2024-09-16T13:51:23.550Z"
   },
   {
    "duration": 13,
    "start_time": "2024-09-16T13:51:23.560Z"
   },
   {
    "duration": 24,
    "start_time": "2024-09-16T13:51:23.575Z"
   },
   {
    "duration": 32,
    "start_time": "2024-09-16T13:51:23.601Z"
   },
   {
    "duration": 20,
    "start_time": "2024-09-16T13:51:23.635Z"
   },
   {
    "duration": 16,
    "start_time": "2024-09-16T13:51:23.657Z"
   },
   {
    "duration": 13,
    "start_time": "2024-09-16T13:51:23.674Z"
   },
   {
    "duration": 42,
    "start_time": "2024-09-16T13:51:23.689Z"
   },
   {
    "duration": 23,
    "start_time": "2024-09-16T13:51:23.733Z"
   },
   {
    "duration": 11,
    "start_time": "2024-09-16T13:51:23.761Z"
   },
   {
    "duration": 8,
    "start_time": "2024-09-16T13:51:23.774Z"
   },
   {
    "duration": 21,
    "start_time": "2024-09-16T13:51:23.784Z"
   },
   {
    "duration": 52,
    "start_time": "2024-09-16T13:51:23.806Z"
   },
   {
    "duration": 275,
    "start_time": "2024-09-16T13:51:23.859Z"
   },
   {
    "duration": 160,
    "start_time": "2024-09-16T13:51:24.137Z"
   },
   {
    "duration": 8,
    "start_time": "2024-09-16T13:51:24.299Z"
   },
   {
    "duration": 8,
    "start_time": "2024-09-16T13:51:24.308Z"
   },
   {
    "duration": 210,
    "start_time": "2024-09-16T13:51:24.332Z"
   },
   {
    "duration": 224,
    "start_time": "2024-09-16T13:51:24.544Z"
   },
   {
    "duration": 231,
    "start_time": "2024-09-16T13:51:24.769Z"
   },
   {
    "duration": 241,
    "start_time": "2024-09-16T13:51:25.002Z"
   },
   {
    "duration": 182,
    "start_time": "2024-09-16T13:51:25.245Z"
   },
   {
    "duration": 3,
    "start_time": "2024-09-16T13:51:25.432Z"
   },
   {
    "duration": 4,
    "start_time": "2024-09-16T13:51:25.437Z"
   },
   {
    "duration": 6,
    "start_time": "2024-09-16T13:51:25.443Z"
   },
   {
    "duration": 5,
    "start_time": "2024-09-16T13:51:25.451Z"
   },
   {
    "duration": 4,
    "start_time": "2024-09-16T13:51:25.457Z"
   },
   {
    "duration": 668,
    "start_time": "2024-09-16T13:51:25.463Z"
   },
   {
    "duration": 758,
    "start_time": "2024-09-16T13:51:44.587Z"
   },
   {
    "duration": 156,
    "start_time": "2024-09-16T13:51:45.347Z"
   },
   {
    "duration": 10,
    "start_time": "2024-09-16T13:51:45.504Z"
   },
   {
    "duration": 21,
    "start_time": "2024-09-16T13:51:45.516Z"
   },
   {
    "duration": 7,
    "start_time": "2024-09-16T13:51:45.539Z"
   },
   {
    "duration": 9,
    "start_time": "2024-09-16T13:51:45.548Z"
   },
   {
    "duration": 10,
    "start_time": "2024-09-16T13:51:45.559Z"
   },
   {
    "duration": 15,
    "start_time": "2024-09-16T13:51:45.571Z"
   },
   {
    "duration": 8,
    "start_time": "2024-09-16T13:51:45.587Z"
   },
   {
    "duration": 15,
    "start_time": "2024-09-16T13:51:45.630Z"
   },
   {
    "duration": 9,
    "start_time": "2024-09-16T13:51:45.647Z"
   },
   {
    "duration": 12,
    "start_time": "2024-09-16T13:51:45.658Z"
   },
   {
    "duration": 2,
    "start_time": "2024-09-16T13:51:45.672Z"
   },
   {
    "duration": 28,
    "start_time": "2024-09-16T13:51:45.676Z"
   },
   {
    "duration": 13,
    "start_time": "2024-09-16T13:51:45.732Z"
   },
   {
    "duration": 7,
    "start_time": "2024-09-16T13:51:45.746Z"
   },
   {
    "duration": 20,
    "start_time": "2024-09-16T13:51:45.755Z"
   },
   {
    "duration": 13,
    "start_time": "2024-09-16T13:51:45.777Z"
   },
   {
    "duration": 39,
    "start_time": "2024-09-16T13:51:45.792Z"
   },
   {
    "duration": 13,
    "start_time": "2024-09-16T13:51:45.833Z"
   },
   {
    "duration": 22,
    "start_time": "2024-09-16T13:51:45.847Z"
   },
   {
    "duration": 7,
    "start_time": "2024-09-16T13:51:45.871Z"
   },
   {
    "duration": 20,
    "start_time": "2024-09-16T13:51:45.880Z"
   },
   {
    "duration": 41,
    "start_time": "2024-09-16T13:51:45.903Z"
   },
   {
    "duration": 13,
    "start_time": "2024-09-16T13:51:45.945Z"
   },
   {
    "duration": 14,
    "start_time": "2024-09-16T13:51:45.959Z"
   },
   {
    "duration": 24,
    "start_time": "2024-09-16T13:51:45.974Z"
   },
   {
    "duration": 37,
    "start_time": "2024-09-16T13:51:46.002Z"
   },
   {
    "duration": 8,
    "start_time": "2024-09-16T13:51:46.040Z"
   },
   {
    "duration": 20,
    "start_time": "2024-09-16T13:51:46.050Z"
   },
   {
    "duration": 27,
    "start_time": "2024-09-16T13:51:46.071Z"
   },
   {
    "duration": 323,
    "start_time": "2024-09-16T13:51:46.100Z"
   },
   {
    "duration": 159,
    "start_time": "2024-09-16T13:51:46.431Z"
   },
   {
    "duration": 8,
    "start_time": "2024-09-16T13:51:46.592Z"
   },
   {
    "duration": 7,
    "start_time": "2024-09-16T13:51:46.602Z"
   },
   {
    "duration": 232,
    "start_time": "2024-09-16T13:51:46.611Z"
   },
   {
    "duration": 231,
    "start_time": "2024-09-16T13:51:46.845Z"
   },
   {
    "duration": 246,
    "start_time": "2024-09-16T13:51:47.078Z"
   },
   {
    "duration": 236,
    "start_time": "2024-09-16T13:51:47.327Z"
   },
   {
    "duration": 198,
    "start_time": "2024-09-16T13:51:47.565Z"
   },
   {
    "duration": 4,
    "start_time": "2024-09-16T13:51:47.766Z"
   },
   {
    "duration": 5,
    "start_time": "2024-09-16T13:51:47.772Z"
   },
   {
    "duration": 6,
    "start_time": "2024-09-16T13:51:47.779Z"
   },
   {
    "duration": 6,
    "start_time": "2024-09-16T13:51:47.786Z"
   },
   {
    "duration": 4,
    "start_time": "2024-09-16T13:51:47.793Z"
   },
   {
    "duration": 413,
    "start_time": "2024-09-16T13:51:47.831Z"
   },
   {
    "duration": 447,
    "start_time": "2024-09-16T13:53:44.603Z"
   },
   {
    "duration": 11,
    "start_time": "2024-09-16T13:54:04.202Z"
   },
   {
    "duration": 344,
    "start_time": "2024-09-16T13:55:30.136Z"
   },
   {
    "duration": 326,
    "start_time": "2024-09-16T13:55:36.252Z"
   },
   {
    "duration": 439,
    "start_time": "2024-09-16T13:56:19.505Z"
   },
   {
    "duration": 318,
    "start_time": "2024-09-16T13:57:15.646Z"
   },
   {
    "duration": 333,
    "start_time": "2024-09-16T13:57:57.414Z"
   },
   {
    "duration": 7,
    "start_time": "2024-09-16T14:03:18.133Z"
   },
   {
    "duration": 10,
    "start_time": "2024-09-17T00:09:45.437Z"
   }
  ],
  "colab": {
   "provenance": []
  },
  "kernelspec": {
   "display_name": "Python 3 (ipykernel)",
   "language": "python",
   "name": "python3"
  },
  "language_info": {
   "codemirror_mode": {
    "name": "ipython",
    "version": 3
   },
   "file_extension": ".py",
   "mimetype": "text/x-python",
   "name": "python",
   "nbconvert_exporter": "python",
   "pygments_lexer": "ipython3",
   "version": "3.9.19"
  },
  "toc": {
   "base_numbering": 1,
   "nav_menu": {},
   "number_sections": true,
   "sideBar": true,
   "skip_h1_title": false,
   "title_cell": "Table of Contents",
   "title_sidebar": "Contents",
   "toc_cell": false,
   "toc_position": {
    "height": "calc(100% - 180px)",
    "left": "10px",
    "top": "150px",
    "width": "165px"
   },
   "toc_section_display": true,
   "toc_window_display": true
  }
 },
 "nbformat": 4,
 "nbformat_minor": 1
}
